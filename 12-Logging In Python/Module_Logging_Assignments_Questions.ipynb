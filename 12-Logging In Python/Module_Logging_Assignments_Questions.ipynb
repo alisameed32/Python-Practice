{
 "cells": [
  {
   "cell_type": "markdown",
   "metadata": {},
   "source": [
    "# Module: Logging Assignments\n",
    "## Lesson: Logging\n"
   ]
  },
  {
   "cell_type": "code",
   "execution_count": 1,
   "id": "bbb6fdbe",
   "metadata": {},
   "outputs": [],
   "source": [
    "import logging"
   ]
  },
  {
   "cell_type": "markdown",
   "id": "3734920d",
   "metadata": {},
   "source": [
    "### Assignment 1: Basic Logging\n",
    "\n",
    "1. Write a Python function to create a basic logger that logs messages to a file named `app.log`.\n"
   ]
  },
  {
   "cell_type": "code",
   "execution_count": 2,
   "id": "24f42769",
   "metadata": {},
   "outputs": [],
   "source": [
    "def logger():\n",
    "    logging.basicConfig(\n",
    "        filename='app.log',\n",
    "        filemode='w',\n",
    "        level=logging.DEBUG,\n",
    "        format='%(asctime)s-%(name)s-%(levelname)s-%(message)s',\n",
    "        datefmt='%Y-%m-%d %H:%M:%S'\n",
    "    )\n",
    "\n",
    "\n",
    "logger()    "
   ]
  },
  {
   "cell_type": "markdown",
   "id": "65babd58",
   "metadata": {},
   "source": [
    "2. Modify the function to log messages of levels: DEBUG, INFO, WARNING, ERROR, and CRITICAL.\n",
    "\n"
   ]
  },
  {
   "cell_type": "code",
   "execution_count": 2,
   "id": "f35a4882",
   "metadata": {},
   "outputs": [],
   "source": [
    "def logger():\n",
    "    logging.basicConfig(\n",
    "        filename='app.log',\n",
    "        filemode='w',\n",
    "        level=logging.DEBUG,\n",
    "        format='%(asctime)s-%(name)s-%(levelname)s-%(message)s',\n",
    "        datefmt='%Y-%m-%d %H:%M:%S'\n",
    "    )\n",
    "    logging.debug(\"This is a debug message\")\n",
    "    logging.info(\"This is an info message\")\n",
    "    logging.warning(\"This is a warning message\")\n",
    "    logging.error(\"This is an error message\")\n",
    "    logging.critical(\"This is a critical message\")\n",
    "\n",
    "\n",
    "logger()    "
   ]
  },
  {
   "cell_type": "markdown",
   "id": "95bbe6d8",
   "metadata": {},
   "source": [
    "### Assignment 2: Logging with Different Handlers\n",
    "\n",
    "1. Write a Python function to create a logger that logs messages to both a file named `app.log` and the console.\n"
   ]
  },
  {
   "cell_type": "code",
   "execution_count": 4,
   "id": "11515b35",
   "metadata": {},
   "outputs": [
    {
     "name": "stderr",
     "output_type": "stream",
     "text": [
      "2025-03-07 16:41:26,051 - my_logger - DEBUG - This is a debug message\n",
      "2025-03-07 16:41:26,051 - my_logger - DEBUG - This is a debug message\n",
      "2025-03-07 16:41:26,060 - my_logger - INFO - This is an info message\n",
      "2025-03-07 16:41:26,060 - my_logger - INFO - This is an info message\n",
      "2025-03-07 16:41:26,067 - my_logger - WARNING - This is a warning message\n",
      "2025-03-07 16:41:26,067 - my_logger - WARNING - This is a warning message\n",
      "2025-03-07 16:41:26,074 - my_logger - ERROR - This is an error message\n",
      "2025-03-07 16:41:26,074 - my_logger - ERROR - This is an error message\n",
      "2025-03-07 16:41:26,081 - my_logger - CRITICAL - This is a critical message\n",
      "2025-03-07 16:41:26,081 - my_logger - CRITICAL - This is a critical message\n"
     ]
    }
   ],
   "source": [
    "def logger_with_handlers():\n",
    "    logger = logging.getLogger('my_logger')\n",
    "    logger.setLevel(logging.DEBUG)\n",
    "\n",
    "    file_handler = logging.FileHandler('app.log')\n",
    "    console_handler = logging.StreamHandler()\n",
    "\n",
    "    file_handler.setLevel(logging.DEBUG)\n",
    "    console_handler.setLevel(logging.DEBUG)\n",
    "\n",
    "    formatter = logging.Formatter('%(asctime)s - %(name)s - %(levelname)s - %(message)s')\n",
    "    file_handler.setFormatter(formatter)\n",
    "    console_handler.setFormatter(formatter)\n",
    "\n",
    "    logger.addHandler(file_handler)\n",
    "    logger.addHandler(console_handler)\n",
    "\n",
    "    logger.debug('This is a debug message')\n",
    "    logger.info('This is an info message')\n",
    "    logger.warning('This is a warning message')\n",
    "    logger.error('This is an error message')\n",
    "    logger.critical('This is a critical message')\n",
    "\n",
    "\n",
    "\n",
    "\n",
    "\n",
    "# Test the function\n",
    "logger_with_handlers()"
   ]
  },
  {
   "cell_type": "markdown",
   "id": "eb8507fc",
   "metadata": {},
   "source": [
    "### Assignment 3: Logging Exceptions\n",
    "\n",
    "1. Write a Python function that logs an exception stack trace to a log file when an exception occurs.\n"
   ]
  },
  {
   "cell_type": "code",
   "execution_count": 6,
   "id": "94e678db",
   "metadata": {},
   "outputs": [],
   "source": [
    "def log_exception():\n",
    "    logger = logging.getLogger('Exception_Logger')\n",
    "    logger.setLevel(logging.ERROR)\n",
    "\n",
    "    file_handler = logging.FileHandler('exception_app.log')\n",
    "    formatter = logging.Formatter('%(asctime)s - %(name)s - %(levelname)s - %(message)s')\n",
    "    file_handler.setFormatter(formatter)\n",
    "\n",
    "    logger.addHandler(file_handler)\n",
    "\n",
    "    try:\n",
    "        1/0\n",
    "    except ZeroDivisionError as e:\n",
    "        logger.exception(\"An exception occured\")    \n",
    "\n",
    "\n",
    "\n",
    "log_exception()"
   ]
  },
  {
   "cell_type": "markdown",
   "id": "5550c301",
   "metadata": {},
   "source": [
    "### Assignment 4: Contextual Logging\n",
    "\n",
    "1. Write a Python function to create a logger that includes contextual information (e.g., function name, line number) in the log messages.\n"
   ]
  },
  {
   "cell_type": "code",
   "execution_count": 8,
   "id": "3daee9ec",
   "metadata": {},
   "outputs": [],
   "source": [
    "def contextual_logger():\n",
    "    logger = logging.getLogger('contextual')\n",
    "    logger.setLevel(logging.DEBUG)\n",
    "\n",
    "    file_handler = logging.FileHandler('context.log')\n",
    "    formatter = logging.Formatter('%(asctime)s - %(name)s - %(levelname)s - %(message)s')\n",
    "    file_handler.setFormatter(formatter)\n",
    "\n",
    "    logger.addHandler(file_handler)\n",
    "\n",
    "    def test_func():\n",
    "        logger.debug('This is a debug message')\n",
    "        logger.info('This is an info message')\n",
    "        logger.warning('This is a warning message')\n",
    "        logger.error('This is an error message')\n",
    "        logger.critical('This is a critical message')\n",
    "    \n",
    "    test_func()\n",
    "    \n",
    "\n",
    "\n",
    "contextual_logger()\n",
    "\n"
   ]
  },
  {
   "cell_type": "markdown",
   "id": "c5126d2b",
   "metadata": {},
   "source": [
    "2. Modify the function to include additional contextual information (e.g., user ID, session ID).\n",
    "\n"
   ]
  },
  {
   "cell_type": "code",
   "execution_count": 9,
   "id": "0660b1e2",
   "metadata": {},
   "outputs": [],
   "source": [
    "def contextual_logger(user_id,session_id):\n",
    "    logger = logging.getLogger('contextual')\n",
    "    logger.setLevel(logging.DEBUG)\n",
    "\n",
    "    file_handler = logging.FileHandler('context.log')\n",
    "    formatter = logging.Formatter('%(asctime)s - %(name)s - %(levelname)s - %(message)s')\n",
    "    file_handler.setFormatter(formatter)\n",
    "\n",
    "    logger.addHandler(file_handler)\n",
    "    extra = {'user_id': user_id, 'session_id': session_id}\n",
    "\n",
    "    def test_func():\n",
    "        logger.debug('This is a debug message')\n",
    "        logger.info('This is an info message')\n",
    "        logger.warning('This is a warning message')\n",
    "        logger.error('This is an error message')\n",
    "        logger.critical('This is a critical message')\n",
    "    \n",
    "    test_func()\n",
    "    \n",
    "\n",
    "\n",
    "contextual_logger('user123', 'session456')\n",
    "\n"
   ]
  },
  {
   "cell_type": "markdown",
   "id": "b56bd15e",
   "metadata": {},
   "source": [
    "### Assignment 7: Configuring Logging with a Dictionary\n",
    "\n",
    "1. Write a Python function to configure logging using a dictionary. The configuration should include handlers for both file and console logging.\n"
   ]
  },
  {
   "cell_type": "markdown",
   "id": "9fb4ecd4",
   "metadata": {},
   "source": [
    "2. Modify the dictionary to include different logging levels and formats for each handler.\n",
    "\n"
   ]
  },
  {
   "cell_type": "markdown",
   "id": "1248eee1",
   "metadata": {},
   "source": [
    "### Assignment 8: Logging in a Multi-Module Application\n",
    "\n",
    "1. Write a Python script that sets up logging for a multi-module application. Each module should have its own logger.\n"
   ]
  },
  {
   "cell_type": "markdown",
   "id": "322afefa",
   "metadata": {},
   "source": [
    "2. Modify the script to propagate log messages from each module's logger to a root logger that handles logging to a file.\n",
    "\n"
   ]
  },
  {
   "cell_type": "markdown",
   "id": "92c21cf0",
   "metadata": {},
   "source": [
    "### Assignment 9: Logging Performance\n",
    "\n",
    "1. Write a Python script to benchmark the performance of logging with different handlers (e.g., file handler, console handler, rotating file handler).\n"
   ]
  },
  {
   "cell_type": "markdown",
   "id": "860326d1",
   "metadata": {},
   "source": [
    "2. Modify the script to compare the performance of logging with and without message formatting.\n",
    "\n"
   ]
  },
  {
   "cell_type": "markdown",
   "id": "146f8629",
   "metadata": {},
   "source": [
    "### Assignment 10: Advanced Logging Configuration\n",
    "\n",
    "1. Write a Python function to configure logging using an external configuration file (e.g., `logging.conf`). The configuration should include handlers for file and console logging.\n"
   ]
  },
  {
   "cell_type": "markdown",
   "id": "a1557fd4",
   "metadata": {},
   "source": [
    "2. Modify the configuration file to use different logging levels and formats for each handler."
   ]
  },
  {
   "cell_type": "code",
   "execution_count": null,
   "metadata": {},
   "outputs": [],
   "source": []
  }
 ],
 "metadata": {
  "kernelspec": {
   "display_name": "Python 3",
   "language": "python",
   "name": "python3"
  },
  "language_info": {
   "codemirror_mode": {
    "name": "ipython",
    "version": 3
   },
   "file_extension": ".py",
   "mimetype": "text/x-python",
   "name": "python",
   "nbconvert_exporter": "python",
   "pygments_lexer": "ipython3",
   "version": "3.12.0"
  }
 },
 "nbformat": 4,
 "nbformat_minor": 5
}
