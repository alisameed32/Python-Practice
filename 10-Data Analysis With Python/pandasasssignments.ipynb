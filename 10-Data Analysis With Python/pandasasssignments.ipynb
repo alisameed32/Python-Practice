{
 "cells": [
  {
   "cell_type": "markdown",
   "metadata": {},
   "source": [
    "# Module: Pandas Assignments\n",
    "## Lesson: Pandas\n"
   ]
  },
  {
   "cell_type": "code",
   "execution_count": 1,
   "id": "66fd6d1d",
   "metadata": {},
   "outputs": [],
   "source": [
    "import pandas as pd\n",
    "import numpy as np"
   ]
  },
  {
   "cell_type": "markdown",
   "id": "2256e22b",
   "metadata": {},
   "source": [
    "### Assignment 1: DataFrame Creation and Indexing\n",
    "\n",
    "1. Create a Pandas DataFrame with 4 columns and 6 rows filled with random integers. Set the index to be the first column.\n"
   ]
  },
  {
   "cell_type": "code",
   "execution_count": 7,
   "id": "34fc5d9f",
   "metadata": {},
   "outputs": [
    {
     "data": {
      "text/html": [
       "<div>\n",
       "<style scoped>\n",
       "    .dataframe tbody tr th:only-of-type {\n",
       "        vertical-align: middle;\n",
       "    }\n",
       "\n",
       "    .dataframe tbody tr th {\n",
       "        vertical-align: top;\n",
       "    }\n",
       "\n",
       "    .dataframe thead th {\n",
       "        text-align: right;\n",
       "    }\n",
       "</style>\n",
       "<table border=\"1\" class=\"dataframe\">\n",
       "  <thead>\n",
       "    <tr style=\"text-align: right;\">\n",
       "      <th></th>\n",
       "      <th>B</th>\n",
       "      <th>C</th>\n",
       "      <th>D</th>\n",
       "    </tr>\n",
       "    <tr>\n",
       "      <th>A</th>\n",
       "      <th></th>\n",
       "      <th></th>\n",
       "      <th></th>\n",
       "    </tr>\n",
       "  </thead>\n",
       "  <tbody>\n",
       "    <tr>\n",
       "      <th>3</th>\n",
       "      <td>16</td>\n",
       "      <td>9</td>\n",
       "      <td>7</td>\n",
       "    </tr>\n",
       "    <tr>\n",
       "      <th>20</th>\n",
       "      <td>15</td>\n",
       "      <td>19</td>\n",
       "      <td>12</td>\n",
       "    </tr>\n",
       "    <tr>\n",
       "      <th>7</th>\n",
       "      <td>1</td>\n",
       "      <td>7</td>\n",
       "      <td>16</td>\n",
       "    </tr>\n",
       "    <tr>\n",
       "      <th>20</th>\n",
       "      <td>12</td>\n",
       "      <td>1</td>\n",
       "      <td>15</td>\n",
       "    </tr>\n",
       "    <tr>\n",
       "      <th>6</th>\n",
       "      <td>20</td>\n",
       "      <td>10</td>\n",
       "      <td>2</td>\n",
       "    </tr>\n",
       "    <tr>\n",
       "      <th>1</th>\n",
       "      <td>14</td>\n",
       "      <td>11</td>\n",
       "      <td>16</td>\n",
       "    </tr>\n",
       "  </tbody>\n",
       "</table>\n",
       "</div>"
      ],
      "text/plain": [
       "     B   C   D\n",
       "A             \n",
       "3   16   9   7\n",
       "20  15  19  12\n",
       "7    1   7  16\n",
       "20  12   1  15\n",
       "6   20  10   2\n",
       "1   14  11  16"
      ]
     },
     "execution_count": 7,
     "metadata": {},
     "output_type": "execute_result"
    }
   ],
   "source": [
    "arr = np.random.randint(1,21,size=(6,4))\n",
    "\n",
    "df = pd.DataFrame(arr,columns=['A', 'B', 'C', 'D'])\n",
    "df.set_index('A', inplace=True)\n",
    "df"
   ]
  },
  {
   "cell_type": "markdown",
   "id": "5e4579c0",
   "metadata": {},
   "source": [
    "2. Create a Pandas DataFrame with columns 'A', 'B', 'C' and index 'X', 'Y', 'Z'. Fill the DataFrame with random integers and access the element at row 'Y' and column 'B'.\n",
    "\n"
   ]
  },
  {
   "cell_type": "code",
   "execution_count": 21,
   "id": "67a6822c",
   "metadata": {},
   "outputs": [
    {
     "name": "stdout",
     "output_type": "stream",
     "text": [
      "8\n"
     ]
    }
   ],
   "source": [
    "df = pd.DataFrame(np.random.randint(1,101,size=(3,3)), columns=['A', 'B', 'C'], index=['X','Y', 'Z'])\n",
    "\n",
    "\n",
    "print(df.at['Y','B'])\n"
   ]
  },
  {
   "cell_type": "markdown",
   "id": "2e365eec",
   "metadata": {},
   "source": [
    "### Assignment 2: DataFrame Operations\n",
    "\n",
    "1. Create a Pandas DataFrame with 3 columns and 5 rows filled with random integers. Add a new column that is the product of the first two columns.\n"
   ]
  },
  {
   "cell_type": "code",
   "execution_count": 25,
   "id": "ad37a186",
   "metadata": {},
   "outputs": [
    {
     "data": {
      "text/html": [
       "<div>\n",
       "<style scoped>\n",
       "    .dataframe tbody tr th:only-of-type {\n",
       "        vertical-align: middle;\n",
       "    }\n",
       "\n",
       "    .dataframe tbody tr th {\n",
       "        vertical-align: top;\n",
       "    }\n",
       "\n",
       "    .dataframe thead th {\n",
       "        text-align: right;\n",
       "    }\n",
       "</style>\n",
       "<table border=\"1\" class=\"dataframe\">\n",
       "  <thead>\n",
       "    <tr style=\"text-align: right;\">\n",
       "      <th></th>\n",
       "      <th>A</th>\n",
       "      <th>B</th>\n",
       "      <th>C</th>\n",
       "      <th>new_column</th>\n",
       "    </tr>\n",
       "  </thead>\n",
       "  <tbody>\n",
       "    <tr>\n",
       "      <th>0</th>\n",
       "      <td>4</td>\n",
       "      <td>71</td>\n",
       "      <td>77</td>\n",
       "      <td>284</td>\n",
       "    </tr>\n",
       "    <tr>\n",
       "      <th>1</th>\n",
       "      <td>39</td>\n",
       "      <td>39</td>\n",
       "      <td>78</td>\n",
       "      <td>1521</td>\n",
       "    </tr>\n",
       "    <tr>\n",
       "      <th>2</th>\n",
       "      <td>25</td>\n",
       "      <td>56</td>\n",
       "      <td>41</td>\n",
       "      <td>1400</td>\n",
       "    </tr>\n",
       "    <tr>\n",
       "      <th>3</th>\n",
       "      <td>5</td>\n",
       "      <td>83</td>\n",
       "      <td>80</td>\n",
       "      <td>415</td>\n",
       "    </tr>\n",
       "    <tr>\n",
       "      <th>4</th>\n",
       "      <td>43</td>\n",
       "      <td>8</td>\n",
       "      <td>19</td>\n",
       "      <td>344</td>\n",
       "    </tr>\n",
       "  </tbody>\n",
       "</table>\n",
       "</div>"
      ],
      "text/plain": [
       "    A   B   C  new_column\n",
       "0   4  71  77         284\n",
       "1  39  39  78        1521\n",
       "2  25  56  41        1400\n",
       "3   5  83  80         415\n",
       "4  43   8  19         344"
      ]
     },
     "execution_count": 25,
     "metadata": {},
     "output_type": "execute_result"
    }
   ],
   "source": [
    "df = pd.DataFrame(np.random.randint(1,101,size=(5,3)), columns=['A','B','C'])\n",
    "df\n",
    "\n",
    "df['new_column'] = df['A']*df['B']\n",
    "df"
   ]
  },
  {
   "cell_type": "markdown",
   "id": "4c785870",
   "metadata": {},
   "source": [
    "2. Create a Pandas DataFrame with 3 columns and 4 rows filled with random integers. Compute the row-wise and column-wise sum.\n",
    "\n"
   ]
  },
  {
   "cell_type": "code",
   "execution_count": 30,
   "id": "45deb9ce",
   "metadata": {},
   "outputs": [
    {
     "name": "stdout",
     "output_type": "stream",
     "text": [
      "    0   1   2\n",
      "0  29  89  31\n",
      "1  98  90  80\n",
      "2  31  72  54\n",
      "3  76  42  82\n",
      "\n",
      "Row Wise: 0    234\n",
      "1    293\n",
      "2    247\n",
      "dtype: int64\n",
      "\n",
      "Column Wise: 0    149\n",
      "1    268\n",
      "2    157\n",
      "3    200\n",
      "dtype: int64\n"
     ]
    }
   ],
   "source": [
    "df = pd.DataFrame(np.random.randint(1,101,size=(4,3)))\n",
    "print(df)\n",
    "\n",
    "row_wise = df.sum(axis=0)\n",
    "col_wise = df.sum(axis=1)\n",
    "print()\n",
    "print(f\"Row Wise: {row_wise}\\n\")\n",
    "print(f\"Column Wise: {col_wise}\")"
   ]
  },
  {
   "cell_type": "markdown",
   "id": "03bd1792",
   "metadata": {},
   "source": [
    "### Assignment 3: Data Cleaning\n",
    "\n",
    "1. Create a Pandas DataFrame with 3 columns and 5 rows filled with random integers. Introduce some NaN values. Fill the NaN values with the mean of the respective columns.\n"
   ]
  },
  {
   "cell_type": "code",
   "execution_count": 37,
   "id": "51aaba0b",
   "metadata": {},
   "outputs": [
    {
     "name": "stdout",
     "output_type": "stream",
     "text": [
      "    A   B   C\n",
      "0  87  12  91\n",
      "1  89  25   2\n",
      "2  88  42   9\n",
      "3  13  78  80\n",
      "4  61   5  67\n",
      "\n",
      "      A     B     C\n",
      "0   NaN  12.0   NaN\n",
      "1  89.0   NaN   2.0\n",
      "2  88.0  42.0   9.0\n",
      "3  13.0  78.0   NaN\n",
      "4  61.0   5.0  67.0\n",
      "\n",
      "       A      B     C\n",
      "0  62.75  12.00  26.0\n",
      "1  89.00  34.25   2.0\n",
      "2  88.00  42.00   9.0\n",
      "3  13.00  78.00  26.0\n",
      "4  61.00   5.00  67.0\n"
     ]
    }
   ],
   "source": [
    "df = pd.DataFrame(np.random.randint(1,101,size=(5,3)), columns=['A','B','C'])\n",
    "print(df)\n",
    "\n",
    "df.iloc[0,0] = np.nan\n",
    "df.iloc[1,1] = np.nan\n",
    "df.iloc[0,2] = np.nan\n",
    "df.iloc[3,2] = np.nan\n",
    "\n",
    "print(f\"\\n{df}\\n\")\n",
    "\n",
    "\n",
    "df = df.fillna(df.mean())\n",
    "\n",
    "print(df)"
   ]
  },
  {
   "cell_type": "markdown",
   "id": "819ea82c",
   "metadata": {},
   "source": [
    "2. Create a Pandas DataFrame with 4 columns and 6 rows filled with random integers. Introduce some NaN values. Drop the rows with any NaN values.\n",
    "\n"
   ]
  },
  {
   "cell_type": "code",
   "execution_count": 41,
   "id": "a692af4f",
   "metadata": {},
   "outputs": [
    {
     "name": "stdout",
     "output_type": "stream",
     "text": [
      "    A   B   C\n",
      "0  30  56  52\n",
      "1  69  47  66\n",
      "2  31  66  81\n",
      "3  51  35  62\n",
      "4  18  44  72\n",
      "\n",
      "      A     B     C\n",
      "0   NaN  56.0   NaN\n",
      "1  69.0   NaN  66.0\n",
      "2  31.0  66.0  81.0\n",
      "3  51.0  35.0   NaN\n",
      "4  18.0  44.0  72.0\n",
      "\n",
      "      A     B     C\n",
      "2  31.0  66.0  81.0\n",
      "4  18.0  44.0  72.0\n"
     ]
    }
   ],
   "source": [
    "df = pd.DataFrame(np.random.randint(1,101,size=(5,3)), columns=['A','B','C'])\n",
    "print(df)\n",
    "\n",
    "df.iloc[0,0] = np.nan\n",
    "df.iloc[1,1] = np.nan\n",
    "df.iloc[0,2] = np.nan\n",
    "df.iloc[3,2] = np.nan\n",
    "\n",
    "print(f\"\\n{df}\\n\")\n",
    "\n",
    "df = df.dropna()\n",
    "\n",
    "print(df)\n"
   ]
  },
  {
   "cell_type": "markdown",
   "id": "b6485183",
   "metadata": {},
   "source": [
    "### Assignment 4: Data Aggregation\n",
    "\n",
    "1. Create a Pandas DataFrame with 2 columns: 'Category' and 'Value'. Fill the 'Category' column with random categories ('A', 'B', 'C') and the 'Value' column with random integers. Group the DataFrame by 'Category' and compute the sum and mean of 'Value' for each category.\n"
   ]
  },
  {
   "cell_type": "code",
   "execution_count": null,
   "id": "c16091b3",
   "metadata": {},
   "outputs": [
    {
     "name": "stdout",
     "output_type": "stream",
     "text": [
      "Category\n",
      "A    33\n",
      "B    83\n",
      "C    92\n",
      "Name: Value, dtype: int32\n"
     ]
    }
   ],
   "source": [
    "df = pd.DataFrame(columns=['Category', 'Value'])\n",
    "df\n",
    "\n",
    "cate = ['A','B','C']\n",
    "\n",
    "\n",
    "df['Category'] = np.random.choice(cate,21)\n",
    "df['Value'] = np.random.randint(1,21,size=21)\n",
    "\n",
    "group_sum_mean = df.groupby('Category')['Value'].agg('sum','mean')\n",
    "print(group_sum_mean)"
   ]
  },
  {
   "cell_type": "markdown",
   "id": "b7d41324",
   "metadata": {},
   "source": [
    "2. Create a Pandas DataFrame with 3 columns: 'Product', 'Category', and 'Sales'. Fill the DataFrame with random data. Group the DataFrame by 'Category' and compute the total sales for each category.\n",
    "\n"
   ]
  },
  {
   "cell_type": "code",
   "execution_count": 55,
   "id": "8b286170",
   "metadata": {},
   "outputs": [
    {
     "name": "stdout",
     "output_type": "stream",
     "text": [
      "Category\n",
      "A    2456\n",
      "B    5993\n",
      "C    2561\n",
      "Name: Sales, dtype: int32\n"
     ]
    }
   ],
   "source": [
    "df = pd.DataFrame(columns=['Product','Category', 'Sales'])\n",
    "df\n",
    "\n",
    "cate = ['A','B','C']\n",
    "pro = ['U','V','X','Y','Z']\n",
    "\n",
    "df['Product'] = np.random.choice(pro,21)\n",
    "df['Category'] = np.random.choice(cate,21)\n",
    "df['Sales'] = np.random.randint(100,1000,size=21)\n",
    "df\n",
    "\n",
    "\n",
    "total_sales_by_cate = df.groupby('Category')['Sales'].sum()\n",
    "print(total_sales_by_cate)"
   ]
  },
  {
   "cell_type": "markdown",
   "id": "c93a4e8b",
   "metadata": {},
   "source": [
    "### Assignment 5: Merging DataFrames\n",
    "\n",
    "1. Create two Pandas DataFrames with a common column. Merge the DataFrames using the common column.\n"
   ]
  },
  {
   "cell_type": "code",
   "execution_count": 58,
   "id": "7e2d5d33",
   "metadata": {},
   "outputs": [
    {
     "name": "stdout",
     "output_type": "stream",
     "text": [
      "  Key  Value\n",
      "0   A     12\n",
      "1   B     34\n",
      "2   C     56\n",
      "\n",
      "  Key  Value\n",
      "0   A     12\n",
      "1   F     34\n",
      "2   C     56\n",
      "\n"
     ]
    },
    {
     "data": {
      "text/html": [
       "<div>\n",
       "<style scoped>\n",
       "    .dataframe tbody tr th:only-of-type {\n",
       "        vertical-align: middle;\n",
       "    }\n",
       "\n",
       "    .dataframe tbody tr th {\n",
       "        vertical-align: top;\n",
       "    }\n",
       "\n",
       "    .dataframe thead th {\n",
       "        text-align: right;\n",
       "    }\n",
       "</style>\n",
       "<table border=\"1\" class=\"dataframe\">\n",
       "  <thead>\n",
       "    <tr style=\"text-align: right;\">\n",
       "      <th></th>\n",
       "      <th>Key</th>\n",
       "      <th>Value_x</th>\n",
       "      <th>Value_y</th>\n",
       "    </tr>\n",
       "  </thead>\n",
       "  <tbody>\n",
       "    <tr>\n",
       "      <th>0</th>\n",
       "      <td>A</td>\n",
       "      <td>12</td>\n",
       "      <td>12</td>\n",
       "    </tr>\n",
       "    <tr>\n",
       "      <th>1</th>\n",
       "      <td>C</td>\n",
       "      <td>56</td>\n",
       "      <td>56</td>\n",
       "    </tr>\n",
       "  </tbody>\n",
       "</table>\n",
       "</div>"
      ],
      "text/plain": [
       "  Key  Value_x  Value_y\n",
       "0   A       12       12\n",
       "1   C       56       56"
      ]
     },
     "execution_count": 58,
     "metadata": {},
     "output_type": "execute_result"
    }
   ],
   "source": [
    "df1 = pd.DataFrame({'Key': ['A','B','C'], 'Value': [12,34,56]})\n",
    "df2 = pd.DataFrame({'Key': ['A','F','C'], 'Value': [12,34,56]})\n",
    "\n",
    "\n",
    "print(df1)\n",
    "print(f'\\n{df2}\\n')\n",
    "\n",
    "df3 = pd.merge(df1,df2,on='Key',how='inner')\n",
    "df3"
   ]
  },
  {
   "cell_type": "markdown",
   "id": "b727281a",
   "metadata": {},
   "source": [
    "2. Create two Pandas DataFrames with different columns. Concatenate the DataFrames along the rows and along the columns.\n",
    "\n"
   ]
  },
  {
   "cell_type": "code",
   "execution_count": 61,
   "id": "3d053f6a",
   "metadata": {},
   "outputs": [
    {
     "name": "stdout",
     "output_type": "stream",
     "text": [
      "  Key  Value\n",
      "0   A     12\n",
      "1   B     34\n",
      "2   C     56\n",
      "\n",
      "  Key  Value\n",
      "0   A     12\n",
      "1   F     34\n",
      "2   C     56\n",
      "\n",
      "Row Wise: \n",
      "   Key  Value\n",
      "0   A     12\n",
      "1   B     34\n",
      "2   C     56\n",
      "0   A     12\n",
      "1   F     34\n",
      "2   C     56 \n",
      "\n",
      "Col Wise: \n",
      "   Key  Value Key  Value\n",
      "0   A     12   A     12\n",
      "1   B     34   F     34\n",
      "2   C     56   C     56\n"
     ]
    }
   ],
   "source": [
    "df1 = pd.DataFrame({'Key': ['A','B','C'], 'Value': [12,34,56]})\n",
    "df2 = pd.DataFrame({'Key': ['A','F','C'], 'Value': [12,34,56]})\n",
    "\n",
    "\n",
    "print(df1)\n",
    "print(f'\\n{df2}\\n')\n",
    "\n",
    "row_wise = pd.concat([df1,df2],axis=0)\n",
    "col_wise = pd.concat([df1,df2],axis=1)\n",
    "\n",
    "print(f'Row Wise: \\n {row_wise} \\n')\n",
    "print(f'Col Wise: \\n {col_wise}')"
   ]
  },
  {
   "cell_type": "markdown",
   "id": "5565b2a0",
   "metadata": {},
   "source": [
    "### Assignment 6: Time Series Analysis\n",
    "\n",
    "1. Create a Pandas DataFrame with a datetime index and one column filled with random integers. Resample the DataFrame to compute the monthly mean of the values.\n"
   ]
  },
  {
   "cell_type": "markdown",
   "id": "606606a8",
   "metadata": {},
   "source": [
    "2. Create a Pandas DataFrame with a datetime index ranging from '2021-01-01' to '2021-12-31' and one column filled with random integers. Compute the rolling mean with a window of 7 days.\n",
    "\n"
   ]
  },
  {
   "cell_type": "markdown",
   "id": "87fc9666",
   "metadata": {},
   "source": [
    "### Assignment 7: MultiIndex DataFrame\n",
    "\n",
    "1. Create a Pandas DataFrame with a MultiIndex (hierarchical index). Perform some basic indexing and slicing operations on the MultiIndex DataFrame.\n"
   ]
  },
  {
   "cell_type": "markdown",
   "id": "f9ac94b5",
   "metadata": {},
   "source": [
    "2. Create a Pandas DataFrame with MultiIndex consisting of 'Category' and 'SubCategory'. Fill the DataFrame with random data and compute the sum of values for each 'Category' and 'SubCategory'.\n",
    "\n"
   ]
  },
  {
   "cell_type": "markdown",
   "id": "0a4ee26d",
   "metadata": {},
   "source": [
    "### Assignment 8: Pivot Tables\n",
    "\n",
    "1. Create a Pandas DataFrame with columns 'Date', 'Category', and 'Value'. Create a pivot table to compute the sum of 'Value' for each 'Category' by 'Date'.\n"
   ]
  },
  {
   "cell_type": "code",
   "execution_count": 74,
   "id": "4c68a6d9",
   "metadata": {},
   "outputs": [
    {
     "name": "stdout",
     "output_type": "stream",
     "text": [
      "Original DataFrame:\n",
      "         Date Category  Value\n",
      "0  2022-01-06        C      2\n",
      "1  2022-01-09        C     95\n",
      "2  2022-01-04        C     64\n",
      "3  2022-01-07        A     10\n",
      "4  2022-01-01        C      8\n",
      "5  2022-01-03        C     62\n",
      "6  2022-01-04        B     27\n",
      "7  2022-01-01        B     63\n",
      "8  2022-01-02        C      4\n",
      "9  2022-01-08        C     51\n",
      "10 2022-01-04        C     55\n",
      "11 2022-01-05        B     48\n",
      "12 2022-01-07        A     89\n",
      "13 2022-01-08        C     88\n",
      "14 2022-01-08        B     11\n",
      "15 2022-01-10        C     40\n",
      "16 2022-01-03        A     75\n",
      "17 2022-01-03        C     32\n",
      "18 2022-01-06        C     38\n",
      "19 2022-01-06        B     57\n"
     ]
    },
    {
     "data": {
      "text/html": [
       "<div>\n",
       "<style scoped>\n",
       "    .dataframe tbody tr th:only-of-type {\n",
       "        vertical-align: middle;\n",
       "    }\n",
       "\n",
       "    .dataframe tbody tr th {\n",
       "        vertical-align: top;\n",
       "    }\n",
       "\n",
       "    .dataframe thead th {\n",
       "        text-align: right;\n",
       "    }\n",
       "</style>\n",
       "<table border=\"1\" class=\"dataframe\">\n",
       "  <thead>\n",
       "    <tr style=\"text-align: right;\">\n",
       "      <th>Category</th>\n",
       "      <th>A</th>\n",
       "      <th>B</th>\n",
       "      <th>C</th>\n",
       "    </tr>\n",
       "    <tr>\n",
       "      <th>Date</th>\n",
       "      <th></th>\n",
       "      <th></th>\n",
       "      <th></th>\n",
       "    </tr>\n",
       "  </thead>\n",
       "  <tbody>\n",
       "    <tr>\n",
       "      <th>2022-01-01</th>\n",
       "      <td>NaN</td>\n",
       "      <td>63.0</td>\n",
       "      <td>8.0</td>\n",
       "    </tr>\n",
       "    <tr>\n",
       "      <th>2022-01-02</th>\n",
       "      <td>NaN</td>\n",
       "      <td>NaN</td>\n",
       "      <td>4.0</td>\n",
       "    </tr>\n",
       "    <tr>\n",
       "      <th>2022-01-03</th>\n",
       "      <td>75.0</td>\n",
       "      <td>NaN</td>\n",
       "      <td>94.0</td>\n",
       "    </tr>\n",
       "    <tr>\n",
       "      <th>2022-01-04</th>\n",
       "      <td>NaN</td>\n",
       "      <td>27.0</td>\n",
       "      <td>119.0</td>\n",
       "    </tr>\n",
       "    <tr>\n",
       "      <th>2022-01-05</th>\n",
       "      <td>NaN</td>\n",
       "      <td>48.0</td>\n",
       "      <td>NaN</td>\n",
       "    </tr>\n",
       "    <tr>\n",
       "      <th>2022-01-06</th>\n",
       "      <td>NaN</td>\n",
       "      <td>57.0</td>\n",
       "      <td>40.0</td>\n",
       "    </tr>\n",
       "    <tr>\n",
       "      <th>2022-01-07</th>\n",
       "      <td>99.0</td>\n",
       "      <td>NaN</td>\n",
       "      <td>NaN</td>\n",
       "    </tr>\n",
       "    <tr>\n",
       "      <th>2022-01-08</th>\n",
       "      <td>NaN</td>\n",
       "      <td>11.0</td>\n",
       "      <td>139.0</td>\n",
       "    </tr>\n",
       "    <tr>\n",
       "      <th>2022-01-09</th>\n",
       "      <td>NaN</td>\n",
       "      <td>NaN</td>\n",
       "      <td>95.0</td>\n",
       "    </tr>\n",
       "    <tr>\n",
       "      <th>2022-01-10</th>\n",
       "      <td>NaN</td>\n",
       "      <td>NaN</td>\n",
       "      <td>40.0</td>\n",
       "    </tr>\n",
       "  </tbody>\n",
       "</table>\n",
       "</div>"
      ],
      "text/plain": [
       "Category       A     B      C\n",
       "Date                         \n",
       "2022-01-01   NaN  63.0    8.0\n",
       "2022-01-02   NaN   NaN    4.0\n",
       "2022-01-03  75.0   NaN   94.0\n",
       "2022-01-04   NaN  27.0  119.0\n",
       "2022-01-05   NaN  48.0    NaN\n",
       "2022-01-06   NaN  57.0   40.0\n",
       "2022-01-07  99.0   NaN    NaN\n",
       "2022-01-08   NaN  11.0  139.0\n",
       "2022-01-09   NaN   NaN   95.0\n",
       "2022-01-10   NaN   NaN   40.0"
      ]
     },
     "execution_count": 74,
     "metadata": {},
     "output_type": "execute_result"
    }
   ],
   "source": [
    "date_rng = pd.date_range(start='2022-01-01', end='2022-01-10', freq='D')\n",
    "df = pd.DataFrame({'Date': np.random.choice(date_rng, size=20), 'Category': np.random.choice(['A', 'B', 'C'], size=20), 'Value': np.random.randint(1, 100, size=20)})\n",
    "print(\"Original DataFrame:\")\n",
    "print(df)\n",
    "\n",
    "pivot_table = df.pivot_table(values='Value', index='Date',columns='Category', aggfunc='sum')\n",
    "\n",
    "pivot_table\n"
   ]
  },
  {
   "cell_type": "markdown",
   "id": "6c34846c",
   "metadata": {},
   "source": [
    "2. Create a Pandas DataFrame with columns 'Year', 'Quarter', and 'Revenue'. Create a pivot table to compute the mean 'Revenue' for each 'Quarter' by 'Year'.\n",
    "\n"
   ]
  },
  {
   "cell_type": "markdown",
   "id": "0dfa0f7e",
   "metadata": {},
   "source": [
    "### Assignment 9: Applying Functions\n",
    "\n",
    "1. Create a Pandas DataFrame with 3 columns and 5 rows filled with random integers. Apply a function that doubles the values of the DataFrame.\n"
   ]
  },
  {
   "cell_type": "code",
   "execution_count": 64,
   "id": "d8412590",
   "metadata": {},
   "outputs": [
    {
     "name": "stdout",
     "output_type": "stream",
     "text": [
      "\n",
      "   Product  Price\n",
      "0        B     18\n",
      "1        C     12\n",
      "2        B     39\n",
      "3        B     44\n",
      "4        C      7\n",
      "5        C      6\n",
      "6        C      8\n",
      "7        B     87\n",
      "8        A     92\n",
      "9        A     46\n",
      "10       C     92\n",
      "\n"
     ]
    },
    {
     "data": {
      "text/html": [
       "<div>\n",
       "<style scoped>\n",
       "    .dataframe tbody tr th:only-of-type {\n",
       "        vertical-align: middle;\n",
       "    }\n",
       "\n",
       "    .dataframe tbody tr th {\n",
       "        vertical-align: top;\n",
       "    }\n",
       "\n",
       "    .dataframe thead th {\n",
       "        text-align: right;\n",
       "    }\n",
       "</style>\n",
       "<table border=\"1\" class=\"dataframe\">\n",
       "  <thead>\n",
       "    <tr style=\"text-align: right;\">\n",
       "      <th></th>\n",
       "      <th>Product</th>\n",
       "      <th>Price</th>\n",
       "      <th>New_Price</th>\n",
       "    </tr>\n",
       "  </thead>\n",
       "  <tbody>\n",
       "    <tr>\n",
       "      <th>0</th>\n",
       "      <td>B</td>\n",
       "      <td>18</td>\n",
       "      <td>19.8</td>\n",
       "    </tr>\n",
       "    <tr>\n",
       "      <th>1</th>\n",
       "      <td>C</td>\n",
       "      <td>12</td>\n",
       "      <td>13.2</td>\n",
       "    </tr>\n",
       "    <tr>\n",
       "      <th>2</th>\n",
       "      <td>B</td>\n",
       "      <td>39</td>\n",
       "      <td>42.9</td>\n",
       "    </tr>\n",
       "    <tr>\n",
       "      <th>3</th>\n",
       "      <td>B</td>\n",
       "      <td>44</td>\n",
       "      <td>48.4</td>\n",
       "    </tr>\n",
       "    <tr>\n",
       "      <th>4</th>\n",
       "      <td>C</td>\n",
       "      <td>7</td>\n",
       "      <td>7.7</td>\n",
       "    </tr>\n",
       "    <tr>\n",
       "      <th>5</th>\n",
       "      <td>C</td>\n",
       "      <td>6</td>\n",
       "      <td>6.6</td>\n",
       "    </tr>\n",
       "    <tr>\n",
       "      <th>6</th>\n",
       "      <td>C</td>\n",
       "      <td>8</td>\n",
       "      <td>8.8</td>\n",
       "    </tr>\n",
       "    <tr>\n",
       "      <th>7</th>\n",
       "      <td>B</td>\n",
       "      <td>87</td>\n",
       "      <td>95.7</td>\n",
       "    </tr>\n",
       "    <tr>\n",
       "      <th>8</th>\n",
       "      <td>A</td>\n",
       "      <td>92</td>\n",
       "      <td>101.2</td>\n",
       "    </tr>\n",
       "    <tr>\n",
       "      <th>9</th>\n",
       "      <td>A</td>\n",
       "      <td>46</td>\n",
       "      <td>50.6</td>\n",
       "    </tr>\n",
       "    <tr>\n",
       "      <th>10</th>\n",
       "      <td>C</td>\n",
       "      <td>92</td>\n",
       "      <td>101.2</td>\n",
       "    </tr>\n",
       "  </tbody>\n",
       "</table>\n",
       "</div>"
      ],
      "text/plain": [
       "   Product  Price  New_Price\n",
       "0        B     18       19.8\n",
       "1        C     12       13.2\n",
       "2        B     39       42.9\n",
       "3        B     44       48.4\n",
       "4        C      7        7.7\n",
       "5        C      6        6.6\n",
       "6        C      8        8.8\n",
       "7        B     87       95.7\n",
       "8        A     92      101.2\n",
       "9        A     46       50.6\n",
       "10       C     92      101.2"
      ]
     },
     "execution_count": 64,
     "metadata": {},
     "output_type": "execute_result"
    }
   ],
   "source": [
    "df = pd.DataFrame(columns=['Product','Price'])\n",
    "df \n",
    "\n",
    "pro = ['A','B','C']\n",
    "\n",
    "df['Product'] = np.random.choice(pro,11)\n",
    "df['Price'] = np.random.randint(5,100,size=11)\n",
    "\n",
    "print(f'\\n{df}\\n')\n",
    "\n",
    "df['New_Price'] = df['Price'].apply(lambda x: x+(x*0.1) )\n",
    "df"
   ]
  },
  {
   "cell_type": "markdown",
   "id": "d660b001",
   "metadata": {},
   "source": [
    "2. Create a Pandas DataFrame with 3 columns and 6 rows filled with random integers. Apply a lambda function to create a new column that is the sum of the existing columns.\n",
    "\n"
   ]
  },
  {
   "cell_type": "code",
   "execution_count": 70,
   "id": "f4fa5c2b",
   "metadata": {},
   "outputs": [
    {
     "name": "stdout",
     "output_type": "stream",
     "text": [
      "\n",
      "     A    B    C\n",
      "0  494  984  611\n",
      "1  469  579  186\n",
      "2  593  907  676\n",
      "3  649  327   74\n",
      "4  930  436   69\n",
      "5  937  214  688\n",
      "\n"
     ]
    },
    {
     "data": {
      "text/html": [
       "<div>\n",
       "<style scoped>\n",
       "    .dataframe tbody tr th:only-of-type {\n",
       "        vertical-align: middle;\n",
       "    }\n",
       "\n",
       "    .dataframe tbody tr th {\n",
       "        vertical-align: top;\n",
       "    }\n",
       "\n",
       "    .dataframe thead th {\n",
       "        text-align: right;\n",
       "    }\n",
       "</style>\n",
       "<table border=\"1\" class=\"dataframe\">\n",
       "  <thead>\n",
       "    <tr style=\"text-align: right;\">\n",
       "      <th></th>\n",
       "      <th>A</th>\n",
       "      <th>B</th>\n",
       "      <th>C</th>\n",
       "      <th>D</th>\n",
       "    </tr>\n",
       "  </thead>\n",
       "  <tbody>\n",
       "    <tr>\n",
       "      <th>0</th>\n",
       "      <td>494</td>\n",
       "      <td>984</td>\n",
       "      <td>611</td>\n",
       "      <td>2089</td>\n",
       "    </tr>\n",
       "    <tr>\n",
       "      <th>1</th>\n",
       "      <td>469</td>\n",
       "      <td>579</td>\n",
       "      <td>186</td>\n",
       "      <td>1234</td>\n",
       "    </tr>\n",
       "    <tr>\n",
       "      <th>2</th>\n",
       "      <td>593</td>\n",
       "      <td>907</td>\n",
       "      <td>676</td>\n",
       "      <td>2176</td>\n",
       "    </tr>\n",
       "    <tr>\n",
       "      <th>3</th>\n",
       "      <td>649</td>\n",
       "      <td>327</td>\n",
       "      <td>74</td>\n",
       "      <td>1050</td>\n",
       "    </tr>\n",
       "    <tr>\n",
       "      <th>4</th>\n",
       "      <td>930</td>\n",
       "      <td>436</td>\n",
       "      <td>69</td>\n",
       "      <td>1435</td>\n",
       "    </tr>\n",
       "    <tr>\n",
       "      <th>5</th>\n",
       "      <td>937</td>\n",
       "      <td>214</td>\n",
       "      <td>688</td>\n",
       "      <td>1839</td>\n",
       "    </tr>\n",
       "  </tbody>\n",
       "</table>\n",
       "</div>"
      ],
      "text/plain": [
       "     A    B    C     D\n",
       "0  494  984  611  2089\n",
       "1  469  579  186  1234\n",
       "2  593  907  676  2176\n",
       "3  649  327   74  1050\n",
       "4  930  436   69  1435\n",
       "5  937  214  688  1839"
      ]
     },
     "execution_count": 70,
     "metadata": {},
     "output_type": "execute_result"
    }
   ],
   "source": [
    "df = pd.DataFrame( np.random.randint(1,1000,size=(6,3)), columns=['A','B','C'])\n",
    "\n",
    "print(f'\\n{df}\\n')\n",
    "\n",
    "df['D'] = df.apply(lambda x: x.sum(),axis=1)\n",
    "df\n",
    "\n",
    "# Learning: When to apply on row you can do by chnaging axis\n",
    "#  "
   ]
  },
  {
   "cell_type": "markdown",
   "id": "03c796d5",
   "metadata": {},
   "source": [
    "### Assignment 10: Working with Text Data\n",
    "\n",
    "1. Create a Pandas Series with 5 random text strings. Convert all the strings to uppercase.\n"
   ]
  },
  {
   "cell_type": "markdown",
   "id": "948e2518",
   "metadata": {},
   "source": [
    "2. Create a Pandas Series with 5 random text strings. Extract the first three characters of each string.\n"
   ]
  },
  {
   "cell_type": "code",
   "execution_count": null,
   "metadata": {},
   "outputs": [],
   "source": []
  }
 ],
 "metadata": {
  "kernelspec": {
   "display_name": "Python 3",
   "language": "python",
   "name": "python3"
  },
  "language_info": {
   "codemirror_mode": {
    "name": "ipython",
    "version": 3
   },
   "file_extension": ".py",
   "mimetype": "text/x-python",
   "name": "python",
   "nbconvert_exporter": "python",
   "pygments_lexer": "ipython3",
   "version": "3.12.0"
  }
 },
 "nbformat": 4,
 "nbformat_minor": 5
}
