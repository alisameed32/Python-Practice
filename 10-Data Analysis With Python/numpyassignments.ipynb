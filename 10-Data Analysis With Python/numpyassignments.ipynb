{
 "cells": [
  {
   "cell_type": "markdown",
   "metadata": {},
   "source": [
    "# Module: NumPy Assignments\n",
    "## Lesson: NumPy\n"
   ]
  },
  {
   "cell_type": "code",
   "execution_count": 1,
   "id": "1a20416f",
   "metadata": {},
   "outputs": [],
   "source": [
    "import numpy as np"
   ]
  },
  {
   "cell_type": "markdown",
   "id": "3b5b6bb5",
   "metadata": {},
   "source": [
    "### Assignment 1: Array Creation and Manipulation\n",
    "\n",
    "1. Create a NumPy array of shape (5, 5) filled with random integers between 1 and 20. Replace all the elements in the third column with 1.\n"
   ]
  },
  {
   "cell_type": "code",
   "execution_count": 15,
   "id": "f214fdeb",
   "metadata": {},
   "outputs": [
    {
     "data": {
      "text/plain": [
       "array([[ 4, 15,  1, 10, 18],\n",
       "       [ 8, 15,  1,  7, 17],\n",
       "       [17,  5,  1,  9,  5],\n",
       "       [ 3, 11,  1,  8,  4],\n",
       "       [ 1,  9,  1, 15,  4]], dtype=int32)"
      ]
     },
     "execution_count": 15,
     "metadata": {},
     "output_type": "execute_result"
    }
   ],
   "source": [
    "arr = np.random.randint(1,21, size=(5,5))\n",
    "arr\n",
    "\n",
    "\n",
    "# replacing 3rd column with one\n",
    "\n",
    "arr[:,2] = 1\n",
    "arr\n"
   ]
  },
  {
   "cell_type": "markdown",
   "id": "64dcb920",
   "metadata": {},
   "source": [
    "2. Create a NumPy array of shape (4, 4) with values from 1 to 16. Replace the diagonal elements with 0.\n",
    "\n"
   ]
  },
  {
   "cell_type": "code",
   "execution_count": 21,
   "id": "97a7d5fd",
   "metadata": {},
   "outputs": [
    {
     "data": {
      "text/plain": [
       "array([[ 0,  2,  3,  4],\n",
       "       [ 5,  0,  7,  8],\n",
       "       [ 9, 10,  0, 12],\n",
       "       [13, 14, 15,  0]])"
      ]
     },
     "execution_count": 21,
     "metadata": {},
     "output_type": "execute_result"
    }
   ],
   "source": [
    "arr = np.arange(1,17).reshape(4,4)\n",
    "arr\n",
    "\n",
    "np.fill_diagonal(arr,0)\n",
    "arr"
   ]
  },
  {
   "cell_type": "markdown",
   "id": "b872653b",
   "metadata": {},
   "source": [
    "### Assignment 2: Array Indexing and Slicing\n",
    "\n",
    "1. Create a NumPy array of shape (6, 6) with values from 1 to 36. Extract the sub-array consisting of the 3rd to 5th rows and 2nd to 4th columns.\n",
    "\n"
   ]
  },
  {
   "cell_type": "code",
   "execution_count": 26,
   "id": "6a8ebaa9",
   "metadata": {},
   "outputs": [
    {
     "name": "stdout",
     "output_type": "stream",
     "text": [
      "[[ 1  2  3  4  5  6]\n",
      " [ 7  8  9 10 11 12]\n",
      " [13 14 15 16 17 18]\n",
      " [19 20 21 22 23 24]\n",
      " [25 26 27 28 29 30]\n",
      " [31 32 33 34 35 36]]\n",
      "\n",
      "[[14 15 16]\n",
      " [20 21 22]\n",
      " [26 27 28]\n",
      " [32 33 34]]\n"
     ]
    }
   ],
   "source": [
    "arr = np.arange(1,37).reshape(6,6)\n",
    "\n",
    "print(arr)\n",
    "print()\n",
    "\n",
    "sub_arr = arr[2:6,1:4]\n",
    "print(sub_arr)"
   ]
  },
  {
   "cell_type": "markdown",
   "id": "30d8162f",
   "metadata": {},
   "source": [
    "2. Create a NumPy array of shape (5, 5) with random integers. Extract the elements on the border.\n",
    "\n"
   ]
  },
  {
   "cell_type": "code",
   "execution_count": 29,
   "id": "f7535344",
   "metadata": {},
   "outputs": [
    {
     "name": "stdout",
     "output_type": "stream",
     "text": [
      "[[ 2 11 12  2 13]\n",
      " [ 7 13 15 10  3]\n",
      " [ 2 18 13 10  3]\n",
      " [ 3 19 14  1 18]\n",
      " [ 1  2 13 16 19]]\n",
      "\n",
      "[ 2 11 12  2 13  1  2 13 16 19 13 18 19  3  3 18]\n"
     ]
    }
   ],
   "source": [
    "arr = np.random.randint(1,21,size=(5,5))\n",
    "print(arr)\n",
    "print()\n",
    "\n",
    "border_elements = np.concatenate((arr[0,:], arr[4,:], arr[1:4, 1], arr[1:4,4]))\n",
    "print(border_elements)"
   ]
  },
  {
   "cell_type": "markdown",
   "id": "bd0ca337",
   "metadata": {},
   "source": [
    "### Assignment 3: Array Operations\n",
    "\n",
    "1. Create two NumPy arrays of shape (3, 4) filled with random integers. Perform element-wise addition, subtraction, multiplication, and division.\n",
    "\n"
   ]
  },
  {
   "cell_type": "code",
   "execution_count": 32,
   "id": "15eadce2",
   "metadata": {},
   "outputs": [
    {
     "name": "stdout",
     "output_type": "stream",
     "text": [
      "[[ 7  6  8  2]\n",
      " [10 17  5 10]\n",
      " [10 20 19  3]]\n",
      "\n",
      "[[18  1 13 17]\n",
      " [12 10  1 14]\n",
      " [13 12  8 12]]\n",
      "\n",
      "Element wise operations\n",
      "Addition: [[25  7 21 19]\n",
      " [22 27  6 24]\n",
      " [23 32 27 15]]\n",
      "\n",
      "Subtraction: [[-11   5  -5 -15]\n",
      " [ -2   7   4  -4]\n",
      " [ -3   8  11  -9]]\n",
      "\n",
      "Multiplication: [[126   6 104  34]\n",
      " [120 170   5 140]\n",
      " [130 240 152  36]]\n",
      "\n",
      "Division: [[0.38888889 6.         0.61538462 0.11764706]\n",
      " [0.83333333 1.7        5.         0.71428571]\n",
      " [0.76923077 1.66666667 2.375      0.25      ]]\n"
     ]
    }
   ],
   "source": [
    "arr1 = np.random.randint(1,21,size=(3,4))\n",
    "arr2 = np.random.randint(1,21,size=(3,4))\n",
    "\n",
    "\n",
    "print(arr1)\n",
    "print()\n",
    "print(arr2)\n",
    "print()\n",
    "\n",
    "print(\"Element wise operations\")\n",
    "print\n",
    "\n",
    "print(f\"Addition: {arr1+arr2}\")\n",
    "print()\n",
    "print(f\"Subtraction: {arr1-arr2}\")\n",
    "print()\n",
    "print(f\"Multiplication: {arr1*arr2}\")\n",
    "print()\n",
    "print(f\"Division: {arr1/arr2}\")"
   ]
  },
  {
   "cell_type": "markdown",
   "id": "b1b65ef2",
   "metadata": {},
   "source": [
    "2. Create a NumPy array of shape (4, 4) with values from 1 to 16. Compute the row-wise and column-wise sum.\n",
    "\n"
   ]
  },
  {
   "cell_type": "code",
   "execution_count": 34,
   "id": "dabc078b",
   "metadata": {},
   "outputs": [
    {
     "name": "stdout",
     "output_type": "stream",
     "text": [
      "[[ 1  2  3  4]\n",
      " [ 5  6  7  8]\n",
      " [ 9 10 11 12]\n",
      " [13 14 15 16]]\n",
      "\n",
      "Row: [10 26 42 58]\n",
      "\n",
      "Col: [28 32 36 40]\n"
     ]
    }
   ],
   "source": [
    "arr = np.arange(1,17).reshape(4,4)\n",
    "print(arr)\n",
    "\n",
    "sum_row = np.sum(arr,axis=1)\n",
    "sum_col = np.sum(arr,axis=0)\n",
    "\n",
    "print()\n",
    "print(f\"Row: {sum_row}\")\n",
    "print()\n",
    "print(f\"Col: {sum_col}\")"
   ]
  },
  {
   "cell_type": "markdown",
   "id": "dece292e",
   "metadata": {},
   "source": [
    "### Assignment 4: Statistical Operations\n",
    "\n",
    "1. Create a NumPy array of shape (5, 5) filled with random integers. Compute the mean, median, standard deviation, and variance of the array.\n",
    "\n"
   ]
  },
  {
   "cell_type": "code",
   "execution_count": 37,
   "id": "3fa8752a",
   "metadata": {},
   "outputs": [
    {
     "name": "stdout",
     "output_type": "stream",
     "text": [
      "[[ 4 16 17 18  1]\n",
      " [11 19 14  7 19]\n",
      " [12  9 10 15  7]\n",
      " [ 2  5  1 15 17]\n",
      " [ 8 11 18  8  1]]\n",
      "\n",
      "Mean:  10.6\n",
      "Median:  11.0\n",
      "Standard Deviation:  5.939696961966999\n",
      "Variance:  10.6\n"
     ]
    }
   ],
   "source": [
    "arr = np.random.randint(1,21,size=(5,5))\n",
    "print(arr)\n",
    "\n",
    "mean = np.mean(arr)\n",
    "median = np.median(arr)\n",
    "std_dev = np.std(arr)\n",
    "variance = np.var(arr)\n",
    "\n",
    "print()\n",
    "print(f\"Mean: \", mean)\n",
    "print(f\"Median: \", median)\n",
    "print(f\"Standard Deviation: \", std_dev)\n",
    "print(f\"Variance: \", mean)\n",
    "\n"
   ]
  },
  {
   "cell_type": "markdown",
   "id": "3dcbf0d5",
   "metadata": {},
   "source": [
    "2. Create a NumPy array of shape (3, 3) with values from 1 to 9. Normalize the array (i.e., scale the values to have a mean of 0 and a standard deviation of 1).\n",
    "\n"
   ]
  },
  {
   "cell_type": "code",
   "execution_count": 39,
   "id": "cad08248",
   "metadata": {},
   "outputs": [
    {
     "name": "stdout",
     "output_type": "stream",
     "text": [
      "[[1 2 3]\n",
      " [4 5 6]\n",
      " [7 8 9]]\n",
      "\n",
      "Mean: 5.0\n",
      "Std: 2.581988897471611\n",
      "\n",
      "Normalized Array: [[-1.54919334 -1.161895   -0.77459667]\n",
      " [-0.38729833  0.          0.38729833]\n",
      " [ 0.77459667  1.161895    1.54919334]]\n"
     ]
    }
   ],
   "source": [
    "arr = np.arange(1,10).reshape(3,3)\n",
    "print(arr)\n",
    "print()\n",
    "\n",
    "\n",
    "mean = np.mean(arr)\n",
    "std = np.std(arr)\n",
    "print(f\"Mean: {mean}\")\n",
    "print(f\"Std: {std}\")\n",
    "\n",
    "print()\n",
    "\n",
    "noramlized_arr = (arr-mean)/std\n",
    "print(f\"Normalized Array: {noramlized_arr}\")\n"
   ]
  },
  {
   "cell_type": "markdown",
   "id": "fd286bb2",
   "metadata": {},
   "source": [
    "### Assignment 5: Broadcasting\n",
    "\n",
    "1. Create a NumPy array of shape (3, 3) filled with random integers. Add a 1D array of shape (3,) to each row of the 2D array using broadcasting.\n"
   ]
  },
  {
   "cell_type": "code",
   "execution_count": 45,
   "id": "221644d0",
   "metadata": {},
   "outputs": [
    {
     "name": "stdout",
     "output_type": "stream",
     "text": [
      "[[ 7 18 15]\n",
      " [10 13  9]\n",
      " [13 17 14]]\n",
      "\n",
      "1D array:\n",
      "[6 4 5]\n",
      "\n",
      "Result:  [[13 22 20]\n",
      " [16 17 14]\n",
      " [19 21 19]]\n"
     ]
    }
   ],
   "source": [
    "arr = np.random.randint(1,21,size=(3,3))\n",
    "print(arr)\n",
    "print()\n",
    "\n",
    "row_array = np.random.randint(1, 11, size=(3,))\n",
    "\n",
    "print(\"1D array:\")\n",
    "print(row_array)\n",
    "print()\n",
    "\n",
    "res = arr+row_array\n",
    "print(\"Result: \", res)\n"
   ]
  },
  {
   "cell_type": "markdown",
   "id": "672ae9ef",
   "metadata": {},
   "source": [
    "2. Create a NumPy array of shape (4, 4) filled with random integers. Subtract a 1D array of shape (4,) from each column of the 2D array using broadcasting.\n",
    "\n"
   ]
  },
  {
   "cell_type": "code",
   "execution_count": 46,
   "id": "aae1b173",
   "metadata": {},
   "outputs": [
    {
     "name": "stdout",
     "output_type": "stream",
     "text": [
      "[[20 19 10 17]\n",
      " [20  3  1 15]\n",
      " [14  4  3 10]\n",
      " [19 15  5 14]]\n",
      "\n",
      "1D array:\n",
      "[ 1 13  1  6]\n",
      "\n",
      "Result:  [[ 19   6   9  11]\n",
      " [ 19 -10   0   9]\n",
      " [ 13  -9   2   4]\n",
      " [ 18   2   4   8]]\n"
     ]
    }
   ],
   "source": [
    "arr = np.random.randint(1,21,size=(4,4))\n",
    "print(arr)\n",
    "print()\n",
    "\n",
    "row_array = np.random.randint(1, 21, size=(4,))\n",
    "\n",
    "print(\"1D array:\")\n",
    "print(row_array)\n",
    "print()\n",
    "\n",
    "res = arr-row_array\n",
    "print(\"Result: \", res)\n"
   ]
  },
  {
   "cell_type": "markdown",
   "id": "ea8fa5a7",
   "metadata": {},
   "source": [
    "### Assignment 6: Linear Algebra\n",
    "\n",
    "1. Create a NumPy array of shape (3, 3) representing a matrix. Compute its determinant, inverse, and eigenvalues.\n"
   ]
  },
  {
   "cell_type": "code",
   "execution_count": 52,
   "id": "a590dde6",
   "metadata": {},
   "outputs": [
    {
     "name": "stdout",
     "output_type": "stream",
     "text": [
      "[[9 1 6]\n",
      " [9 4 2]\n",
      " [5 2 9]]\n",
      "\n",
      "Determinate: 205.00000000000006\n",
      "Inverse: [[ 0.15609756  0.01463415 -0.10731707]\n",
      " [-0.34634146  0.24878049  0.17560976]\n",
      " [-0.0097561  -0.06341463  0.13170732]]\n",
      "Eigen: [15.88897041+0.j          3.05551479+1.88834876j  3.05551479-1.88834876j]\n"
     ]
    }
   ],
   "source": [
    "\n",
    "arr = np.random.randint(1, 11, size=(3, 3))\n",
    "print(arr)\n",
    "print()\n",
    "\n",
    "det = np.linalg.det(arr)\n",
    "inv = np.linalg.inv(arr)\n",
    "eigen = np.linalg.eigvals(arr)\n",
    "\n",
    "\n",
    "print(f\"Determinate: {det}\")\n",
    "print(f\"Inverse: {inv}\")\n",
    "print(f\"Eigen: {eigen}\")"
   ]
  },
  {
   "cell_type": "markdown",
   "id": "a302dfed",
   "metadata": {},
   "source": [
    "2. Create two NumPy arrays of shape (2, 3) and (3, 2). Perform matrix multiplication on these arrays.\n",
    "\n"
   ]
  },
  {
   "cell_type": "code",
   "execution_count": 54,
   "id": "e269cdfa",
   "metadata": {},
   "outputs": [
    {
     "name": "stdout",
     "output_type": "stream",
     "text": [
      "Array 1: [[16 13  8]\n",
      " [ 7  3  6]]\n",
      "\n",
      "Array 2: [[11  2]\n",
      " [ 2 12]\n",
      " [12  7]]\n",
      "\n",
      "Result: [[298 244]\n",
      " [155  92]]\n"
     ]
    }
   ],
   "source": [
    "arr1 = np.random.randint(1,20,size=(2,3))\n",
    "arr2 = np.random.randint(1,20,size=(3,2))\n",
    "\n",
    "\n",
    "print(f\"Array 1: {arr1}\")\n",
    "print()\n",
    "print(f\"Array 2: {arr2}\")\n",
    "\n",
    "\n",
    "res = arr1.dot(arr2)\n",
    "print(f\"\\nResult: {res}\")\n"
   ]
  },
  {
   "cell_type": "markdown",
   "id": "0bbf22bc",
   "metadata": {},
   "source": [
    "### Assignment 7: Advanced Array Manipulation\n",
    "\n",
    "1. Create a NumPy array of shape (3, 3) with values from 1 to 9. Reshape the array to shape (1, 9) and then to shape (9, 1).\n",
    "\n"
   ]
  },
  {
   "cell_type": "code",
   "execution_count": 55,
   "id": "cc216822",
   "metadata": {},
   "outputs": [
    {
     "name": "stdout",
     "output_type": "stream",
     "text": [
      "[[14 17  3]\n",
      " [14 15  3]\n",
      " [13  7  3]]\n",
      "\n",
      "Reshaped Array: [[14 17  3 14 15  3 13  7  3]]\n",
      "\n",
      "Reshaped Array 1: [[14]\n",
      " [17]\n",
      " [ 3]\n",
      " [14]\n",
      " [15]\n",
      " [ 3]\n",
      " [13]\n",
      " [ 7]\n",
      " [ 3]]\n"
     ]
    }
   ],
   "source": [
    "arr = np.random.randint(1,20,size=(3,3))\n",
    "print(arr)\n",
    "\n",
    "reshaped_arr = arr.reshape(1,9)\n",
    "print(f\"\\nReshaped Array: {reshaped_arr}\")\n",
    "\n",
    "reshaped_arr_1 = reshaped_arr.reshape(9,1)\n",
    "print(f\"\\nReshaped Array 1: {reshaped_arr_1}\")"
   ]
  },
  {
   "cell_type": "markdown",
   "id": "0f274be8",
   "metadata": {},
   "source": [
    "2. Create a NumPy array of shape (5, 5) filled with random integers. Flatten the array and then reshape it back to (5, 5).\n",
    "\n"
   ]
  },
  {
   "cell_type": "code",
   "execution_count": 56,
   "id": "2be4b3e0",
   "metadata": {},
   "outputs": [
    {
     "name": "stdout",
     "output_type": "stream",
     "text": [
      "[[93 61 74 62 70]\n",
      " [90 21 31 60 12]\n",
      " [66 52 38 11 93]\n",
      " [69 34 52 52 99]\n",
      " [67 20 75 87 54]]\n",
      "\n",
      "Reshaped Array: [[93 61 74 62 70 90 21 31 60 12 66 52 38 11 93 69 34 52 52 99 67 20 75 87\n",
      "  54]]\n",
      "\n",
      "Reshaped Array 1: [[93 61 74 62 70]\n",
      " [90 21 31 60 12]\n",
      " [66 52 38 11 93]\n",
      " [69 34 52 52 99]\n",
      " [67 20 75 87 54]]\n"
     ]
    }
   ],
   "source": [
    "arr = np.random.randint(1,101,size=(5,5))\n",
    "print(arr)\n",
    "\n",
    "reshaped_arr = arr.reshape(1,25)\n",
    "print(f\"\\nReshaped Array: {reshaped_arr}\")\n",
    "\n",
    "reshaped_arr_1 = reshaped_arr.reshape(5,5)\n",
    "print(f\"\\nReshaped Array 1: {reshaped_arr_1}\")"
   ]
  },
  {
   "cell_type": "markdown",
   "id": "bde1595f",
   "metadata": {},
   "source": [
    "### Assignment 8: Fancy Indexing and Boolean Indexing\n",
    "\n",
    "1. Create a NumPy array of shape (5, 5) filled with random integers. Use fancy indexing to extract the elements at the corners of the array.\n"
   ]
  },
  {
   "cell_type": "code",
   "execution_count": 59,
   "id": "e88f9d27",
   "metadata": {},
   "outputs": [
    {
     "name": "stdout",
     "output_type": "stream",
     "text": [
      "[[74 80 24  4 39]\n",
      " [45 74 84 74 82]\n",
      " [73 98 72  2 30]\n",
      " [83 47 46 34 13]\n",
      " [15 68 84 37 72]]\n",
      "Corners: [74 39 15 72]\n"
     ]
    }
   ],
   "source": [
    "arr = np.random.randint(1,101,size=(5,5))\n",
    "print(arr)\n",
    "\n",
    "\n",
    "\n",
    "corners = arr[[0,0,4,4],[0,4,0,4]] \n",
    "print(f\"Corners: {corners}\")"
   ]
  },
  {
   "cell_type": "markdown",
   "id": "4e38df1e",
   "metadata": {},
   "source": [
    "2. Create a NumPy array of shape (4, 4) filled with random integers. Use boolean indexing to set all elements greater than 10 to 10.\n",
    "\n"
   ]
  },
  {
   "cell_type": "code",
   "execution_count": 63,
   "id": "84b2dae6",
   "metadata": {},
   "outputs": [
    {
     "name": "stdout",
     "output_type": "stream",
     "text": [
      "[[ 4 20  5 13 15]\n",
      " [ 9 17 11  2  1]\n",
      " [17 12  4  9  7]\n",
      " [ 9  2 10  1  5]\n",
      " [19  3 18 20  8]]\n",
      "\n",
      "[[ 4 10  5 10 10]\n",
      " [ 9 10 10  2  1]\n",
      " [10 10  4  9  7]\n",
      " [ 9  2 10  1  5]\n",
      " [10  3 10 10  8]]\n"
     ]
    }
   ],
   "source": [
    "arr = np.random.randint(1,21,size=(5,5))\n",
    "print(arr)\n",
    "\n",
    "arr[arr>10] = 10\n",
    "print()\n",
    "print(arr)"
   ]
  },
  {
   "cell_type": "markdown",
   "id": "97a6a2f4",
   "metadata": {},
   "source": [
    "### Assignment 9: Structured Arrays\n",
    "\n",
    "1. Create a structured array with fields 'name' (string), 'age' (integer), and 'weight' (float). Add some data and sort the array by age.\n"
   ]
  },
  {
   "cell_type": "code",
   "execution_count": 67,
   "id": "06579e41",
   "metadata": {},
   "outputs": [
    {
     "name": "stdout",
     "output_type": "stream",
     "text": [
      "[('Ali', 22, 75.7) ('Sameed', 21, 56.7) ('Arbani', 26, 56.7)]\n",
      "\n",
      "[('Sameed', 21, 56.7) ('Ali', 22, 75.7) ('Arbani', 26, 56.7)]\n"
     ]
    }
   ],
   "source": [
    "data_type = [('name', 'U10'), ('age', 'i4'), ('weight', 'f4')]\n",
    "arr = np.array([('Ali', 22, 75.7), ('Sameed', 21, 56.7), ('Arbani', 26, 56.7)], dtype=data_type)\n",
    "print(arr)\n",
    "\n",
    "sorted_by_age = np.sort(arr,order='age')\n",
    "print()\n",
    "print(sorted_by_age)"
   ]
  },
  {
   "cell_type": "markdown",
   "id": "5548fc78",
   "metadata": {},
   "source": [
    "### Assignment 10: Masked Arrays\n",
    "\n",
    "1. Create a masked array of shape (4, 4) with random integers and mask the elements greater than 10. Compute the sum of the unmasked elements.\n"
   ]
  },
  {
   "cell_type": "code",
   "execution_count": 68,
   "id": "c0fc6e81",
   "metadata": {},
   "outputs": [
    {
     "name": "stdout",
     "output_type": "stream",
     "text": [
      "[[19 11 19  9]\n",
      " [15 11 11  1]\n",
      " [ 4 18  3  8]\n",
      " [14  9 13  8]]\n",
      "\n",
      "Maksed: [[-- -- -- 9]\n",
      " [-- -- -- 1]\n",
      " [4 -- 3 8]\n",
      " [-- 9 -- 8]]\n",
      "\n",
      "42\n"
     ]
    }
   ],
   "source": [
    "import numpy.ma as ma\n",
    "\n",
    "arr = np.random.randint(1,21,size=(4,4))\n",
    "masked_arr = ma.masked_greater(arr,10)\n",
    "\n",
    "print(arr)\n",
    "print()\n",
    "print(f\"Maksed: {masked_arr}\")\n",
    "\n",
    "unmsked_sum = masked_arr.sum()\n",
    "print()\n",
    "print(unmsked_sum)"
   ]
  },
  {
   "cell_type": "markdown",
   "id": "c8f6f736",
   "metadata": {},
   "source": [
    "2. Create a masked array of shape (3, 3) with random integers and mask the diagonal elements. Replace the masked elements with the mean of the unmasked elements."
   ]
  },
  {
   "cell_type": "code",
   "execution_count": null,
   "metadata": {},
   "outputs": [
    {
     "name": "stdout",
     "output_type": "stream",
     "text": [
      "Original array:\n",
      "[[19 19 15]\n",
      " [19 19 13]\n",
      " [12 17  6]]\n",
      "Masked array:\n",
      "[[-- 19 15]\n",
      " [19 -- 13]\n",
      " [12 17 --]]\n",
      "Modified masked array:\n",
      "[[15 19 15]\n",
      " [19 15 13]\n",
      " [12 17 15]]\n"
     ]
    }
   ],
   "source": [
    "\n",
    "array = np.random.randint(1, 21, size=(3, 3))\n",
    "masked_array = ma.masked_array(array, mask=np.eye(3, dtype=bool))\n",
    "print(\"Original array:\")\n",
    "print(array)\n",
    "print(\"Masked array:\")\n",
    "print(masked_array)\n",
    "\n",
    "\n",
    "mean_unmasked = masked_array.mean()\n",
    "masked_array = masked_array.filled(mean_unmasked)\n",
    "print(\"Modified masked array:\")\n",
    "print(masked_array)"
   ]
  },
  {
   "cell_type": "markdown",
   "id": "8cc70e60",
   "metadata": {},
   "source": [
    "I need practice in masked thing"
   ]
  },
  {
   "cell_type": "markdown",
   "id": "95097712",
   "metadata": {},
   "source": []
  }
 ],
 "metadata": {
  "kernelspec": {
   "display_name": "Python 3",
   "language": "python",
   "name": "python3"
  },
  "language_info": {
   "codemirror_mode": {
    "name": "ipython",
    "version": 3
   },
   "file_extension": ".py",
   "mimetype": "text/x-python",
   "name": "python",
   "nbconvert_exporter": "python",
   "pygments_lexer": "ipython3",
   "version": "3.12.0"
  }
 },
 "nbformat": 4,
 "nbformat_minor": 5
}
