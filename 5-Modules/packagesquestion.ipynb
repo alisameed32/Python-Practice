{
 "cells": [
  {
   "cell_type": "markdown",
   "metadata": {},
   "source": [
    "# Module 5: Modules and Packages Assignments\n",
    "## Lesson 5.1: Importing Modules\n"
   ]
  },
  {
   "cell_type": "markdown",
   "id": "e161e7cc",
   "metadata": {},
   "source": [
    "### Assignment 1: Importing and Using Modules\n",
    "\n",
    "Import the `math` module and use it to calculate the square root of 25 and the sine of 90 degrees.\n",
    "\n"
   ]
  },
  {
   "cell_type": "code",
   "execution_count": 1,
   "id": "ca3a4bba",
   "metadata": {},
   "outputs": [
    {
     "name": "stdout",
     "output_type": "stream",
     "text": [
      "Square Root of 25: 5.0\n",
      "Sine of 90 degree: 0.8939966636005579\n"
     ]
    }
   ],
   "source": [
    "from math import sqrt, sin\n",
    "\n",
    "print(f\"Square Root of 25: {sqrt(25)}\")\n",
    "print(f\"Sine of 90 degree: {sin(90)}\")"
   ]
  },
  {
   "cell_type": "markdown",
   "id": "e3a439e8",
   "metadata": {},
   "source": [
    "### Assignment 2: Aliasing Modules\n",
    "\n",
    "Import the `datetime` module with an alias and use it to print the current date and time.\n",
    "\n"
   ]
  },
  {
   "cell_type": "code",
   "execution_count": 5,
   "id": "d126c0b2",
   "metadata": {},
   "outputs": [
    {
     "name": "stdout",
     "output_type": "stream",
     "text": [
      "2025-01-01 17:47:30.043448\n"
     ]
    }
   ],
   "source": [
    "import datetime as dt\n",
    "\n",
    "print(dt.datetime.now())"
   ]
  },
  {
   "cell_type": "markdown",
   "id": "5c23dbc7",
   "metadata": {},
   "source": [
    "### Assignment 3: Importing Specific Functions\n",
    "\n",
    "Import the `randint` function from the `random` module and use it to generate a random integer between 1 and 100.\n",
    "\n"
   ]
  },
  {
   "cell_type": "code",
   "execution_count": 6,
   "id": "c1269b1b",
   "metadata": {},
   "outputs": [
    {
     "name": "stdout",
     "output_type": "stream",
     "text": [
      "66\n"
     ]
    }
   ],
   "source": [
    "from random import randint\n",
    "\n",
    "print(randint(1,100))"
   ]
  },
  {
   "cell_type": "markdown",
   "id": "3c8d8179",
   "metadata": {},
   "source": [
    "### Assignment 4: Importing Multiple Functions\n",
    "\n",
    "Import the `sqrt` and `pow` functions from the `math` module and use them to calculate the square root of 16 and 2 raised to the power of 3.\n",
    "\n"
   ]
  },
  {
   "cell_type": "code",
   "execution_count": 7,
   "id": "e71fa330",
   "metadata": {},
   "outputs": [
    {
     "name": "stdout",
     "output_type": "stream",
     "text": [
      "Square Root: 4.0\n",
      "Power of 2 raise 3: 8.0\n"
     ]
    }
   ],
   "source": [
    "from math import sqrt,pow\n",
    "\n",
    "print(f\"Square Root: {sqrt(16)}\")\n",
    "print(f\"Power of 2 raise 3: {pow(2,3)}\")"
   ]
  },
  {
   "cell_type": "markdown",
   "id": "75942fbd",
   "metadata": {},
   "source": [
    "## Lesson 5.2: Standard Library Overview\n"
   ]
  },
  {
   "cell_type": "markdown",
   "id": "e0298ce2",
   "metadata": {},
   "source": [
    "### Assignment 5: Working with the `os` Module\n",
    "\n",
    "Use the `os` module to create a new directory, list the contents of the current directory, and remove the newly created directory.\n",
    "\n"
   ]
  },
  {
   "cell_type": "code",
   "execution_count": 11,
   "id": "e8826a8e",
   "metadata": {},
   "outputs": [
    {
     "name": "stdout",
     "output_type": "stream",
     "text": [
      "['packagesquestion.ipynb', 'test_dir']\n",
      "['packagesquestion.ipynb']\n"
     ]
    }
   ],
   "source": [
    "import os \n",
    "\n",
    "os.mkdir('test_dir')\n",
    "\n",
    "print(os.listdir('.'))\n",
    "\n",
    "\n",
    "os.rmdir('test_dir')\n",
    "\n",
    "print(os.listdir('.'))"
   ]
  },
  {
   "cell_type": "markdown",
   "id": "b9531f5d",
   "metadata": {},
   "source": [
    "### Assignment 6: Working with the `sys` Module\n",
    "\n",
    "Use the `sys` module to print the Python version currently in use and the command-line arguments passed to the script.\n",
    "\n"
   ]
  },
  {
   "cell_type": "code",
   "execution_count": 12,
   "id": "bc820e67",
   "metadata": {},
   "outputs": [
    {
     "name": "stdout",
     "output_type": "stream",
     "text": [
      "3.12.0 | packaged by Anaconda, Inc. | (main, Oct  2 2023, 17:20:38) [MSC v.1916 64 bit (AMD64)]\n"
     ]
    }
   ],
   "source": [
    "import sys\n",
    "\n",
    "print(sys.version)"
   ]
  },
  {
   "cell_type": "markdown",
   "id": "d7c1e89b",
   "metadata": {},
   "source": [
    "### Assignment 7: Working with the `math` Module\n",
    "\n",
    "Use the `math` module to calculate the greatest common divisor (GCD) of two numbers and the factorial of a number.\n",
    "\n"
   ]
  },
  {
   "cell_type": "code",
   "execution_count": 13,
   "id": "e61d292b",
   "metadata": {},
   "outputs": [
    {
     "name": "stdout",
     "output_type": "stream",
     "text": [
      "1\n",
      "1\n"
     ]
    }
   ],
   "source": [
    "from math import gcd, factorial\n",
    "\n",
    "\n",
    "num = gcd(2,5)\n",
    "print(num)\n",
    "\n",
    "fact = factorial(num)\n",
    "print(fact)"
   ]
  },
  {
   "cell_type": "markdown",
   "id": "3e1d73f8",
   "metadata": {},
   "source": [
    "### Assignment 8: Working with the `datetime` Module\n",
    "\n",
    "Use the `datetime` module to print the current date, calculate the date 100 days from today, and determine the day of the week for a given date.\n",
    "\n"
   ]
  },
  {
   "cell_type": "code",
   "execution_count": 31,
   "id": "42449b48",
   "metadata": {},
   "outputs": [
    {
     "name": "stdout",
     "output_type": "stream",
     "text": [
      "2025-01-01\n",
      "2025-04-11\n",
      "Day of the week for 2022-01-01: Sunday\n"
     ]
    }
   ],
   "source": [
    "from datetime import datetime,timedelta\n",
    "\n",
    "now=datetime.now().date()\n",
    "\n",
    "hundred_days = now+timedelta(days=100)\n",
    "\n",
    "print(now)\n",
    "print(hundred_days)\n",
    "\n",
    "\n",
    "given_date = datetime(2024, 10, 27).date()\n",
    "print(f\"Day of the week for 2022-01-01: {given_date.strftime('%A')}\")\n"
   ]
  },
  {
   "cell_type": "markdown",
   "id": "d422542f",
   "metadata": {},
   "source": [
    "### Assignment 9: Working with the `random` Module\n",
    "\n",
    "Use the `random` module to generate a list of 5 random numbers between 1 and 50 and shuffle the elements of a list.\n",
    "\n"
   ]
  },
  {
   "cell_type": "code",
   "execution_count": 36,
   "id": "c986f0b3",
   "metadata": {},
   "outputs": [
    {
     "name": "stdout",
     "output_type": "stream",
     "text": [
      "[38, 45, 16, 5, 31]\n",
      "[31, 45, 38, 16, 5]\n"
     ]
    }
   ],
   "source": [
    "from random import randint, shuffle\n",
    "\n",
    "lst = [randint(1,50) for i in range(5)]\n",
    "print(lst)\n",
    "\n",
    "shuffle(lst)\n",
    "print(lst)"
   ]
  },
  {
   "cell_type": "markdown",
   "id": "9fbba871",
   "metadata": {},
   "source": [
    "## Lesson 5.3: Creating and Using Packages\n"
   ]
  },
  {
   "cell_type": "markdown",
   "id": "9eef4084",
   "metadata": {},
   "source": [
    "### Assignment 10: Creating a Simple Package\n",
    "\n",
    "Create a package named `mypackage` with two modules: `module1` and `module2`. `module1` should contain a function that adds two numbers, and `module2` should contain a function that multiplies two numbers. Write code to use these functions.\n",
    "\n"
   ]
  },
  {
   "cell_type": "code",
   "execution_count": 37,
   "id": "f2626a3a",
   "metadata": {},
   "outputs": [
    {
     "name": "stdout",
     "output_type": "stream",
     "text": [
      "Add: 3\n",
      "Mul: 2\n"
     ]
    }
   ],
   "source": [
    "from mypackage import module1, module2\n",
    "\n",
    "print(f\"Add: {module1.add(1,2)}\")\n",
    "print(f\"Mul: {module2.mul(1,2)}\")"
   ]
  },
  {
   "cell_type": "markdown",
   "id": "81faabfb",
   "metadata": {},
   "source": [
    "### Assignment 11: Using `__init__.py`\n",
    "\n",
    "Modify the `mypackage` package to include an `__init__.py` file that imports the functions from `module1` and `module2`. Write code to use these functions.\n",
    "\n"
   ]
  },
  {
   "cell_type": "code",
   "execution_count": 62,
   "id": "e4251e6f",
   "metadata": {},
   "outputs": [
    {
     "name": "stdout",
     "output_type": "stream",
     "text": [
      "Add: 3\n",
      "Mul: 2\n"
     ]
    }
   ],
   "source": [
    "\n",
    "from mypackage.module1 import add\n",
    "from mypackage.module2 import mul\n",
    "\n",
    "print(f\"Add: {add(1, 2)}\")\n",
    "print(f\"Mul: {mul(1, 2)}\")\n"
   ]
  },
  {
   "cell_type": "markdown",
   "id": "e12bcc5b",
   "metadata": {},
   "source": [
    "### Assignment 12: Importing from a Package\n",
    "\n",
    "Write code to import and use the functions from `mypackage` without explicitly importing `module1` and `module2`.\n",
    "\n"
   ]
  },
  {
   "cell_type": "code",
   "execution_count": 63,
   "id": "eb1e72c8",
   "metadata": {},
   "outputs": [
    {
     "name": "stdout",
     "output_type": "stream",
     "text": [
      "Add: 3\n",
      "Mul: 2\n"
     ]
    }
   ],
   "source": [
    "import mypackage\n",
    "\n",
    "print(f\"Add: {add(1, 2)}\")\n",
    "print(f\"Mul: {mul(1, 2)}\")"
   ]
  },
  {
   "cell_type": "markdown",
   "id": "7668e2eb",
   "metadata": {},
   "source": [
    "### Assignment 13: Relative Imports\n",
    "\n",
    "Create a subpackage named `subpackage` within `mypackage` and move `module2` into `subpackage`. Modify the import statements in `__init__.py` to use relative imports. Write code to use the functions from both modules.\n",
    "\n"
   ]
  },
  {
   "cell_type": "code",
   "execution_count": 64,
   "metadata": {},
   "outputs": [
    {
     "name": "stdout",
     "output_type": "stream",
     "text": [
      "Add: 3\n",
      "Mul: 2\n"
     ]
    }
   ],
   "source": [
    "import mypackage\n",
    "\n",
    "print(f\"Add: {add(1, 2)}\")\n",
    "print(f\"Mul: {mul(1, 2)}\")"
   ]
  }
 ],
 "metadata": {
  "kernelspec": {
   "display_name": "Python 3",
   "language": "python",
   "name": "python3"
  },
  "language_info": {
   "codemirror_mode": {
    "name": "ipython",
    "version": 3
   },
   "file_extension": ".py",
   "mimetype": "text/x-python",
   "name": "python",
   "nbconvert_exporter": "python",
   "pygments_lexer": "ipython3",
   "version": "3.12.0"
  }
 },
 "nbformat": 4,
 "nbformat_minor": 5
}
