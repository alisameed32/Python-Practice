{
 "cells": [
  {
   "cell_type": "markdown",
   "id": "964cf61d",
   "metadata": {},
   "source": [
    "# Module: SQLite3 Assignments\n",
    "## Lesson: SQLite3\n"
   ]
  },
  {
   "cell_type": "code",
   "execution_count": 1,
   "id": "a3513723",
   "metadata": {},
   "outputs": [],
   "source": [
    "import sqlite3"
   ]
  },
  {
   "cell_type": "markdown",
   "id": "7b79dd89",
   "metadata": {},
   "source": [
    "### Assignment 1: Creating and Connecting to a Database\n",
    "\n",
    "1. Write a Python function to create a new SQLite3 database named `test.db`.\n"
   ]
  },
  {
   "cell_type": "code",
   "execution_count": 2,
   "id": "3e95ab60",
   "metadata": {},
   "outputs": [],
   "source": [
    "def create_db():\n",
    "    connection = sqlite3.Connection('test.db')\n",
    "    cursor = connection.cursor()\n",
    "\n",
    "\n",
    "create_db()"
   ]
  },
  {
   "cell_type": "markdown",
   "id": "070b3a38",
   "metadata": {},
   "source": [
    "2. Write a Python function to create a table named `employees` with columns `id` (integer), `name` (text), `age` (integer), and `department` (text) in the `test.db` database.\n",
    "\n"
   ]
  },
  {
   "cell_type": "code",
   "execution_count": 3,
   "id": "a6a79fd6",
   "metadata": {},
   "outputs": [],
   "source": [
    "def create_tables():\n",
    "    connection = sqlite3.Connection('test.db')\n",
    "    cursor = connection.cursor()\n",
    "    \n",
    "    cursor.execute('''\n",
    "        Create Table If Not Exists employees(\n",
    "                   id Integer Primary Key,\n",
    "                   name Text Null Null,\n",
    "                   age Integer,\n",
    "                   department Text)\n",
    "    ''')\n",
    "\n",
    "    connection.commit()\n",
    "\n",
    "\n",
    "create_tables()\n"
   ]
  },
  {
   "cell_type": "markdown",
   "id": "7f7584c4",
   "metadata": {},
   "source": [
    "### Assignment 2: Inserting Data\n",
    "\n",
    "1. Write a Python function to insert a new employee into the `employees` table.\n"
   ]
  },
  {
   "cell_type": "code",
   "execution_count": 4,
   "id": "ea37a8bf",
   "metadata": {},
   "outputs": [],
   "source": [
    "def insert(name,age,department):\n",
    "    conn = sqlite3.Connection('test.db')\n",
    "    cursor = conn.cursor()\n",
    "\n",
    "    cursor.execute('''\n",
    "        Insert Into Employees(name,age,department)\n",
    "                   values(?,?,?)\n",
    "    ''',(name,age,department))\n",
    "\n",
    "    conn.commit()\n",
    "\n",
    "\n",
    "\n",
    "insert('Ali Sameed',22,'Director')"
   ]
  },
  {
   "cell_type": "markdown",
   "id": "9062e1f2",
   "metadata": {},
   "source": [
    "2. Insert at least 5 different employees into the `employees` table.\n",
    "\n"
   ]
  },
  {
   "cell_type": "code",
   "execution_count": 5,
   "id": "b065bd48",
   "metadata": {},
   "outputs": [],
   "source": [
    "def insert_multiple(emp_data):\n",
    "    conn = sqlite3.Connection('test.db')\n",
    "    cursor = conn.cursor()\n",
    "\n",
    "    cursor.executemany('''\n",
    "        Insert Into Employees(name,age,department)\n",
    "                   values(?,?,?)\n",
    "    ''',emp_data)\n",
    "\n",
    "    conn.commit()\n",
    "\n",
    "\n",
    "emp_data = [\n",
    "    ('Rohan',21,'IT'),\n",
    "    ('Arsalan',24,'Web'),\n",
    "    ('Taha',21,'IT'),\n",
    "    ('Rahim',16,'Cyber'),\n",
    "    ('Sehrish',20,'Nursing'),\n",
    "]\n",
    "\n",
    "insert_multiple(emp_data)"
   ]
  },
  {
   "cell_type": "markdown",
   "id": "7cb1518d",
   "metadata": {},
   "source": [
    "### Assignment 3: Querying Data\n",
    "\n",
    "1. Write a Python function to fetch and display all records from the `employees` table.\n"
   ]
  },
  {
   "cell_type": "code",
   "execution_count": 6,
   "id": "579f349b",
   "metadata": {},
   "outputs": [
    {
     "name": "stdout",
     "output_type": "stream",
     "text": [
      "(4, 'Taha', 21, 'IT')\n",
      "(5, 'Rahim', 16, 'IT')\n",
      "(7, 'Ali Sameed', 22, 'Director')\n",
      "(8, 'Ali Sameed', 22, 'Director')\n",
      "(9, 'Rohan', 21, 'IT')\n",
      "(10, 'Arsalan', 24, 'Web')\n",
      "(11, 'Taha', 21, 'IT')\n",
      "(12, 'Rahim', 16, 'Cyber')\n",
      "(13, 'Sehrish', 20, 'Nursing')\n"
     ]
    }
   ],
   "source": [
    "def fetch_all():\n",
    "    conn = sqlite3.Connection('test.db')\n",
    "    cursor = conn.cursor()\n",
    "\n",
    "    cursor.execute('Select * from employees')\n",
    "    rows = cursor.fetchall()\n",
    "\n",
    "    for row in rows:\n",
    "        print(row)\n",
    "\n",
    "    conn.close()\n",
    "\n",
    "\n",
    "fetch_all()    \n"
   ]
  },
  {
   "cell_type": "markdown",
   "id": "b7585cf2",
   "metadata": {},
   "source": [
    "2. Write a Python function to fetch and display all employees from a specific department.\n",
    "\n"
   ]
  },
  {
   "cell_type": "code",
   "execution_count": 7,
   "id": "7b08efb0",
   "metadata": {},
   "outputs": [
    {
     "name": "stdout",
     "output_type": "stream",
     "text": [
      "(4, 'Taha', 21, 'IT')\n",
      "(5, 'Rahim', 16, 'IT')\n",
      "(9, 'Rohan', 21, 'IT')\n",
      "(11, 'Taha', 21, 'IT')\n"
     ]
    }
   ],
   "source": [
    "def fetch_specific(department):\n",
    "    conn = sqlite3.Connection('test.db')\n",
    "    cursor = conn.cursor()\n",
    "\n",
    "    cursor.execute('''\n",
    "        Select * from employees\n",
    "        where department = ?\n",
    "    ''',(department,))\n",
    "    rows = cursor.fetchall()\n",
    "\n",
    "    for row in rows:\n",
    "        print(row)\n",
    "\n",
    "    conn.close()\n",
    "\n",
    "\n",
    "fetch_specific('IT')\n",
    "\n",
    "\n",
    " "
   ]
  },
  {
   "cell_type": "markdown",
   "id": "a40a4d5d",
   "metadata": {},
   "source": [
    "#### Learning\n",
    "\n",
    "Good question! The comma (,) is required because in Python, a single value inside parentheses is not a tuple—it's just the value itself inside parentheses."
   ]
  },
  {
   "cell_type": "markdown",
   "id": "c1c9cff2",
   "metadata": {},
   "source": [
    "### Assignment 4: Updating Data\n",
    "\n",
    "1. Write a Python function to update the department of an employee based on their `id`.\n"
   ]
  },
  {
   "cell_type": "code",
   "execution_count": 8,
   "id": "a175f760",
   "metadata": {},
   "outputs": [],
   "source": [
    "def update(department,id):\n",
    "    conn = sqlite3.Connection('test.db')\n",
    "    cursor = conn.cursor()\n",
    "\n",
    "    cursor.execute('''\n",
    "        Update employees\n",
    "        set department = ?\n",
    "        where id = ?\n",
    "    ''',(department,id))\n",
    "    conn.commit()\n",
    "    conn.close()\n",
    "\n",
    "\n",
    "update('IT',5)\n"
   ]
  },
  {
   "cell_type": "markdown",
   "id": "6e971561",
   "metadata": {},
   "source": [
    "2. Update the department of at least 2 employees and display the updated records.\n",
    "\n"
   ]
  },
  {
   "cell_type": "code",
   "execution_count": 15,
   "id": "cb68f675",
   "metadata": {},
   "outputs": [
    {
     "name": "stdout",
     "output_type": "stream",
     "text": [
      "(4, 'Taha', 21, 'IT')\n",
      "(5, 'Rahim', 16, 'IT')\n",
      "(8, 'Ali Sameed', 22, 'Director')\n",
      "(13, 'Sehrish', 20, 'Nursing')\n"
     ]
    }
   ],
   "source": [
    "update('Marketing',3)\n",
    "update('IT',4)\n",
    "\n",
    "\n",
    "fetch_all()    "
   ]
  },
  {
   "cell_type": "markdown",
   "id": "cbcb74b5",
   "metadata": {},
   "source": [
    "### Assignment 5: Deleting Data\n",
    "\n",
    "1. Write a Python function to delete an employee from the `employees` table based on their `id`.\n"
   ]
  },
  {
   "cell_type": "code",
   "execution_count": 10,
   "id": "a6abe01f",
   "metadata": {},
   "outputs": [],
   "source": [
    "def delete(id):\n",
    "    conn = sqlite3.Connection('test.db')\n",
    "    cursor = conn.cursor()\n",
    "\n",
    "    cursor.execute('''\n",
    "        Delete from employees\n",
    "        where id = ?\n",
    "    ''',(id,))\n",
    "    conn.commit()\n",
    "    conn.close()\n",
    "\n",
    "\n",
    "delete(6)   \n"
   ]
  },
  {
   "cell_type": "markdown",
   "id": "b21ed15f",
   "metadata": {},
   "source": [
    "2. Delete at least 1 employee and display the remaining records.\n",
    "\n"
   ]
  },
  {
   "cell_type": "code",
   "execution_count": null,
   "id": "8e787891",
   "metadata": {},
   "outputs": [
    {
     "name": "stdout",
     "output_type": "stream",
     "text": [
      "(4, 'Taha', 21, 'IT')\n",
      "(5, 'Rahim', 16, 'IT')\n",
      "(8, 'Ali Sameed', 22, 'Director')\n",
      "(13, 'Sehrish', 20, 'Nursing')\n"
     ]
    }
   ],
   "source": [
    "delete(2)\n",
    "\n",
    "fetch_all()"
   ]
  },
  {
   "cell_type": "markdown",
   "id": "494868ab",
   "metadata": {},
   "source": [
    "### Assignment 6: Advanced Queries\n",
    "\n",
    "1. Write a Python function to fetch and display employees older than a certain age.\n"
   ]
  },
  {
   "cell_type": "code",
   "execution_count": 17,
   "id": "454d84dc",
   "metadata": {},
   "outputs": [
    {
     "name": "stdout",
     "output_type": "stream",
     "text": [
      "(4, 'Taha', 21, 'IT')\n",
      "(8, 'Ali Sameed', 22, 'Director')\n",
      "(13, 'Sehrish', 20, 'Nursing')\n"
     ]
    }
   ],
   "source": [
    "def fetch_specific_age(age):\n",
    "    conn = sqlite3.Connection('test.db')\n",
    "    cursor = conn.cursor()\n",
    "\n",
    "    cursor.execute('''\n",
    "        Select * from employees\n",
    "        where age > ?\n",
    "    ''',(age,))\n",
    "    rows = cursor.fetchall()\n",
    "\n",
    "    for row in rows:\n",
    "        print(row)\n",
    "\n",
    "    conn.close()\n",
    "\n",
    "\n",
    "fetch_specific_age(19)\n",
    "\n",
    "\n",
    " "
   ]
  },
  {
   "cell_type": "markdown",
   "id": "880baf14",
   "metadata": {},
   "source": [
    "2. Write a Python function to fetch and display employees whose names start with a specific letter.\n",
    "\n"
   ]
  },
  {
   "cell_type": "code",
   "execution_count": 18,
   "id": "72b3cf2f",
   "metadata": {},
   "outputs": [
    {
     "name": "stdout",
     "output_type": "stream",
     "text": [
      "(8, 'Ali Sameed', 22, 'Director')\n"
     ]
    }
   ],
   "source": [
    "def fetch_specific_age(letter):\n",
    "    conn = sqlite3.Connection('test.db')\n",
    "    cursor = conn.cursor()\n",
    "\n",
    "    cursor.execute('''\n",
    "        Select * from employees\n",
    "        where name LIKE ?\n",
    "    ''',(letter + '%',))\n",
    "    rows = cursor.fetchall()\n",
    "\n",
    "    for row in rows:\n",
    "        print(row)\n",
    "\n",
    "    conn.close()\n",
    "\n",
    "\n",
    "fetch_specific_age('A')\n",
    "\n",
    "\n",
    " "
   ]
  },
  {
   "cell_type": "markdown",
   "id": "b419d752",
   "metadata": {},
   "source": [
    "### Assignment 7: Handling Transactions\n",
    "\n"
   ]
  },
  {
   "cell_type": "markdown",
   "id": "3037ac91",
   "metadata": {},
   "source": [
    "1. Write a Python function to insert multiple employees into the `employees` table in a single transaction. Ensure that if any insertion fails, none of the insertions are committed.\n"
   ]
  },
  {
   "cell_type": "code",
   "execution_count": 27,
   "id": "a7b80ade",
   "metadata": {},
   "outputs": [
    {
     "name": "stdout",
     "output_type": "stream",
     "text": [
      "UNIQUE constraint failed: employees.id\n"
     ]
    }
   ],
   "source": [
    "def insert_multiple_employee(data):\n",
    "    conn = sqlite3.Connection('test.db')\n",
    "    cursor = conn.cursor()\n",
    "    try:    \n",
    "        cursor.executemany('''\n",
    "        Insert Into employees(id,name,age,department)\n",
    "                        values(?,?,?,?)\n",
    "        ''',data)\n",
    "        conn.commit()\n",
    "    except Exception as e:\n",
    "        conn.rollback()\n",
    "        print(e)\n",
    "    finally:\n",
    "        conn.close() \n",
    "\n",
    "\n",
    "employees = [\n",
    "    (4, 'Frank', 40, 'Finance'),\n",
    "    (5, 'Grace', 29, 'Engineering'),\n",
    "    (6, 'Ivan', 38, 'Sales')\n",
    "]\n",
    "\n",
    "insert_multiple_employee(employees)\n",
    "\n",
    "\n"
   ]
  },
  {
   "cell_type": "markdown",
   "id": "5001ff14",
   "metadata": {},
   "source": [
    "2. Write a Python function to update the age of multiple employees in a single transaction. Ensure that if any update fails, none of the updates are committed.\n",
    "\n"
   ]
  },
  {
   "cell_type": "code",
   "execution_count": 31,
   "id": "737cecc4",
   "metadata": {},
   "outputs": [
    {
     "name": "stdout",
     "output_type": "stream",
     "text": [
      "(4, 'Taha', 45, 'IT')\n",
      "(5, 'Rahim', 30, 'IT')\n",
      "(6, 'Frank', 42, 'Finance')\n",
      "(7, 'Grace', 29, 'Engineering')\n",
      "(8, 'Ali Sameed', 22, 'Director')\n",
      "(9, 'Ivan', 38, 'Sales')\n",
      "(13, 'Sehrish', 20, 'Nursing')\n"
     ]
    }
   ],
   "source": [
    "def insert_multiple_employee_age(data):\n",
    "    conn = sqlite3.Connection('test.db')\n",
    "    cursor = conn.cursor()\n",
    "    try:    \n",
    "        cursor.executemany('''\n",
    "        Update employees\n",
    "        SET age = ?\n",
    "        where id = ?         \n",
    "        ''',data)\n",
    "        conn.commit()\n",
    "    except Exception as e:\n",
    "        conn.rollback()\n",
    "        print(e)\n",
    "    finally:\n",
    "        conn.close() \n",
    "\n",
    "\n",
    "employees = [\n",
    "    (45,4),\n",
    "    (30,5),\n",
    "    (42,6)\n",
    "]\n",
    "\n",
    "insert_multiple_employee_age(employees)\n",
    "fetch_all()"
   ]
  },
  {
   "cell_type": "markdown",
   "id": "87ea46f9",
   "metadata": {},
   "source": [
    "### Assignment 8: Backing Up and Restoring Data\n",
    "\n",
    "1. Write a Python function to back up the `test.db` database to a file named `backup.db`.\n"
   ]
  },
  {
   "cell_type": "code",
   "execution_count": 36,
   "id": "87c80bc4",
   "metadata": {},
   "outputs": [
    {
     "name": "stdout",
     "output_type": "stream",
     "text": [
      "Database backed up successfully.\n"
     ]
    }
   ],
   "source": [
    "import shutil\n",
    "\n",
    "def backup(old_db,back_db):\n",
    "    shutil.copy(old_db,back_db)\n",
    "    print(\"Database backed up successfully.\")\n",
    "\n",
    "\n",
    "backup('test.db','backup.db')\n"
   ]
  },
  {
   "cell_type": "markdown",
   "id": "511fbf6e",
   "metadata": {},
   "source": [
    "2. Write a Python function to restore the `test.db` database from the `backup.db` file."
   ]
  },
  {
   "cell_type": "code",
   "execution_count": 37,
   "metadata": {},
   "outputs": [
    {
     "name": "stdout",
     "output_type": "stream",
     "text": [
      "Database backed up successfully.\n"
     ]
    }
   ],
   "source": [
    "import shutil\n",
    "\n",
    "def backup(old_db,back_db):\n",
    "    shutil.copy(back_db,old_db)\n",
    "    print(\"Database backed up successfully.\")\n",
    "\n",
    "\n",
    "backup('test.db','backup.db')\n"
   ]
  },
  {
   "cell_type": "code",
   "execution_count": null,
   "id": "16e40459",
   "metadata": {},
   "outputs": [],
   "source": []
  }
 ],
 "metadata": {
  "kernelspec": {
   "display_name": "Python 3",
   "language": "python",
   "name": "python3"
  },
  "language_info": {
   "codemirror_mode": {
    "name": "ipython",
    "version": 3
   },
   "file_extension": ".py",
   "mimetype": "text/x-python",
   "name": "python",
   "nbconvert_exporter": "python",
   "pygments_lexer": "ipython3",
   "version": "3.12.0"
  }
 },
 "nbformat": 4,
 "nbformat_minor": 5
}
