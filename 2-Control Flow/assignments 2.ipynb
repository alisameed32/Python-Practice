{
 "cells": [
  {
   "cell_type": "markdown",
   "metadata": {},
   "source": [
    "# Module 2: Control Flow Assignments\n",
    "## Lesson 2.1: Conditional Statements\n",
    "### Assignment 1: Simple if Statement\n",
    "\n",
    "Write a program that asks the user to input a number and prints whether the number is positive.\n",
    "\n",
    "### Assignment 2: if-else Statement\n",
    "\n",
    "Write a program that asks the user to input a number and prints whether the number is positive or negative.\n",
    "\n",
    "### Assignment 3: if-elif-else Statement\n",
    "\n",
    "Write a program that asks the user to input a number and prints whether the number is positive, negative, or zero.\n",
    "\n",
    "### Assignment 4: Nested if Statement\n",
    "\n",
    "Write a program that asks the user to input a number and prints whether the number is positive and even, positive and odd, or negative.\n",
    "\n",
    "## Lesson 2.2: Loops\n",
    "### Assignment 5: for Loop\n",
    "\n",
    "Write a program that prints all the numbers from 1 to 10 using a for loop.\n",
    "\n",
    "### Assignment 6: while Loop\n",
    "\n",
    "Write a program that prints all the numbers from 1 to 10 using a while loop.\n",
    "\n",
    "### Assignment 7: Nested Loops\n",
    "\n",
    "Write a program that prints a 5x5 grid of asterisks (*) using nested loops.\n",
    "\n",
    "### Assignment 8: break Statement\n",
    "\n",
    "Write a program that asks the user to input numbers until they input 0. The program should print the sum of all the input numbers.\n",
    "\n",
    "### Assignment 9: continue Statement\n",
    "\n",
    "Write a program that prints all the numbers from 1 to 10 except 5 using a for loop and continue statement.\n",
    "\n",
    "\n",
    "### Assignment 10: Combining Loops and Conditionals\n",
    "\n",
    "Write a program that asks the user to input a number and prints all the even numbers from 1 to that number using a for loop.\n",
    "\n",
    "### Assignment 11: Factorial Calculation\n",
    "\n",
    "Write a program that calculates the factorial of a number input by the user using a while loop.\n",
    "\n",
    "### Assignment 12: Sum of Digits\n",
    "\n",
    "Write a program that calculates the sum of the digits of a number input by the user using a while loop.\n",
    "\n",
    "### Assignment 13: Prime Number Check\n",
    "\n",
    "Write a program that checks if a number input by the user is a prime number using a for loop.\n",
    "\n",
    "### Assignment 14: Fibonacci Sequence\n",
    "\n",
    "Write a program that prints the first n Fibonacci numbers, where n is input by the user."
   ]
  },
  {
   "cell_type": "code",
   "execution_count": null,
   "metadata": {},
   "outputs": [
    {
     "name": "stdout",
     "output_type": "stream",
     "text": [
      "1 Number is postive\n"
     ]
    }
   ],
   "source": [
    "#Assignment 1\n",
    "\n",
    "num = int(input(\"Enter a number:\"))\n",
    "\n",
    "if num > 0:\n",
    "    print(f\"{num} Number is postive\")"
   ]
  },
  {
   "cell_type": "code",
   "execution_count": 7,
   "id": "cd43d9e9",
   "metadata": {},
   "outputs": [
    {
     "name": "stdout",
     "output_type": "stream",
     "text": [
      "2 Number is postive\n"
     ]
    }
   ],
   "source": [
    "#Assignment 2\n",
    "\n",
    "num = int(input(\"Enter a number:\"))\n",
    "\n",
    "if num > 0:\n",
    "    print(f\"{num} Number is postive\")\n",
    "else:\n",
    "    print(f\"{num} Number is negative\") \n",
    "    \n",
    "       "
   ]
  },
  {
   "cell_type": "code",
   "execution_count": null,
   "id": "033e7b03",
   "metadata": {},
   "outputs": [],
   "source": [
    "#Assignment 3\n",
    "\n",
    "num = int(input(\"Enter a number:\"))\n",
    "\n",
    "if num > 0:\n",
    "    print(f\"{num} Number is postive\")\n",
    "elif num == 0:\n",
    "    print(f\"{num} Number is zero\")    \n",
    "else:\n",
    "    print(f\"{num} Number is negative\") \n",
    "    \n",
    "       "
   ]
  },
  {
   "cell_type": "code",
   "execution_count": 8,
   "id": "973ca7eb",
   "metadata": {},
   "outputs": [
    {
     "name": "stdout",
     "output_type": "stream",
     "text": [
      "2 is postive and even\n"
     ]
    }
   ],
   "source": [
    "#Assignment 4\n",
    "\n",
    "num = int(input(\"Enter a number:\"))\n",
    "\n",
    "if num > 0:\n",
    "    if num % 2 == 0:\n",
    "        print(f\"{num} is postive and even\")\n",
    "    else:\n",
    "        print(f\"{num} is postive and odd\")\n",
    "else:\n",
    "    print(f\"{num} is negative\")            \n",
    "    \n",
    "       "
   ]
  },
  {
   "cell_type": "code",
   "execution_count": 9,
   "id": "42b84506",
   "metadata": {},
   "outputs": [
    {
     "name": "stdout",
     "output_type": "stream",
     "text": [
      "1\n",
      "2\n",
      "3\n",
      "4\n",
      "5\n",
      "6\n",
      "7\n",
      "8\n",
      "9\n",
      "10\n"
     ]
    }
   ],
   "source": [
    "#Assignment 5\n",
    "\n",
    "for i in range(1,11):\n",
    "    print(i)"
   ]
  },
  {
   "cell_type": "code",
   "execution_count": 10,
   "id": "438ab000",
   "metadata": {},
   "outputs": [
    {
     "name": "stdout",
     "output_type": "stream",
     "text": [
      "1\n",
      "2\n",
      "3\n",
      "4\n",
      "5\n",
      "6\n",
      "7\n",
      "8\n",
      "9\n",
      "10\n"
     ]
    }
   ],
   "source": [
    "#Assignment 6\n",
    "\n",
    "count = 1\n",
    "\n",
    "while count<11:\n",
    "    print(count)\n",
    "    count = count + 1"
   ]
  },
  {
   "cell_type": "code",
   "execution_count": 14,
   "id": "5da8f640",
   "metadata": {},
   "outputs": [
    {
     "name": "stdout",
     "output_type": "stream",
     "text": [
      "*****\n",
      "*****\n",
      "*****\n",
      "*****\n",
      "*****\n"
     ]
    }
   ],
   "source": [
    "#Assignment 7\n",
    "\n",
    "for i in range(5):\n",
    "    for j in range(5):\n",
    "        print(\"*\", end=\"\")\n",
    "    print()    "
   ]
  },
  {
   "cell_type": "code",
   "execution_count": null,
   "id": "85fbf37a",
   "metadata": {},
   "outputs": [
    {
     "name": "stdout",
     "output_type": "stream",
     "text": [
      "sum: 6\n"
     ]
    }
   ],
   "source": [
    "#Assignment 8\n",
    "\n",
    "sum = 0\n",
    "\n",
    "while True:\n",
    "    num = int(input(\"Enter a number\"))\n",
    "    if num == 0:\n",
    "        break\n",
    "    sum = sum + num\n",
    "\n",
    "\n",
    "print(f\"sum: {sum}\")"
   ]
  },
  {
   "cell_type": "code",
   "execution_count": 16,
   "id": "d744dc01",
   "metadata": {},
   "outputs": [
    {
     "name": "stdout",
     "output_type": "stream",
     "text": [
      "1\n",
      "2\n",
      "3\n",
      "4\n",
      "6\n",
      "7\n",
      "8\n",
      "9\n",
      "10\n"
     ]
    }
   ],
   "source": [
    "#Assignment 9\n",
    "\n",
    "for i in range(1,11):\n",
    "    if i == 5:\n",
    "        continue\n",
    "    print(i)\n",
    "    "
   ]
  },
  {
   "cell_type": "code",
   "execution_count": 17,
   "id": "fdf39dd6",
   "metadata": {},
   "outputs": [
    {
     "name": "stdout",
     "output_type": "stream",
     "text": [
      "2\n",
      "4\n",
      "6\n",
      "8\n",
      "10\n",
      "12\n",
      "14\n",
      "16\n",
      "18\n",
      "20\n"
     ]
    }
   ],
   "source": [
    "#Assignment 10\n",
    "\n",
    "num = int(input(\"Enter a num: \"))\n",
    "\n",
    "for i in range(1,num+1):\n",
    "    if i % 2 == 0:\n",
    "        print(i)"
   ]
  },
  {
   "cell_type": "code",
   "execution_count": 20,
   "id": "3674c14f",
   "metadata": {},
   "outputs": [
    {
     "name": "stdout",
     "output_type": "stream",
     "text": [
      "0 factorial: 1\n"
     ]
    }
   ],
   "source": [
    "#Assignment 11\n",
    "\n",
    "num = int(input(\"Enter a num: \"))\n",
    "\n",
    "fact = 1\n",
    "i = 1\n",
    "\n",
    "while i <= num:\n",
    "    fact *= i\n",
    "    i += 1\n",
    "\n",
    "print(f\"{num} factorial: {fact}\")    \n",
    "\n"
   ]
  },
  {
   "cell_type": "code",
   "execution_count": 22,
   "id": "95a7ee68",
   "metadata": {},
   "outputs": [
    {
     "name": "stdout",
     "output_type": "stream",
     "text": [
      "Sum: 15\n"
     ]
    }
   ],
   "source": [
    "#Assignment 12\n",
    "\n",
    "num = int(input(\"Enter a number: \"))\n",
    "count = 0\n",
    "sum = 0\n",
    "\n",
    "while count <= num:\n",
    "    sum += count\n",
    "    count += 1\n",
    "\n",
    "print(f\"Sum: {sum}\")"
   ]
  },
  {
   "cell_type": "code",
   "execution_count": null,
   "id": "5389151f",
   "metadata": {},
   "outputs": [
    {
     "name": "stdout",
     "output_type": "stream",
     "text": [
      "Prime\n"
     ]
    }
   ],
   "source": [
    "#Assignment 13\n",
    "\n",
    "num = int(input(\"Enter a number: \"))\n",
    "\n",
    "if num > 1:\n",
    "    for i in range(2, num):\n",
    "        if num % i == 0:\n",
    "            print(\"Not Prime\")\n",
    "    else:\n",
    "        print(\"Prime\")\n",
    "else:\n",
    "    print(\"Not Prime\")                "
   ]
  },
  {
   "cell_type": "code",
   "execution_count": 33,
   "id": "db69d5ee",
   "metadata": {},
   "outputs": [
    {
     "name": "stdout",
     "output_type": "stream",
     "text": [
      "0\n",
      "1\n",
      "1\n",
      "2\n",
      "3\n"
     ]
    }
   ],
   "source": [
    "#Assignment 14\n",
    "\n",
    "num = int(input(\"Enter a number: \"))\n",
    "\n",
    "a = 0\n",
    "b = 1\n",
    "count = 0\n",
    "\n",
    "while count < num:\n",
    "    print(a)\n",
    "    a, b = b, a+b\n",
    "    count += 1"
   ]
  }
 ],
 "metadata": {
  "kernelspec": {
   "display_name": "Python 3",
   "language": "python",
   "name": "python3"
  },
  "language_info": {
   "codemirror_mode": {
    "name": "ipython",
    "version": 3
   },
   "file_extension": ".py",
   "mimetype": "text/x-python",
   "name": "python",
   "nbconvert_exporter": "python",
   "pygments_lexer": "ipython3",
   "version": "3.12.0"
  }
 },
 "nbformat": 4,
 "nbformat_minor": 5
}
