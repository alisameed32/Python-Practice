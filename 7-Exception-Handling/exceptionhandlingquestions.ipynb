{
 "cells": [
  {
   "cell_type": "markdown",
   "metadata": {},
   "source": [
    "# Module: Exception Handling Assignments\n",
    "## Lesson: Exception Handling with try, except, and finally\n"
   ]
  },
  {
   "cell_type": "markdown",
   "id": "96a876d9",
   "metadata": {},
   "source": [
    "### Assignment 1: Handling Division by Zero\n",
    "\n",
    "Write a function that takes two integers as input and returns their division. Use try, except, and finally blocks to handle division by zero and print an appropriate message.\n",
    "\n"
   ]
  },
  {
   "cell_type": "code",
   "execution_count": 2,
   "id": "03483396",
   "metadata": {},
   "outputs": [
    {
     "name": "stdout",
     "output_type": "stream",
     "text": [
      "division by zero\n",
      "None\n"
     ]
    }
   ],
   "source": [
    "def div(a,b):\n",
    "    try:\n",
    "        c = a/b\n",
    "    except ZeroDivisionError as e1:\n",
    "        print(e1)\n",
    "        c = None\n",
    "    finally:\n",
    "        return c\n",
    "\n",
    "\n",
    "print(div(1,0))"
   ]
  },
  {
   "cell_type": "markdown",
   "id": "5760dbe7",
   "metadata": {},
   "source": [
    "### Assignment 2: File Reading with Exception Handling\n",
    "\n",
    "Write a function that reads the contents of a file named `data.txt`. Use try, except, and finally blocks to handle file not found errors and ensure the file is properly closed.\n",
    "\n"
   ]
  },
  {
   "cell_type": "code",
   "execution_count": 3,
   "id": "cef919c7",
   "metadata": {},
   "outputs": [
    {
     "name": "stdout",
     "output_type": "stream",
     "text": [
      "Hello universe! This is a sample text file.  \n",
      "The universe is a beautiful place to explore.  \n",
      "Many people around the universe enjoy learning new things.  \n",
      "\n",
      "File closed\n"
     ]
    }
   ],
   "source": [
    "def read():\n",
    "    try:\n",
    "        file = open('data.txt', 'r')\n",
    "    except FileNotFoundError as e:\n",
    "        print(e)\n",
    "    else:\n",
    "        print(file.read())\n",
    "    finally:\n",
    "        file.close()\n",
    "        print(\"File closed\")\n",
    "\n",
    "\n",
    "read()\n",
    "\n"
   ]
  },
  {
   "cell_type": "markdown",
   "id": "b062c57a",
   "metadata": {},
   "source": [
    "### Assignment 3: Handling Multiple Exceptions\n",
    "\n",
    "Write a function that takes a list of integers and returns their sum. Use try, except, and finally blocks to handle TypeError if a non-integer value is encountered and print an appropriate message.\n",
    "\n"
   ]
  },
  {
   "cell_type": "code",
   "execution_count": 6,
   "id": "56610c9e",
   "metadata": {},
   "outputs": [
    {
     "data": {
      "text/plain": [
       "7"
      ]
     },
     "execution_count": 6,
     "metadata": {},
     "output_type": "execute_result"
    }
   ],
   "source": [
    "def sum(lst):\n",
    "    sum = 0\n",
    "    try: \n",
    "        for i in lst:\n",
    "            sum += i\n",
    "    except TypeError as e1:\n",
    "        print(e1)\n",
    "        sum = None\n",
    "    except Exception as e2:\n",
    "        print(e2)\n",
    "        sum = None\n",
    "    finally:\n",
    "        return sum\n",
    "\n",
    "\n",
    "x = [1,2,4]\n",
    "sum(x)\n",
    "                "
   ]
  }
 ],
 "metadata": {
  "kernelspec": {
   "display_name": "Python 3",
   "language": "python",
   "name": "python3"
  },
  "language_info": {
   "codemirror_mode": {
    "name": "ipython",
    "version": 3
   },
   "file_extension": ".py",
   "mimetype": "text/x-python",
   "name": "python",
   "nbconvert_exporter": "python",
   "pygments_lexer": "ipython3",
   "version": "3.12.0"
  }
 },
 "nbformat": 4,
 "nbformat_minor": 5
}
