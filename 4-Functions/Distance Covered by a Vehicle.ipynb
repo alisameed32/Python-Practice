{
 "cells": [
  {
   "cell_type": "markdown",
   "metadata": {},
   "source": [
    "Distance Covered by a Vehicle\n",
    "Problem Description:\n",
    "\n",
    "You are given the speed of a vehicle and the time it has traveled. Your task is to compute and return the distance traveled by the vehicle.\n",
    "\n",
    "Formula:\n",
    "\n",
    "To calculate the distance traveled by a vehicle:\n",
    "\n",
    "Distance=Speed×Time\n",
    "\n",
    "\n",
    "\n",
    "Input:\n",
    "\n",
    "Two floating-point numbers, speed and time, representing the speed of the vehicle and the time it has been traveling.\n",
    "\n",
    "\n",
    "\n",
    "Output:\n",
    "\n",
    "A floating-point number representing the distance traveled.\n",
    "\n",
    "\n",
    "\n",
    "Example:\n",
    "\n",
    "Input: speed = 60, time = 2\n",
    "Output: 120.0\n",
    " \n",
    "Input: speed = 50.5, time = 1.5\n",
    "Output: 75.75"
   ]
  },
  {
   "cell_type": "code",
   "execution_count": 1,
   "metadata": {},
   "outputs": [
    {
     "name": "stdout",
     "output_type": "stream",
     "text": [
      "120.0\n"
     ]
    }
   ],
   "source": [
    "def calculate_distance(speed, time):\n",
    "    return float(speed*time)\n",
    "\n",
    "\n",
    "Distance = calculate_distance(speed=60, time=2)\n",
    "print(Distance)"
   ]
  }
 ],
 "metadata": {
  "kernelspec": {
   "display_name": "Python 3",
   "language": "python",
   "name": "python3"
  },
  "language_info": {
   "codemirror_mode": {
    "name": "ipython",
    "version": 3
   },
   "file_extension": ".py",
   "mimetype": "text/x-python",
   "name": "python",
   "nbconvert_exporter": "python",
   "pygments_lexer": "ipython3",
   "version": "3.12.0"
  }
 },
 "nbformat": 4,
 "nbformat_minor": 2
}
