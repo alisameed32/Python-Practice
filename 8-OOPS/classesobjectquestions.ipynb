{
 "cells": [
  {
   "cell_type": "markdown",
   "metadata": {},
   "source": [
    "# Module: Classes and Objects Assignments\n",
    "## Lesson: Creating and Working with Classes and Objects\n"
   ]
  },
  {
   "cell_type": "markdown",
   "id": "e8b33069",
   "metadata": {},
   "source": [
    "### Assignment 1: Basic Class and Object Creation\n",
    "\n",
    "Create a class named `Car` with attributes `make`, `model`, and `year`. Create an object of the class and print its attributes.\n",
    "\n"
   ]
  },
  {
   "cell_type": "code",
   "execution_count": 6,
   "id": "7f93ed22",
   "metadata": {},
   "outputs": [
    {
     "name": "stdout",
     "output_type": "stream",
     "text": [
      "My car BMW, make: abc, model: GSClass, year: 2025\n"
     ]
    }
   ],
   "source": [
    "class Car:\n",
    "    def __init__(self, make, model, year):\n",
    "        self.make = make\n",
    "        self.model = model\n",
    "        self.year = year\n",
    "\n",
    "\n",
    "bmw=Car(\"abc\", \"GSClass\", 2025) \n",
    "print(f\"My car BMW, make: {bmw.make}, model: {bmw.model}, year: {bmw.year}\")       "
   ]
  },
  {
   "cell_type": "markdown",
   "id": "5ca96b9d",
   "metadata": {},
   "source": [
    "### Assignment 2: Methods in Class\n",
    "\n",
    "Add a method named `start_engine` to the `Car` class that prints a message when the engine starts. Create an object of the class and call the method.\n",
    "\n"
   ]
  },
  {
   "cell_type": "code",
   "execution_count": 8,
   "id": "656a98b9",
   "metadata": {},
   "outputs": [
    {
     "name": "stdout",
     "output_type": "stream",
     "text": [
      "My car BMW, make: abc, model: GSClass, year: 2025\n",
      "Car Engine started\n"
     ]
    }
   ],
   "source": [
    "class Car:\n",
    "    def __init__(self, make, model, year):\n",
    "        self.make = make\n",
    "        self.model = model\n",
    "        self.year = year\n",
    "\n",
    "\n",
    "    def start_engine(self):\n",
    "        print(\"Car Engine started\")\n",
    "\n",
    "\n",
    "bmw=Car(\"abc\", \"GSClass\", 2025) \n",
    "print(f\"My car BMW, make: {bmw.make}, model: {bmw.model}, year: {bmw.year}\")     \n",
    "bmw.start_engine()"
   ]
  },
  {
   "cell_type": "markdown",
   "id": "2df4e865",
   "metadata": {},
   "source": [
    "### Assignment 3: Class with Constructor\n",
    "\n",
    "Create a class named `Student` with attributes `name` and `age`. Use a constructor to initialize these attributes. Create an object of the class and print its attributes.\n",
    "\n"
   ]
  },
  {
   "cell_type": "code",
   "execution_count": 11,
   "id": "9f4fa1db",
   "metadata": {},
   "outputs": [
    {
     "name": "stdout",
     "output_type": "stream",
     "text": [
      "Student Name: Ali Sameed | Age: 22\n"
     ]
    }
   ],
   "source": [
    "class Student:\n",
    "    def __init__(self, name, age):\n",
    "        self.name = name \n",
    "        self.age = age \n",
    "\n",
    "    def get_student(self):\n",
    "        print(f\"Student Name: {self.name} | Age: {self.age}\")\n",
    "\n",
    "\n",
    "s1 = Student(\"Ali Sameed\", 22)\n",
    "s1.get_student()"
   ]
  }
 ],
 "metadata": {
  "kernelspec": {
   "display_name": "Python 3",
   "language": "python",
   "name": "python3"
  },
  "language_info": {
   "codemirror_mode": {
    "name": "ipython",
    "version": 3
   },
   "file_extension": ".py",
   "mimetype": "text/x-python",
   "name": "python",
   "nbconvert_exporter": "python",
   "pygments_lexer": "ipython3",
   "version": "3.12.0"
  }
 },
 "nbformat": 4,
 "nbformat_minor": 5
}
