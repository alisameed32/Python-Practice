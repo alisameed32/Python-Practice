{
 "cells": [
  {
   "cell_type": "markdown",
   "metadata": {},
   "source": [
    "# Module: OOP Assignments\n",
    "## Lesson: Polymorphism, Abstraction, and Encapsulation\n"
   ]
  },
  {
   "cell_type": "markdown",
   "id": "2f278cdf",
   "metadata": {},
   "source": [
    "### Assignment 1: Polymorphism with Methods\n",
    "\n",
    "Create a base class named `Shape` with a method `area`. Create two derived classes `Circle` and `Square` that override the `area` method. Create a list of `Shape` objects and call the `area` method on each object to demonstrate polymorphism.\n",
    "\n"
   ]
  },
  {
   "cell_type": "code",
   "execution_count": 8,
   "id": "d95433c4",
   "metadata": {},
   "outputs": [
    {
     "name": "stdout",
     "output_type": "stream",
     "text": [
      "12.566370614359172\n",
      "4\n"
     ]
    }
   ],
   "source": [
    "from math import pi\n",
    "\n",
    "class Shape:\n",
    "    def area(self):\n",
    "        return f\"Area of a shape\"\n",
    "    \n",
    "\n",
    "class Circle(Shape):\n",
    "    def __init__(self,radius):\n",
    "        self.radius = radius\n",
    "\n",
    "    def area(self):\n",
    "        return pi*(self.radius**2)\n",
    "        \n",
    "\n",
    "class Square(Shape):\n",
    "    def __init__(self,side):\n",
    "        self.side = side\n",
    "\n",
    "    def area(self):\n",
    "        return self.side ** 2\n",
    "\n",
    "\n",
    "circle = Circle(2)\n",
    "square = Square(2)\n",
    "\n",
    "print(circle.area())\n",
    "print(square.area())\n",
    "\n",
    "\n"
   ]
  },
  {
   "cell_type": "markdown",
   "id": "477ecd0f",
   "metadata": {},
   "source": [
    "### Assignment 2: Polymorphism with Function Arguments\n",
    "\n",
    "Create a function named `describe_shape` that takes a `Shape` object as an argument and calls its `area` method. Create objects of `Circle` and `Square` classes and pass them to the `describe_shape` function.\n",
    "\n"
   ]
  },
  {
   "cell_type": "code",
   "execution_count": 9,
   "id": "ef7ffcba",
   "metadata": {},
   "outputs": [
    {
     "name": "stdout",
     "output_type": "stream",
     "text": [
      "12.566370614359172\n",
      "4\n"
     ]
    }
   ],
   "source": [
    "def describe_shape(shape):\n",
    "    print(shape.area())\n",
    "\n",
    "\n",
    "circle = Circle(2)\n",
    "square = Square(2)\n",
    "\n",
    "describe_shape(circle)\n",
    "describe_shape(square)"
   ]
  },
  {
   "cell_type": "markdown",
   "id": "1de198ba",
   "metadata": {},
   "source": [
    "### Assignment 3: Abstract Base Class with Abstract Methods\n",
    "\n",
    "Create an abstract base class named `Vehicle` with an abstract method `start_engine`. Create derived classes `Car` and `Bike` that implement the `start_engine` method. Create objects of the derived classes and call the `start_engine` method.\n",
    "\n"
   ]
  },
  {
   "cell_type": "code",
   "execution_count": 10,
   "id": "49c6448e",
   "metadata": {},
   "outputs": [
    {
     "name": "stdout",
     "output_type": "stream",
     "text": [
      "Car engine start\n",
      "Bike engine start\n"
     ]
    }
   ],
   "source": [
    "from abc import ABC, abstractmethod\n",
    "\n",
    "class Vehicle(ABC):\n",
    "    @abstractmethod\n",
    "    def start_engine(self):\n",
    "        pass\n",
    "\n",
    "class Car(Vehicle):\n",
    "    def start_engine(self):\n",
    "        print(\"Car engine start\")\n",
    "\n",
    "\n",
    "class Bike(Vehicle):\n",
    "    def start_engine(self):\n",
    "        print(\"Bike engine start\")\n",
    "\n",
    "\n",
    "car = Car()\n",
    "bike = Bike()\n",
    "\n",
    "car.start_engine()\n",
    "bike.start_engine()"
   ]
  },
  {
   "cell_type": "markdown",
   "id": "ac6e12e7",
   "metadata": {},
   "source": [
    "### Assignment 4: Abstract Base Class with Concrete Methods\n",
    "\n",
    "In the `Vehicle` class, add a concrete method `fuel_type` that returns a generic fuel type. Override this method in `Car` and `Bike` classes to return specific fuel types. Create objects of the derived classes and call the `fuel_type` method.\n",
    "\n"
   ]
  },
  {
   "cell_type": "code",
   "execution_count": 12,
   "id": "b40e98f8",
   "metadata": {},
   "outputs": [
    {
     "name": "stdout",
     "output_type": "stream",
     "text": [
      "Car engine start\n",
      "Generic Fuel\n",
      "Bike engine start\n",
      "Generic Fuel\n"
     ]
    }
   ],
   "source": [
    "from abc import ABC, abstractmethod\n",
    "\n",
    "class Vehicle(ABC):\n",
    "    @abstractmethod\n",
    "    def start_engine(self):\n",
    "        pass\n",
    "\n",
    "    def fuel_type(self):\n",
    "        return \"Generic Fuel\"\n",
    "\n",
    "class Car(Vehicle):\n",
    "    def start_engine(self):\n",
    "        print(\"Car engine start\")\n",
    "\n",
    "\n",
    "class Bike(Vehicle):\n",
    "    def start_engine(self):\n",
    "        print(\"Bike engine start\")\n",
    "\n",
    "\n",
    "car = Car()\n",
    "bike = Bike()\n",
    "\n",
    "car.start_engine()\n",
    "print(car.fuel_type())\n",
    "bike.start_engine()\n",
    "print(bike.fuel_type())"
   ]
  },
  {
   "cell_type": "markdown",
   "id": "ed3ccefd",
   "metadata": {},
   "source": [
    "### Assignment 5: Encapsulation with Private Attributes\n",
    "\n",
    "Create a class named `BankAccount` with private attributes `account_number` and `balance`. Add methods to deposit and withdraw money, and to check the balance. Ensure that the balance cannot be accessed directly.\n",
    "\n"
   ]
  },
  {
   "cell_type": "code",
   "execution_count": 14,
   "id": "8f0419de",
   "metadata": {},
   "outputs": [
    {
     "name": "stdout",
     "output_type": "stream",
     "text": [
      "13000\n",
      "7000\n",
      "Insuuficient Balance\n",
      "7000\n"
     ]
    }
   ],
   "source": [
    "class BankAccount:\n",
    "    def __init__(self, account_numeber, balance):\n",
    "        self.__account_number = account_numeber\n",
    "        self.__balance = balance\n",
    "\n",
    "    def get_account_number(self):\n",
    "        return self.__account_number\n",
    "\n",
    "    def get_balance(self):\n",
    "        return self.__balance \n",
    "\n",
    "    def deposit(self, amount):\n",
    "        self.__balance += amount\n",
    "\n",
    "    def withdraw(self,amount):\n",
    "        if amount > self.__balance:\n",
    "            print(\"Insufficien Balance\")\n",
    "        else:\n",
    "            self.__balance -= amount\n",
    "\n",
    "    def see_balance(self):\n",
    "        return self.get_balance()\n",
    "\n",
    "\n",
    "bankaccount = BankAccount(1234,5000)\n",
    "bankaccount.deposit(8000)\n",
    "print(bankaccount.see_balance())\n",
    "bankaccount.withdraw(6000)\n",
    "print(bankaccount.see_balance())\n",
    "bankaccount.withdraw(9000)\n",
    "print(bankaccount.see_balance())\n",
    "\n",
    "\n",
    "\n"
   ]
  },
  {
   "cell_type": "markdown",
   "id": "366e33e9",
   "metadata": {},
   "source": [
    "### Assignment 6: Combining Encapsulation and Inheritance\n",
    "\n",
    "Create a base class named `Person` with private attributes `name` and `age`. Add methods to get and set these attributes. Create a derived class named `Student` that adds an attribute `student_id`. Create an object of the `Student` class and test the encapsulation.\n",
    "\n"
   ]
  },
  {
   "cell_type": "code",
   "execution_count": 15,
   "id": "0e8939e5",
   "metadata": {},
   "outputs": [
    {
     "name": "stdout",
     "output_type": "stream",
     "text": [
      "Name: Ali Sameed\n",
      "Age: 22\n",
      "Id: MIT28MS32\n",
      "Name: ALi Sameed Arbani\n",
      "Age: 22\n",
      "Id: MIT28MS32\n"
     ]
    }
   ],
   "source": [
    "class Person:\n",
    "    def __init__(self, name, age):\n",
    "        self.__name = name\n",
    "        self.__age = age\n",
    "\n",
    "    def get_name(self):\n",
    "        return self.__name\n",
    "\n",
    "    def get_age(self):\n",
    "        return self.__age \n",
    "\n",
    "    def set_name(self,name):\n",
    "        self.__name = name\n",
    "\n",
    "    def set_age(self,age):\n",
    "        self.__age = age\n",
    "\n",
    "\n",
    "class Student(Person):\n",
    "    def __init__(self, name, age,student_id):\n",
    "        super().__init__(name, age)\n",
    "        self.student_id = student_id\n",
    "\n",
    "\n",
    "student1 = Student(\"Ali Sameed\", 22, \"MIT28MS32\")\n",
    "print(f\"Name: {student1.get_name()}\")\n",
    "print(f\"Age: {student1.get_age()}\") \n",
    "print(f\"Id: {student1.student_id}\")\n",
    "\n",
    "student1.set_name(\"ALi Sameed Arbani\")\n",
    "print(f\"Name: {student1.get_name()}\")\n",
    "print(f\"Age: {student1.get_age()}\") \n",
    "print(f\"Id: {student1.student_id}\")"
   ]
  },
  {
   "cell_type": "markdown",
   "id": "79998bef",
   "metadata": {},
   "source": [
    "### Assignment 7: Polymorphism with Inheritance\n",
    "\n",
    "Create a base class named `Animal` with a method `speak`. Create two derived classes `Dog` and `Cat` that override the `speak` method. Create a list of `Animal` objects and call the `speak` method on each object to demonstrate polymorphism.\n",
    "\n"
   ]
  },
  {
   "cell_type": "code",
   "execution_count": 16,
   "id": "c8bb1435",
   "metadata": {},
   "outputs": [
    {
     "name": "stdout",
     "output_type": "stream",
     "text": [
      "Cat say Moew!\n",
      "Cat say Woof!\n"
     ]
    }
   ],
   "source": [
    "class Animal:\n",
    "    def speak(self):\n",
    "        print(\"Child classes will implement\")\n",
    "\n",
    "\n",
    "class Dog(Animal):\n",
    "    def speak(self):\n",
    "        print(\"Cat say Woof!\")\n",
    "\n",
    "class Cat(Animal):\n",
    "    def speak(self):\n",
    "        print(\"Cat say Moew!\")        \n",
    "\n",
    "cat = Cat()\n",
    "dog = Dog()\n",
    "\n",
    "cat.speak()\n",
    "dog.speak()"
   ]
  },
  {
   "cell_type": "markdown",
   "id": "f47c4cd4",
   "metadata": {},
   "source": [
    "### Assignment 8: Abstract Methods in Base Class\n",
    "\n",
    "Create an abstract base class named `Employee` with an abstract method `calculate_salary`. Create two derived classes `FullTimeEmployee` and `PartTimeEmployee` that implement the `calculate_salary` method. Create objects of the derived classes and call the `calculate_salary` method.\n",
    "\n"
   ]
  },
  {
   "cell_type": "code",
   "execution_count": 17,
   "id": "f73bf827",
   "metadata": {},
   "outputs": [
    {
     "name": "stdout",
     "output_type": "stream",
     "text": [
      "6400\n",
      "1600\n"
     ]
    }
   ],
   "source": [
    "from abc import ABC,abstractmethod\n",
    "\n",
    "class Employee(ABC):\n",
    "    def __init__(self,hourly_pay,no_hour):\n",
    "        self.hourly_pay = hourly_pay\n",
    "        self.no_hour = no_hour\n",
    "        \n",
    "\n",
    "    @abstractmethod\n",
    "    def calculate_salary(self):\n",
    "        pass\n",
    "\n",
    "\n",
    "class PartTimeEmployee(Employee):\n",
    "    def __init__(self, hourly_pay, no_hour):\n",
    "        super().__init__(hourly_pay, no_hour)\n",
    "\n",
    "    def calculate_salary(self):\n",
    "        return self.hourly_pay*self.no_hour\n",
    "\n",
    "\n",
    "class FullTimeEmployee(Employee):\n",
    "    def __init__(self, hourly_pay, no_hour, o_time, o_pay):\n",
    "        super().__init__(hourly_pay, no_hour)\n",
    "        self.o_time = o_time\n",
    "        self.o_pay = o_pay\n",
    "\n",
    "    def calculate_salary(self):\n",
    "        return ((self.hourly_pay*self.no_hour)+(self.o_pay*self.no_hour))\n",
    "\n",
    "\n",
    "\n",
    "E1 = FullTimeEmployee(20,160,15,20)\n",
    "E2 = PartTimeEmployee(20,80)\n",
    "\n",
    "print(E1.calculate_salary())\n",
    "print(E2.calculate_salary())\n",
    "   \n",
    "\n",
    "      "
   ]
  },
  {
   "cell_type": "markdown",
   "id": "cb11a95d",
   "metadata": {},
   "source": [
    "### Assignment 9: Encapsulation in Data Classes\n",
    "\n",
    "Create a data class named `Product` with private attributes `product_id`, `name`, and `price`. Add methods to get and set these attributes. Ensure that the price cannot be set to a negative value.\n",
    "\n"
   ]
  },
  {
   "cell_type": "code",
   "execution_count": 18,
   "id": "d6807a83",
   "metadata": {},
   "outputs": [
    {
     "name": "stdout",
     "output_type": "stream",
     "text": [
      "product Id: 1\n",
      "product Name: Iphone 16 Pro Max\n",
      "product Price: 3200\n",
      "You can't enter negative price\n",
      "product Id: 2\n",
      "product Name: Iphone 16 Pro Max\n",
      "product Price: 5000\n"
     ]
    }
   ],
   "source": [
    "class Product:\n",
    "    def __init__(self, product_id,name,price):\n",
    "        self.__product_id = product_id\n",
    "        self.__name = name\n",
    "        self.__price = price\n",
    "\n",
    "    def get_product_id(self):\n",
    "        return self.__product_id\n",
    "\n",
    "    def get_name(self):\n",
    "        return self.__name\n",
    "\n",
    "    def get_price(self):\n",
    "        return self.__price\n",
    "\n",
    "    def set_product_id(self, product_id):\n",
    "        self.__product_id = product_id \n",
    "\n",
    "    def set_name(self,name):\n",
    "        self.__name = name \n",
    "\n",
    "    def set_price(self,price):\n",
    "        try:\n",
    "            if price < 0:\n",
    "                raise ValueError\n",
    "            else:\n",
    "                self.__price = price\n",
    "        except ValueError:\n",
    "            print(\"You can't enter negative price\") \n",
    "\n",
    "\n",
    "\n",
    "product = Product(1,\"Iphone 16 Pro Max\", 3200)\n",
    "print(f\"product Id: {product.get_product_id()}\")\n",
    "print(f\"product Name: {product.get_name()}\")\n",
    "print(f\"product Price: {product.get_price()}\")\n",
    "\n",
    "product.set_product_id(2)\n",
    "product.set_price(-2)\n",
    "product.set_price(5000)\n",
    "\n",
    "print(f\"product Id: {product.get_product_id()}\")\n",
    "print(f\"product Name: {product.get_name()}\")\n",
    "print(f\"product Price: {product.get_price()}\")"
   ]
  },
  {
   "cell_type": "markdown",
   "id": "c7881394",
   "metadata": {},
   "source": [
    "### Assignment 10: Polymorphism with Operator Overloading\n",
    "\n",
    "Create a class named `Vector` with attributes `x` and `y`. Overload the `+` operator to add two `Vector` objects. Create objects of the class and test the operator overloading.\n",
    "\n"
   ]
  },
  {
   "cell_type": "code",
   "execution_count": 21,
   "id": "c731a1da",
   "metadata": {},
   "outputs": [
    {
     "name": "stdout",
     "output_type": "stream",
     "text": [
      "Vector(6, 8)\n"
     ]
    }
   ],
   "source": [
    "class Vector:\n",
    "    def __init__(self,x,y):\n",
    "        self.x = x\n",
    "        self.y = y\n",
    "\n",
    "    def __add__(self,other):\n",
    "        return Vector(self.x+other.x, self.y+other.y)\n",
    "    \n",
    "    def __repr__(self):\n",
    "        return f\"Vector({self.x}, {self.y})\"\n",
    "\n",
    "\n",
    "v1 = Vector(2,3)\n",
    "v2 = Vector(4,5)\n",
    "print(v1+v2)"
   ]
  },
  {
   "cell_type": "markdown",
   "id": "2b3de43e",
   "metadata": {},
   "source": [
    "### Assignment 11: Encapsulation in Class Hierarchies\n",
    "\n",
    "Create a base class named `Account` with private attributes `account_number` and `balance`. Add methods to get and set these attributes. Create a derived class named `SavingsAccount` that adds an attribute `interest_rate`. Create an object of the `SavingsAccount` class and test the encapsulation.\n",
    "\n"
   ]
  },
  {
   "cell_type": "code",
   "execution_count": 22,
   "id": "5861748e",
   "metadata": {},
   "outputs": [
    {
     "name": "stdout",
     "output_type": "stream",
     "text": [
      "12345678 1000 0.05\n",
      "12345678 1500 0.05\n"
     ]
    }
   ],
   "source": [
    "class Account:\n",
    "    def __init__(self, account_number,balance):\n",
    "        self.__account_number = account_number\n",
    "        self.__balance = balance\n",
    "\n",
    "    def get_account_number(self):\n",
    "        return self.__account_number\n",
    "\n",
    "    def get_balance(self):\n",
    "        return self.__balance\n",
    "\n",
    "    def set_account_number(self,account_number):\n",
    "        self.__account_number = account_number    \n",
    "\n",
    "    def set_balance(self,balance):\n",
    "        if balance < 0:\n",
    "            print(\"Balance cannot be negative!\")\n",
    "        else:\n",
    "            self.__balance = balance\n",
    "\n",
    "\n",
    "class SavingAccount(Account):\n",
    "    def __init__(self, account_number, balance, interest_rate):\n",
    "        super().__init__(account_number, balance)\n",
    "        self.interest_rate = interest_rate\n",
    "\n",
    "\n",
    "\n",
    "\n",
    "savings = SavingAccount('12345678', 1000, 0.05)\n",
    "print(savings.get_account_number(), savings.get_balance(), savings.interest_rate)\n",
    "savings.set_balance(1500)\n",
    "print(savings.get_account_number(), savings.get_balance(), savings.interest_rate)"
   ]
  },
  {
   "cell_type": "markdown",
   "id": "24d3abd8",
   "metadata": {},
   "source": [
    "### Assignment 12: Polymorphism with Multiple Inheritance\n",
    "\n",
    "Create a class named `Flyer` with a method `fly`. Create a class named `Swimmer` with a method `swim`. Create a class named `Superhero` that inherits from both `Flyer` and `Swimmer` and overrides both methods. Create an object of the `Superhero` class and call both methods.\n",
    "\n"
   ]
  },
  {
   "cell_type": "code",
   "execution_count": 23,
   "id": "a2d3a83b",
   "metadata": {},
   "outputs": [
    {
     "name": "stdout",
     "output_type": "stream",
     "text": [
      "SuperHero is flying\n",
      "SuperHero is swimiming\n"
     ]
    }
   ],
   "source": [
    "class Flyer:\n",
    "    def fly(self):\n",
    "        pass\n",
    "\n",
    "class Swimmer:\n",
    "    def swim(self):\n",
    "        pass\n",
    "\n",
    "class Superhero(Flyer,Swimmer):\n",
    "    def fly(self):\n",
    "        print(\"SuperHero is flying\")\n",
    "\n",
    "    def swim(self):\n",
    "        print(\"SuperHero is swimiming\")\n",
    "\n",
    "\n",
    "alisameed = Superhero()\n",
    "alisameed.fly()\n",
    "alisameed.swim()                    "
   ]
  },
  {
   "cell_type": "markdown",
   "id": "0a35c7b8",
   "metadata": {},
   "source": [
    "### Assignment 13: Abstract Methods and Multiple Inheritance\n",
    "\n",
    "Create an abstract base class named `Worker` with an abstract method `work`. Create two derived classes `Engineer` and `Doctor` that implement the `work` method. Create another derived class `Scientist` that inherits from both `Engineer` and `Doctor`. Create an object of the `Scientist` class and call the `work` method."
   ]
  },
  {
   "cell_type": "code",
   "execution_count": 28,
   "id": "835cb76e",
   "metadata": {},
   "outputs": [
    {
     "name": "stdout",
     "output_type": "stream",
     "text": [
      "Engineer working...\n",
      "Doctor working...\n"
     ]
    }
   ],
   "source": [
    "from abc import ABC,abstractmethod\n",
    "\n",
    "class Worker:\n",
    "    @abstractmethod\n",
    "    def work(self):\n",
    "        pass\n",
    "\n",
    "class Engineer(Worker):\n",
    "    def work(self):\n",
    "        print(\"Engineer working...\")\n",
    "\n",
    "class Doctor(Worker):\n",
    "    def work(self):\n",
    "        print(\"Doctor working...\")\n",
    "\n",
    "class Scientist(Engineer,Doctor):\n",
    "    def work(self):\n",
    "        Engineer.work(self)\n",
    "        Doctor.work(self)\n",
    "\n",
    "\n",
    "s = Scientist()\n",
    "s.work()"
   ]
  }
 ],
 "metadata": {
  "kernelspec": {
   "display_name": "Python 3",
   "language": "python",
   "name": "python3"
  },
  "language_info": {
   "codemirror_mode": {
    "name": "ipython",
    "version": 3
   },
   "file_extension": ".py",
   "mimetype": "text/x-python",
   "name": "python",
   "nbconvert_exporter": "python",
   "pygments_lexer": "ipython3",
   "version": "3.12.0"
  }
 },
 "nbformat": 4,
 "nbformat_minor": 5
}
