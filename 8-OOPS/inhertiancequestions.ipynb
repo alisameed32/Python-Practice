{
 "cells": [
  {
   "cell_type": "markdown",
   "metadata": {},
   "source": [
    "# Module: Inheritance Assignments\n",
    "## Lesson: Single and Multiple Inheritance\n"
   ]
  },
  {
   "cell_type": "markdown",
   "id": "be3371d4",
   "metadata": {},
   "source": [
    "### Assignment 1: Single Inheritance Basic\n",
    "\n",
    "Create a base class named `Animal` with attributes `name` and `species`. Create a derived class named `Dog` that inherits from `Animal` and adds an attribute `breed`. Create an object of the `Dog` class and print its attributes.\n",
    "\n"
   ]
  },
  {
   "cell_type": "code",
   "execution_count": 1,
   "id": "50480e0d",
   "metadata": {},
   "outputs": [
    {
     "name": "stdout",
     "output_type": "stream",
     "text": [
      "Bobby\n",
      "Canine\n",
      "Poodle\n"
     ]
    }
   ],
   "source": [
    "class Animal:\n",
    "    def __init__(self, name, species):\n",
    "        self.name = name\n",
    "        self.species = species\n",
    "\n",
    "\n",
    "class Dog(Animal):\n",
    "    def __init__(self, name, species, breed):\n",
    "        super().__init__(name, species)\n",
    "        self.breed = breed\n",
    "\n",
    "\n",
    "dog = Dog(\"Bobby\", \"Canine\", \"Poodle\")\n",
    "print(dog.name)\n",
    "print(dog.species)\n",
    "print(dog.breed)"
   ]
  },
  {
   "cell_type": "markdown",
   "id": "e6ea57a3",
   "metadata": {},
   "source": [
    "### Assignment 2: Method Overriding in Single Inheritance\n",
    "\n",
    "In the `Dog` class, override the `__str__` method to return a string representation of the object. Create an object of the class and print it.\n",
    "\n"
   ]
  },
  {
   "cell_type": "code",
   "execution_count": 3,
   "id": "3905b7a3",
   "metadata": {},
   "outputs": [
    {
     "data": {
      "text/plain": [
       "'Dog(Name: Bobby, Species: Canine, Breed: Poodle)'"
      ]
     },
     "execution_count": 3,
     "metadata": {},
     "output_type": "execute_result"
    }
   ],
   "source": [
    "class Dog(Animal):\n",
    "    def __init__(self, name, species, breed):\n",
    "        super().__init__(name, species)\n",
    "        self.breed = breed\n",
    "\n",
    "    def __str__(self):\n",
    "        return f\"Dog(Name: {self.name}, Species: {self.species}, Breed: {self.breed})\"\n",
    "\n",
    "\n",
    "dog = Dog(\"Bobby\", \"Canine\", \"Poodle\")\n",
    "dog.__str__()"
   ]
  },
  {
   "cell_type": "markdown",
   "id": "aa8657a3",
   "metadata": {},
   "source": [
    "### Assignment 3: Single Inheritance with Additional Methods\n",
    "\n",
    "In the `Dog` class, add a method named `bark` that prints a barking sound. Create an object of the class and call the method.\n",
    "\n"
   ]
  },
  {
   "cell_type": "code",
   "execution_count": 5,
   "id": "ce965a93",
   "metadata": {},
   "outputs": [
    {
     "data": {
      "text/plain": [
       "'Bobby say woof!'"
      ]
     },
     "execution_count": 5,
     "metadata": {},
     "output_type": "execute_result"
    }
   ],
   "source": [
    "class Dog(Animal):\n",
    "    def __init__(self, name, species, breed):\n",
    "        super().__init__(name, species)\n",
    "        self.breed = breed\n",
    "\n",
    "    def __str__(self):\n",
    "        return f\"Dog(Name: {self.name}, Species: {self.species}, Breed: {self.breed})\"\n",
    "    \n",
    "    def bark(self):\n",
    "        return f\"{self.name} say woof!\"\n",
    "\n",
    "\n",
    "dog = Dog(\"Bobby\", \"Canine\", \"Poodle\")\n",
    "dog.bark()"
   ]
  },
  {
   "cell_type": "markdown",
   "id": "b0ffdb9c",
   "metadata": {},
   "source": [
    "### Assignment 4: Multiple Inheritance Basic\n",
    "\n",
    "Create a base class named `Walker` with a method `walk` that prints a walking message. Create another base class named `Runner` with a method `run` that prints a running message. Create a derived class named `Athlete` that inherits from both `Walker` and `Runner`. Create an object of the `Athlete` class and call both methods.\n",
    "\n"
   ]
  },
  {
   "cell_type": "code",
   "execution_count": 7,
   "id": "5c6a8d90",
   "metadata": {},
   "outputs": [
    {
     "name": "stdout",
     "output_type": "stream",
     "text": [
      "Start Walking\n",
      "Start running\n"
     ]
    }
   ],
   "source": [
    "class Walker:\n",
    "    \n",
    "    def walk(self):\n",
    "        print(\"Start Walking\")\n",
    "\n",
    "\n",
    "class Runner:\n",
    "\n",
    "    def run(self):\n",
    "        print(\"Start running\") \n",
    "\n",
    "\n",
    "class Athlete(Walker,Runner):\n",
    "    pass\n",
    "\n",
    "\n",
    "athlete = Athlete()\n",
    "athlete.walk()\n",
    "athlete.run()"
   ]
  },
  {
   "cell_type": "markdown",
   "id": "1766b0e1",
   "metadata": {},
   "source": [
    "### Assignment 5: Method Resolution Order (MRO) in Multiple Inheritance\n",
    "\n",
    "In the `Athlete` class, override the `walk` method to print a different message. Create an object of the class and call the `walk` method. Use the `super()` function to call the `walk` method of the `Walker` class.\n",
    "\n"
   ]
  },
  {
   "cell_type": "code",
   "execution_count": 8,
   "id": "9b3654f4",
   "metadata": {},
   "outputs": [
    {
     "name": "stdout",
     "output_type": "stream",
     "text": [
      "Athlete walking...\n",
      "Start Walking\n"
     ]
    }
   ],
   "source": [
    "class Athlete(Walker,Runner):\n",
    "    def walk(self):\n",
    "        print(\"Athlete walking...\")\n",
    "        return super().walk()\n",
    "    \n",
    "\n",
    "athlete = Athlete()\n",
    "athlete.walk()"
   ]
  },
  {
   "cell_type": "markdown",
   "id": "d8ae4883",
   "metadata": {},
   "source": [
    "### Assignment 6: Multiple Inheritance with Additional Attributes\n",
    "\n",
    "In the `Athlete` class, add an attribute `training_hours` and a method `train` that prints the training hours. Create an object of the class and call the method.\n",
    "\n"
   ]
  },
  {
   "cell_type": "code",
   "execution_count": 10,
   "id": "1c89cbb5",
   "metadata": {},
   "outputs": [
    {
     "name": "stdout",
     "output_type": "stream",
     "text": [
      "Athelete train for 8 hour\n"
     ]
    }
   ],
   "source": [
    "class Athlete(Walker,Runner):\n",
    "    def __init__(self, training_hour):\n",
    "         self.training_hour = training_hour\n",
    "\n",
    "\n",
    "    def walk(self):\n",
    "        print(\"Athlete walking...\")\n",
    "        return super().walk()\n",
    "    \n",
    "\n",
    "    def train(self):\n",
    "        print(f\"Athelete train for {self.training_hour} hour\")\n",
    "    \n",
    "\n",
    "athlete = Athlete(8)\n",
    "athlete.train()"
   ]
  },
  {
   "cell_type": "markdown",
   "id": "cec23471",
   "metadata": {},
   "source": [
    "### Assignment 7: Diamond Problem in Multiple Inheritance\n",
    "\n",
    "Create a class named `A` with a method `show` that prints a message. Create two derived classes `B` and `C` that inherit from `A` and override the `show` method. Create a class `D` that inherits from both `B` and `C`. Create an object of the `D` class and call the `show` method. Observe the method resolution order.\n",
    "\n"
   ]
  },
  {
   "cell_type": "code",
   "execution_count": 15,
   "id": "c5f5bf91",
   "metadata": {},
   "outputs": [
    {
     "name": "stdout",
     "output_type": "stream",
     "text": [
      "Show from B\n"
     ]
    }
   ],
   "source": [
    "class A:\n",
    "    def show(self):\n",
    "        print(\"Show from A\")\n",
    "\n",
    "class B(A):\n",
    "    def show(self):\n",
    "        print(\"Show from B\")\n",
    "\n",
    "class C(A):\n",
    "    def show(self):\n",
    "        print(\"Show from C\")        \n",
    "\n",
    "class D(B,C):\n",
    "    pass\n",
    "    \n",
    "\n",
    "d = D()\n",
    "d.show()\n"
   ]
  },
  {
   "cell_type": "markdown",
   "id": "d226a27f",
   "metadata": {},
   "source": [
    "### Assignment 8: Using `super()` in Single Inheritance\n",
    "\n",
    "Create a base class named `Shape` with an attribute `color`. Create a derived class named `Circle` that inherits from `Shape` and adds an attribute `radius`. Use the `super()` function to initialize the attributes. Create an object of the `Circle` class and print its attributes.\n",
    "\n"
   ]
  },
  {
   "cell_type": "code",
   "execution_count": 18,
   "id": "40b7b740",
   "metadata": {},
   "outputs": [
    {
     "name": "stdout",
     "output_type": "stream",
     "text": [
      "red\n",
      "2\n"
     ]
    }
   ],
   "source": [
    "class Shape:\n",
    "    def __init__(self, color):\n",
    "        self.color = color\n",
    "\n",
    "\n",
    "class Circle(Shape):\n",
    "    def __init__(self, color, radius):\n",
    "        super().__init__(color)    \n",
    "        self.radius = radius    \n",
    "\n",
    "\n",
    "circle = Circle(\"red\",2)\n",
    "print(circle.color)\n",
    "print(circle.radius)        "
   ]
  },
  {
   "cell_type": "markdown",
   "id": "7a3297d0",
   "metadata": {},
   "source": [
    "### Assignment 9: Using `super()` in Multiple Inheritance\n",
    "\n",
    "Create a class named `Person` with an attribute `name`. Create a class named `Employee` with an attribute `employee_id`. Create a derived class `Manager` that inherits from both `Person` and `Employee`. Use the `super()` function to initialize the attributes. Create an object of the `Manager` class and print its attributes.\n",
    "\n"
   ]
  },
  {
   "cell_type": "code",
   "execution_count": 25,
   "id": "d7de01d7",
   "metadata": {},
   "outputs": [
    {
     "data": {
      "text/plain": [
       "'Manager Employee Id: 1 | Manager Name: Ali Sameed'"
      ]
     },
     "execution_count": 25,
     "metadata": {},
     "output_type": "execute_result"
    }
   ],
   "source": [
    "class Person:\n",
    "    def __init__(self, name):\n",
    "        self.name = name\n",
    "\n",
    "class Employee:\n",
    "    def __init__(self, employee_id):\n",
    "        self.employee_id = employee_id\n",
    "\n",
    "class Manager(Person,Employee):\n",
    "    def __init__(self, name, employee_id):\n",
    "        super().__init__(name)\n",
    "        Employee.__init__(self,employee_id)\n",
    "\n",
    "\n",
    "    def print_details(self):\n",
    "        return f\"Manager Employee Id: {self.employee_id} | Manager Name: {self.name}\"\n",
    "\n",
    "\n",
    "manager = Manager(\"Ali Sameed\", 1)\n",
    "manager.print_details()\n",
    "    "
   ]
  },
  {
   "cell_type": "markdown",
   "id": "c19af6e6",
   "metadata": {},
   "source": [
    "### Assignment 10: Method Overriding and `super()`\n",
    "\n",
    "Create a class named `Vehicle` with a method `start` that prints a starting message. Create a derived class `Car` that overrides the `start` method to print a different message. Use the `super()` function to call the `start` method of the `Vehicle` class. Create an object of the `Car` class and call the `start` method.\n",
    "\n"
   ]
  },
  {
   "cell_type": "code",
   "execution_count": 26,
   "id": "d1c953f2",
   "metadata": {},
   "outputs": [
    {
     "name": "stdout",
     "output_type": "stream",
     "text": [
      "Car start\n",
      "Vechicle Start\n"
     ]
    }
   ],
   "source": [
    "class vehicle:\n",
    "    def start(self):\n",
    "        print(\"Vechicle Start\")\n",
    "\n",
    "\n",
    "class Car(vehicle):\n",
    "    def start(self):\n",
    "        print(\"Car start\")\n",
    "        return super().start()\n",
    "    \n",
    "\n",
    "car = Car()\n",
    "car.start()"
   ]
  },
  {
   "cell_type": "markdown",
   "id": "1fa4935a",
   "metadata": {},
   "source": [
    "### Assignment 11: Checking Instance Types with Inheritance\n",
    "\n",
    "Create a base class named `Animal` and a derived class named `Cat`. Create objects of both classes and use the `isinstance` function to check the instance types.\n",
    "\n"
   ]
  },
  {
   "cell_type": "code",
   "execution_count": 28,
   "id": "fafdd6df",
   "metadata": {},
   "outputs": [
    {
     "name": "stdout",
     "output_type": "stream",
     "text": [
      "True\n",
      "True\n"
     ]
    }
   ],
   "source": [
    "class Animal:\n",
    "    def __init__(self, name):\n",
    "        self.name = name\n",
    "\n",
    "class Cat(Animal):\n",
    "    def __init__(self, name):\n",
    "        super().__init__(name) \n",
    "\n",
    "\n",
    "animal = Animal(\"Kitty\")\n",
    "cat = Cat(\"Kitty\") \n",
    "\n",
    "print(isinstance(animal, Animal))\n",
    "print(isinstance(cat, Cat))\n",
    "\n",
    "\n"
   ]
  },
  {
   "cell_type": "markdown",
   "id": "a55dcdca",
   "metadata": {},
   "source": [
    "### Assignment 12: Combining Single and Multiple Inheritance\n",
    "\n",
    "Create a base class named `Device` with an attribute `brand`. Create a derived class `Phone` that inherits from `Device` and adds an attribute `model`. Create another base class `Camera` with an attribute `resolution`. Create a derived class `Smartphone` that inherits from both `Phone` and `Camera`. Create an object of the `Smartphone` class and print its attributes."
   ]
  },
  {
   "cell_type": "code",
   "execution_count": 32,
   "metadata": {},
   "outputs": [
    {
     "name": "stdout",
     "output_type": "stream",
     "text": [
      "Brand: Apple\n",
      "Model: Iphone 16 Pro Max\n",
      "Camera Resolution: 30 Megapixel\n"
     ]
    }
   ],
   "source": [
    "class Device:\n",
    "    def __init__(self, brand):\n",
    "        self.brand = brand\n",
    "\n",
    "class Phone(Device):\n",
    "    def __init__(self, brand, model):\n",
    "        super().__init__(brand)    \n",
    "        self.model = model \n",
    "\n",
    "class Camera:\n",
    "    def __init__(self, resolution):\n",
    "        self.resolution = resolution\n",
    "\n",
    "class SmartPhone(Phone, Camera):\n",
    "    def __init__(self, brand, model, resolution):\n",
    "        super().__init__(brand, model)\n",
    "        Camera.__init__(self,resolution)\n",
    "\n",
    "    def specs(self):\n",
    "        print(f\"Brand: {self.brand}\")\n",
    "        print(f\"Model: {self.model}\")\n",
    "        print(f\"Camera Resolution: {self.resolution}\")\n",
    "\n",
    "\n",
    "\n",
    "smartPhone = SmartPhone(\"Apple\", \"Iphone 16 Pro Max\", \"30 Megapixel\")    \n",
    "smartPhone.specs()    "
   ]
  }
 ],
 "metadata": {
  "kernelspec": {
   "display_name": "Python 3",
   "language": "python",
   "name": "python3"
  },
  "language_info": {
   "codemirror_mode": {
    "name": "ipython",
    "version": 3
   },
   "file_extension": ".py",
   "mimetype": "text/x-python",
   "name": "python",
   "nbconvert_exporter": "python",
   "pygments_lexer": "ipython3",
   "version": "3.12.0"
  }
 },
 "nbformat": 4,
 "nbformat_minor": 5
}
