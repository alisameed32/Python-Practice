{
 "cells": [
  {
   "cell_type": "markdown",
   "metadata": {},
   "source": [
    "# Module: File Handling Assignments\n",
    "## Lesson: File Handling and Operations\n"
   ]
  },
  {
   "cell_type": "markdown",
   "id": "d574e6bb",
   "metadata": {},
   "source": [
    "### Assignment 1: Reading a File\n",
    "\n",
    "Write a function that reads the contents of a file named `sample.txt` and prints each line.\n",
    "\n"
   ]
  },
  {
   "cell_type": "code",
   "execution_count": 1,
   "id": "f4b176d2",
   "metadata": {},
   "outputs": [
    {
     "name": "stdout",
     "output_type": "stream",
     "text": [
      "Hi, \n",
      "I am Ali Sameed Arbani\n",
      "I am passionate about Brain Computer Interface (BCI).\n",
      "\n",
      "\n"
     ]
    }
   ],
   "source": [
    "def read(filepath):\n",
    "    with open(filepath, 'r') as file:\n",
    "        content = file.read()\n",
    "        print(content)\n",
    "\n",
    "\n",
    "read(\"sample.txt\")"
   ]
  },
  {
   "cell_type": "markdown",
   "id": "6fd6734e",
   "metadata": {},
   "source": [
    "### Assignment 2: Writing to a File\n",
    "\n",
    "Write a function that writes a list of strings to a file named `output.txt`, with each string on a new line.\n",
    "\n"
   ]
  },
  {
   "cell_type": "code",
   "execution_count": 2,
   "id": "d1a72b33",
   "metadata": {},
   "outputs": [],
   "source": [
    "def write(lst):\n",
    "    with open(\"output.txt\", 'w') as file:\n",
    "        file.writelines(lst)\n",
    "\n",
    "\n",
    "x = [\"Hi\\n\", \"ALi Sameed Arbani \\n\", \"I am passionate about Brain Computer Interface (BCI). \\n\"] \n",
    "write(x)"
   ]
  },
  {
   "cell_type": "markdown",
   "id": "d586e689",
   "metadata": {},
   "source": [
    "### Assignment 3: Copying a File\n",
    "\n",
    "Write a function that copies the contents of a file named `source.txt` to a new file named `destination.txt`.\n",
    "\n"
   ]
  },
  {
   "cell_type": "code",
   "execution_count": 3,
   "id": "2f6131b7",
   "metadata": {},
   "outputs": [],
   "source": [
    "with open('source.txt', 'r') as file:\n",
    "        content = file.read()\n",
    "        \n",
    "\n",
    "with open(\"destination.txt\", 'w') as file:\n",
    "        file.write(content)        "
   ]
  },
  {
   "cell_type": "markdown",
   "id": "9387dfef",
   "metadata": {},
   "source": [
    "### Assignment 4: Appending to a File\n",
    "\n",
    "Write a function that appends a given string to the end of a file named `log.txt`.\n",
    "\n"
   ]
  },
  {
   "cell_type": "code",
   "execution_count": 4,
   "id": "36b36011",
   "metadata": {},
   "outputs": [],
   "source": [
    "def append(string):\n",
    "    with open(\"log.txt\", 'a') as file:\n",
    "        file.write(string)   \n",
    "\n",
    "\n",
    "append(\"MIT\")"
   ]
  },
  {
   "cell_type": "markdown",
   "id": "c746eb04",
   "metadata": {},
   "source": [
    "### Assignment 5: Counting Words in a File\n",
    "\n",
    "Write a function that reads the contents of a file named `document.txt` and returns the number of words in the file.\n",
    "\n"
   ]
  },
  {
   "cell_type": "code",
   "execution_count": 7,
   "id": "f92a1422",
   "metadata": {},
   "outputs": [
    {
     "name": "stdout",
     "output_type": "stream",
     "text": [
      "89\n"
     ]
    }
   ],
   "source": [
    "def word_count():\n",
    "    with open('document.txt', 'r') as file:\n",
    "        lines = file.readlines()\n",
    "        words = sum(len(line.split()) for line in lines)\n",
    "    return words    \n",
    "\n",
    "\n",
    "print(word_count())"
   ]
  },
  {
   "cell_type": "markdown",
   "id": "3db398b2",
   "metadata": {},
   "source": [
    "### Assignment 6: Finding and Replacing Text\n",
    "\n",
    "Write a function that finds and replaces all occurrences of a given word in a file named `data.txt` with another word.\n",
    "\n"
   ]
  },
  {
   "cell_type": "code",
   "execution_count": 10,
   "id": "ac329d0c",
   "metadata": {},
   "outputs": [],
   "source": [
    "def find_replace(find_text, replace_text):\n",
    "    with open('data.txt', 'r') as file:\n",
    "        filedata = file.read()\n",
    "\n",
    "    filedata = filedata.replace(find_text, replace_text)\n",
    "\n",
    "    with open('data.txt', 'w') as file:\n",
    "        file.write(filedata)    \n",
    "\n",
    "\n",
    "find_replace(\"world\",\"universe\")                "
   ]
  },
  {
   "cell_type": "markdown",
   "id": "745fdff5",
   "metadata": {},
   "source": [
    "### Assignment 7: Reading a File in Reverse\n",
    "\n",
    "Write a function that reads the contents of a file named `reverse.txt` and prints each line in reverse order.\n",
    "\n"
   ]
  },
  {
   "cell_type": "code",
   "execution_count": 15,
   "id": "6581cb76",
   "metadata": {},
   "outputs": [
    {
     "name": "stdout",
     "output_type": "stream",
     "text": [
      "And so are you.\n",
      "Sugar is sweet,\n",
      "Violets are blue.\n",
      "Roses are red,\n"
     ]
    }
   ],
   "source": [
    "def reverse():\n",
    "    with open('reverse.txt', 'r') as file:\n",
    "        lines = file.readlines()\n",
    "        for line in reversed(lines):\n",
    "            print(line.strip())\n",
    "\n",
    "\n",
    "reverse()\n"
   ]
  },
  {
   "cell_type": "markdown",
   "id": "38eecee9",
   "metadata": {},
   "source": [
    "### Assignment 8: Counting Lines, Words, and Characters\n",
    "\n",
    "Write a function that reads the contents of a file named `stats.txt` and returns the number of lines, words, and characters in the file.\n",
    "\n"
   ]
  },
  {
   "cell_type": "code",
   "execution_count": null,
   "id": "c4c8092f",
   "metadata": {},
   "outputs": [],
   "source": []
  },
  {
   "cell_type": "markdown",
   "id": "0c5a9986",
   "metadata": {},
   "source": [
    "### Assignment 9: Merging Multiple Files\n",
    "\n",
    "Write a function that merges the contents of multiple files into a single file named `merged.txt`.\n",
    "\n"
   ]
  },
  {
   "cell_type": "markdown",
   "id": "184f51cb",
   "metadata": {},
   "source": [
    "### Assignment 10: Splitting a Large File\n",
    "\n",
    "Write a function that splits a large file named `large.txt` into smaller files of 100 lines each.\n",
    "\n"
   ]
  },
  {
   "cell_type": "markdown",
   "id": "24ba6a86",
   "metadata": {},
   "source": [
    "### Assignment 11: Creating a Log File\n",
    "\n",
    "Write a function that creates a log file named `activity.log` and writes log messages with timestamps.\n",
    "\n"
   ]
  },
  {
   "cell_type": "markdown",
   "id": "9cbf1b56",
   "metadata": {},
   "source": [
    "### Assignment 12: Binary File Operations\n",
    "\n",
    "Write a function that reads a binary file named `image.bin` and writes its contents to another binary file named `copy_image.bin`.\n",
    "\n"
   ]
  },
  {
   "cell_type": "markdown",
   "id": "5dbb49ea",
   "metadata": {},
   "source": [
    "### Assignment 13: CSV File Operations\n",
    "\n",
    "Write a function that reads a CSV file named `data.csv` and prints its contents as a list of dictionaries.\n",
    "\n"
   ]
  },
  {
   "cell_type": "markdown",
   "id": "bc78069f",
   "metadata": {},
   "source": [
    "### Assignment 14: JSON File Operations\n",
    "\n",
    "Write a function that reads a JSON file named `data.json` and prints its contents as a Python dictionary.\n",
    "\n"
   ]
  },
  {
   "cell_type": "markdown",
   "id": "988128d5",
   "metadata": {},
   "source": [
    "### Assignment 15: File Permission Handling\n",
    "\n",
    "Write a function that attempts to read a file named `protected.txt` and handles any permission errors gracefully by printing an error message."
   ]
  },
  {
   "cell_type": "code",
   "execution_count": null,
   "metadata": {},
   "outputs": [],
   "source": []
  }
 ],
 "metadata": {
  "kernelspec": {
   "display_name": "Python 3",
   "language": "python",
   "name": "python3"
  },
  "language_info": {
   "codemirror_mode": {
    "name": "ipython",
    "version": 3
   },
   "file_extension": ".py",
   "mimetype": "text/x-python",
   "name": "python",
   "nbconvert_exporter": "python",
   "pygments_lexer": "ipython3",
   "version": "3.12.0"
  }
 },
 "nbformat": 4,
 "nbformat_minor": 5
}
