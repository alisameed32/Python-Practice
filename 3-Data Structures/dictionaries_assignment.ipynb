{
 "cells": [
  {
   "cell_type": "markdown",
   "metadata": {},
   "source": [
    "# Module 3: Data Structures Assignments\n",
    "## Lesson 3.4: Dictionaries\n"
   ]
  },
  {
   "cell_type": "markdown",
   "id": "318efcc4",
   "metadata": {},
   "source": [
    "### Assignment 1: Creating and Accessing Dictionaries\n",
    "\n",
    "Create a dictionary with the first 10 positive integers as keys and their squares as values. Print the dictionary.\n"
   ]
  },
  {
   "cell_type": "code",
   "execution_count": 1,
   "id": "be874138",
   "metadata": {},
   "outputs": [
    {
     "name": "stdout",
     "output_type": "stream",
     "text": [
      "{1: 1, 2: 4, 3: 9, 4: 16, 5: 25, 6: 36, 7: 49, 8: 64, 9: 81, 10: 100}\n"
     ]
    }
   ],
   "source": [
    "squares = {i:i**2 for i in range(1,11)}\n",
    "print(squares)"
   ]
  },
  {
   "cell_type": "markdown",
   "id": "efbbb5e5",
   "metadata": {},
   "source": [
    "\n",
    "### Assignment 2: Accessing Dictionary Elements\n",
    "\n",
    "Print the value of the key 5 and the keys of the dictionary created in Assignment 1.\n"
   ]
  },
  {
   "cell_type": "code",
   "execution_count": 4,
   "id": "8aa8509b",
   "metadata": {},
   "outputs": [
    {
     "name": "stdout",
     "output_type": "stream",
     "text": [
      "25\n",
      "dict_keys([1, 2, 3, 4, 5, 6, 7, 8, 9, 10])\n"
     ]
    }
   ],
   "source": [
    "print(squares[5])\n",
    "print(squares.keys())"
   ]
  },
  {
   "cell_type": "markdown",
   "id": "752de17f",
   "metadata": {},
   "source": [
    "\n",
    "### Assignment 3: Dictionary Methods\n",
    "\n",
    "Add a new key-value pair (11, 121) to the dictionary created in Assignment 1 and then remove the key-value pair with key 1. Print the modified dictionary.\n"
   ]
  },
  {
   "cell_type": "code",
   "execution_count": 6,
   "id": "7c599147",
   "metadata": {},
   "outputs": [
    {
     "name": "stdout",
     "output_type": "stream",
     "text": [
      "{1: 1, 2: 4, 3: 9, 4: 16, 5: 25, 6: 36, 7: 49, 8: 64, 9: 81, 10: 100, 11: 121}\n",
      "{2: 4, 3: 9, 4: 16, 5: 25, 6: 36, 7: 49, 8: 64, 9: 81, 10: 100, 11: 121}\n"
     ]
    }
   ],
   "source": [
    "squares[11] = 121\n",
    "print(squares)\n",
    "\n",
    "\n",
    "del squares[1]\n",
    "print(squares)"
   ]
  },
  {
   "cell_type": "markdown",
   "id": "9ea2277e",
   "metadata": {},
   "source": [
    "\n",
    "### Assignment 4: Iterating Over Dictionaries\n",
    "\n",
    "Iterate over the dictionary created in Assignment 1 and print each key-value pair.\n"
   ]
  },
  {
   "cell_type": "code",
   "execution_count": 8,
   "id": "a8305ae9",
   "metadata": {},
   "outputs": [
    {
     "name": "stdout",
     "output_type": "stream",
     "text": [
      "2 : 4\n",
      "3 : 9\n",
      "4 : 16\n",
      "5 : 25\n",
      "6 : 36\n",
      "7 : 49\n",
      "8 : 64\n",
      "9 : 81\n",
      "10 : 100\n",
      "11 : 121\n"
     ]
    }
   ],
   "source": [
    "for key, value in squares.items():\n",
    "    print(f\"{key} : {value}\")"
   ]
  },
  {
   "cell_type": "markdown",
   "id": "cbccee72",
   "metadata": {},
   "source": [
    "\n",
    "### Assignment 5: Dictionary Comprehensions\n",
    "\n",
    "Create a new dictionary containing the cubes of the first 10 positive integers using a dictionary comprehension. Print the new dictionary.\n"
   ]
  },
  {
   "cell_type": "code",
   "execution_count": 9,
   "id": "2453c11f",
   "metadata": {},
   "outputs": [
    {
     "name": "stdout",
     "output_type": "stream",
     "text": [
      "{1: 1, 2: 8, 3: 27, 4: 64, 5: 125, 6: 216, 7: 343, 8: 512, 9: 729, 10: 1000}\n"
     ]
    }
   ],
   "source": [
    "cube = {i:i**3 for i in range(1,11)}\n",
    "print(cube)"
   ]
  },
  {
   "cell_type": "markdown",
   "id": "0a2e4379",
   "metadata": {},
   "source": [
    "\n",
    "### Assignment 6: Merging Dictionaries\n",
    "\n",
    "Create two dictionaries: one with keys as the first 5 positive integers and values as their squares, and another with keys as the next 5 positive integers and values as their squares. Merge these dictionaries into a single dictionary and print it.\n"
   ]
  },
  {
   "cell_type": "code",
   "execution_count": 10,
   "id": "e767c2d8",
   "metadata": {},
   "outputs": [
    {
     "name": "stdout",
     "output_type": "stream",
     "text": [
      "{1: 1, 2: 4, 3: 9, 4: 16, 5: 25}\n",
      "{6: 36, 7: 49, 8: 64, 9: 81, 10: 100}\n",
      "{1: 1, 2: 4, 3: 9, 4: 16, 5: 25, 6: 36, 7: 49, 8: 64, 9: 81, 10: 100}\n"
     ]
    }
   ],
   "source": [
    "dict1 = {i:i**2 for i in range(1,6)}\n",
    "dict2 = {i:i**2 for i in range(6,11)}\n",
    "\n",
    "print(dict1)\n",
    "print(dict2)\n",
    "\n",
    "merge_dict = {**dict1, **dict2}\n",
    "print(merge_dict)"
   ]
  },
  {
   "cell_type": "markdown",
   "id": "e42f7ad3",
   "metadata": {},
   "source": [
    "\n",
    "### Assignment 7: Nested Dictionaries\n",
    "\n",
    "Create a nested dictionary representing a student with keys 'name', 'age', 'grades', where 'grades' is another dictionary with keys 'math', 'science', and 'english'. Print the nested dictionary.\n"
   ]
  },
  {
   "cell_type": "code",
   "execution_count": 11,
   "id": "518741b2",
   "metadata": {},
   "outputs": [
    {
     "name": "stdout",
     "output_type": "stream",
     "text": [
      "{'name': 'Ali Sameed', 'age': 22, 'grades': {'math': 'A+', 'science': 'A+', 'english': 'A'}}\n"
     ]
    }
   ],
   "source": [
    "student = {\n",
    "    \"name\": \"Ali Sameed\",\n",
    "    \"age\": 22,\n",
    "    \"grades\": {\n",
    "        \"math\": \"A+\",\n",
    "        \"science\": \"A+\",\n",
    "        \"english\": \"A\"\n",
    "    }\n",
    "}\n",
    "\n",
    "print(student)"
   ]
  },
  {
   "cell_type": "markdown",
   "id": "45672c4e",
   "metadata": {},
   "source": [
    "\n",
    "### Assignment 8: Dictionary of Lists\n",
    "\n",
    "Create a dictionary where the keys are the first 5 positive integers and the values are lists containing the first 5 multiples of the key. Print the dictionary.\n"
   ]
  },
  {
   "cell_type": "code",
   "execution_count": 12,
   "id": "9a26a896",
   "metadata": {},
   "outputs": [
    {
     "name": "stdout",
     "output_type": "stream",
     "text": [
      "{1: [1, 2, 3, 4, 5], 2: [2, 4, 6, 8, 10], 3: [3, 6, 9, 12, 15], 4: [4, 8, 12, 16, 20], 5: [5, 10, 15, 20, 25]}\n"
     ]
    }
   ],
   "source": [
    "new_dict = {i:[i*x for x in range(1,6)] for i in range(1,6)}\n",
    "print(new_dict)"
   ]
  },
  {
   "cell_type": "markdown",
   "id": "9e4f2f77",
   "metadata": {},
   "source": [
    "\n",
    "### Assignment 9: Dictionary of Tuples\n",
    "\n",
    "Create a dictionary where the keys are the first 5 positive integers and the values are tuples containing the key and its square. Print the dictionary.\n"
   ]
  },
  {
   "cell_type": "code",
   "execution_count": 13,
   "id": "c1ff778d",
   "metadata": {},
   "outputs": [
    {
     "name": "stdout",
     "output_type": "stream",
     "text": [
      "{1: (1, 1), 2: (2, 4), 3: (3, 9), 4: (4, 16), 5: (5, 25)}\n"
     ]
    }
   ],
   "source": [
    "new_dict2 = {i:(i, i**2) for i in range(1,6)}\n",
    "print(new_dict2)"
   ]
  },
  {
   "cell_type": "markdown",
   "id": "f207f4a1",
   "metadata": {},
   "source": [
    "\n",
    "### Assignment 10: Dictionary and List Conversion\n",
    "\n",
    "Create a dictionary with the first 5 positive integers as keys and their squares as values. Convert the dictionary to a list of tuples and print it.\n"
   ]
  },
  {
   "cell_type": "code",
   "execution_count": 14,
   "id": "dbcb5667",
   "metadata": {},
   "outputs": [
    {
     "name": "stdout",
     "output_type": "stream",
     "text": [
      "{1: 1, 2: 4, 3: 9, 4: 16, 5: 25}\n",
      "dict_items([(1, 1), (2, 4), (3, 9), (4, 16), (5, 25)])\n"
     ]
    }
   ],
   "source": [
    "new_dict3 = {i:i**2 for i in range(1,6)}\n",
    "print(new_dict3)\n",
    "\n",
    "items = new_dict3.items()\n",
    "print(items)"
   ]
  },
  {
   "cell_type": "markdown",
   "id": "629e3695",
   "metadata": {},
   "source": [
    "\n",
    "### Assignment 11: Dictionary Filtering\n",
    "\n",
    "Create a dictionary with the first 10 positive integers as keys and their squares as values. Create a new dictionary containing only the key-value pairs where the key is even. Print the new dictionary.\n"
   ]
  },
  {
   "cell_type": "code",
   "execution_count": 16,
   "id": "1ee1667f",
   "metadata": {},
   "outputs": [
    {
     "name": "stdout",
     "output_type": "stream",
     "text": [
      "{1: 1, 2: 4, 3: 9, 4: 16, 5: 25, 6: 36, 7: 49, 8: 64, 9: 81, 10: 100}\n",
      "{2: 4, 4: 16, 6: 36, 8: 64, 10: 100}\n"
     ]
    }
   ],
   "source": [
    "squares = {i:i**2 for i in range(1,11)}\n",
    "print(squares)\n",
    "\n",
    "new_dict4 = {key:value for key,value in squares.items() if key%2==0}\n",
    "print(new_dict4)"
   ]
  },
  {
   "cell_type": "markdown",
   "id": "3b4bb3f2",
   "metadata": {},
   "source": [
    "\n",
    "### Assignment 12: Dictionary Key and Value Transformation\n",
    "\n",
    "Create a dictionary with the first 5 positive integers as keys and their squares as values. Create a new dictionary with keys and values swapped. Print the new dictionary.\n"
   ]
  },
  {
   "cell_type": "code",
   "execution_count": 17,
   "id": "72281591",
   "metadata": {},
   "outputs": [
    {
     "name": "stdout",
     "output_type": "stream",
     "text": [
      "{1: 1, 2: 4, 3: 9, 4: 16, 5: 25, 6: 36, 7: 49, 8: 64, 9: 81, 10: 100}\n",
      "{1: 1, 4: 2, 9: 3, 16: 4, 25: 5, 36: 6, 49: 7, 64: 8, 81: 9, 100: 10}\n"
     ]
    }
   ],
   "source": [
    "squares = {i:i**2 for i in range(1,11)}\n",
    "print(squares)\n",
    "\n",
    "new_dict5 = {value:key for key,value in squares.items()}\n",
    "print(new_dict5)\n"
   ]
  },
  {
   "cell_type": "markdown",
   "id": "dd11a3b0",
   "metadata": {},
   "source": [
    "\n",
    "### Assignment 13: Dictionary and JSON\n",
    "\n",
    "Create a dictionary representing a book with keys 'title', 'author', 'year', and 'genre'. Convert the dictionary to a JSON string and print it."
   ]
  },
  {
   "cell_type": "code",
   "execution_count": 24,
   "metadata": {},
   "outputs": [
    {
     "name": "stdout",
     "output_type": "stream",
     "text": [
      "{\n",
      "    \"title\": \"Rich Dad Poor Dad\",\n",
      "    \"year\": 1998,\n",
      "    \"genre\": \"Self Help\"\n",
      "}\n"
     ]
    }
   ],
   "source": [
    "import json\n",
    "\n",
    "book = {\n",
    "    \"title\": \"Rich Dad Poor Dad\",\n",
    "    \"year\": 1998,\n",
    "    \"genre\": \"Self Help\"\n",
    "}\n",
    "\n",
    "json_string = json.dumps(book, indent=4)\n",
    "print(json_string)\n",
    "\n"
   ]
  }
 ],
 "metadata": {
  "kernelspec": {
   "display_name": "Python 3",
   "language": "python",
   "name": "python3"
  },
  "language_info": {
   "codemirror_mode": {
    "name": "ipython",
    "version": 3
   },
   "file_extension": ".py",
   "mimetype": "text/x-python",
   "name": "python",
   "nbconvert_exporter": "python",
   "pygments_lexer": "ipython3",
   "version": "3.12.0"
  }
 },
 "nbformat": 4,
 "nbformat_minor": 5
}
