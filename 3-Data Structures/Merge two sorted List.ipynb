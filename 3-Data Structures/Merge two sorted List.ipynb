{
 "cells": [
  {
   "cell_type": "markdown",
   "metadata": {},
   "source": [
    "Merge two sorted List\n",
    "Merge Two Sorted Lists\n",
    "\n",
    "You are given two sorted lists of integers. Write a Python function to merge these two sorted lists into one sorted list. The resulting list should also be in non-decreasing order.\n",
    "\n",
    "Parameters:\n",
    "\n",
    "list1 (List of integers): The first sorted list.\n",
    "\n",
    "list2 (List of integers): The second sorted list.\n",
    "\n",
    "Returns:\n",
    "\n",
    "A single list of integers, containing all elements from list1 and list2, sorted in non-decreasing order.\n",
    "\n",
    "Example:\n",
    "\n",
    "Input: list1 = [1, 3, 5], list2 = [2, 4, 6]\n",
    "Output: [1, 2, 3, 4, 5, 6]\n",
    "\n",
    "Input: list1 = [1, 4, 7], list2 = [2, 3, 5, 8]\n",
    "Output: [1, 2, 3, 4, 5, 7, 8]"
   ]
  },
  {
   "cell_type": "code",
   "execution_count": 4,
   "metadata": {},
   "outputs": [
    {
     "name": "stdout",
     "output_type": "stream",
     "text": [
      "[1, 1, 3, 3, 5]\n"
     ]
    }
   ],
   "source": [
    "def merge_two_sorted_lists(list1, list2):\n",
    "    \n",
    "    merged_list = []\n",
    "\n",
    "    i,j = 0,0\n",
    "    while i < len(list1) and j < len(list2):\n",
    "        if list1[i] < list2[j]:\n",
    "            merged_list.append(list1[i])\n",
    "            i += 1\n",
    "        else:\n",
    "            merged_list.append(list1[j])\n",
    "            j += 1    \n",
    "\n",
    "    while i < len(list1):\n",
    "        merged_list.append(list1[i])\n",
    "        i += 1\n",
    "\n",
    "    while i < len(list1):\n",
    "        merged_list.append(list1[i])      \n",
    "        j += 1\n",
    "\n",
    "\n",
    "    return merged_list    \n",
    "\n",
    "\n",
    "\n",
    "\n",
    "\n",
    "\n",
    "\n",
    "list1 = [1, 3, 5]\n",
    "list2 = [2, 4, 6]\n",
    "\n",
    "print(merge_two_sorted_lists(list1,list2))\n",
    "\n"
   ]
  }
 ],
 "metadata": {
  "kernelspec": {
   "display_name": "Python 3",
   "language": "python",
   "name": "python3"
  },
  "language_info": {
   "codemirror_mode": {
    "name": "ipython",
    "version": 3
   },
   "file_extension": ".py",
   "mimetype": "text/x-python",
   "name": "python",
   "nbconvert_exporter": "python",
   "pygments_lexer": "ipython3",
   "version": "3.12.0"
  }
 },
 "nbformat": 4,
 "nbformat_minor": 2
}
