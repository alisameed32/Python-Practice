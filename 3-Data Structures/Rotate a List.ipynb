{
 "cells": [
  {
   "cell_type": "markdown",
   "metadata": {},
   "source": [
    "Rotate a List\n",
    "Rotate a List (Without Slicing)\n",
    "\n",
    "You are given a list of integers and an integer k. Write a Python function to rotate the list to the right by k positions without using slicing. A rotation shifts elements from the end of the list to the front.\n",
    "\n",
    "Parameters:\n",
    "\n",
    "lst (List of integers): The list to be rotated.\n",
    "\n",
    "k (Integer): The number of positions to rotate the list.\n",
    "\n",
    "Returns:\n",
    "\n",
    "A list of integers rotated by k positions.\n",
    "\n",
    "Example:\n",
    "\n",
    "Input: lst = [1, 2, 3, 4, 5], k = 2\n",
    "Output: [4, 5, 1, 2, 3]\n",
    "\n",
    "Input: lst = [10, 20, 30, 40, 50], k = 3\n",
    "Output: [30, 40, 50, 10, 20]"
   ]
  },
  {
   "cell_type": "code",
   "execution_count": 11,
   "metadata": {},
   "outputs": [
    {
     "name": "stdout",
     "output_type": "stream",
     "text": [
      "[4, 5, 1, 2, 3]\n",
      "2\n"
     ]
    }
   ],
   "source": [
    "def rotate_list(lst, k):\n",
    "    if len(lst)==0:\n",
    "        return lst\n",
    "    \n",
    "    k = k%len(lst)\n",
    "    result = []\n",
    "\n",
    "    for i in range(len(lst)-k, len(lst)):\n",
    "        result.append(lst[i])\n",
    "\n",
    "    for i in range(0, k+1):\n",
    "        result.append(lst[i])    \n",
    "\n",
    "\n",
    "    return result\n",
    "\n",
    "lst = [1,2,3,4,5]\n",
    "\n",
    "print(rotate_list(lst,2))\n",
    "\n",
    "print(2%5)\n"
   ]
  }
 ],
 "metadata": {
  "kernelspec": {
   "display_name": "Python 3",
   "language": "python",
   "name": "python3"
  },
  "language_info": {
   "codemirror_mode": {
    "name": "ipython",
    "version": 3
   },
   "file_extension": ".py",
   "mimetype": "text/x-python",
   "name": "python",
   "nbconvert_exporter": "python",
   "pygments_lexer": "ipython3",
   "version": "3.12.0"
  }
 },
 "nbformat": 4,
 "nbformat_minor": 2
}
