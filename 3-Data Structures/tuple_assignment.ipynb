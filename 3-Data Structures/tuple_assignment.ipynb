{
 "cells": [
  {
   "cell_type": "markdown",
   "id": "6cade624",
   "metadata": {},
   "source": [
    "# Module 3: Data Structures Assignments\n",
    "## Lesson 3.2: Tuples\n",
    "### Assignment 1: Creating and Accessing Tuples\n",
    "\n",
    "Create a tuple with the first 10 positive integers. Print the tuple.\n"
   ]
  },
  {
   "cell_type": "code",
   "execution_count": 2,
   "id": "4c1e2fd5",
   "metadata": {},
   "outputs": [
    {
     "name": "stdout",
     "output_type": "stream",
     "text": [
      "(1, 2, 3, 4, 5, 6, 7, 8, 9, 10)\n"
     ]
    }
   ],
   "source": [
    "postive_integers = (1,2,3,4,5,6,7,8,9,10)\n",
    "print(postive_integers)"
   ]
  },
  {
   "cell_type": "markdown",
   "id": "0cb6b049",
   "metadata": {},
   "source": [
    "\n",
    "### Assignment 2: Accessing Tuple Elements\n",
    "\n",
    "Print the first, middle, and last elements of the tuple created in Assignment 1.\n"
   ]
  },
  {
   "cell_type": "code",
   "execution_count": 4,
   "id": "c88a4fdc",
   "metadata": {},
   "outputs": [
    {
     "name": "stdout",
     "output_type": "stream",
     "text": [
      "1\n",
      "[2, 3, 4, 5, 6, 7, 8, 9]\n",
      "10\n"
     ]
    }
   ],
   "source": [
    "first, *middle, last = postive_integers\n",
    "\n",
    "print(first)\n",
    "print(middle)\n",
    "print(last)\n"
   ]
  },
  {
   "cell_type": "markdown",
   "id": "d54885fb",
   "metadata": {},
   "source": [
    "\n",
    "\n",
    "### Assignment 3: Tuple Slicing\n",
    "\n",
    "Print the first three elements, the last three elements, and the elements from index 2 to 5 of the tuple created in Assignment 1.\n"
   ]
  },
  {
   "cell_type": "code",
   "execution_count": 10,
   "id": "07916b9b",
   "metadata": {},
   "outputs": [
    {
     "name": "stdout",
     "output_type": "stream",
     "text": [
      "First Three: (1, 2, 3)\n",
      "Last Three: (8, 9, 10)\n",
      "From index 2 to 5: (3, 4, 5)\n"
     ]
    }
   ],
   "source": [
    "print(f\"First Three: {postive_integers[:3]}\")\n",
    "print(f\"Last Three: {postive_integers[7:]}\")\n",
    "print(f\"From index 2 to 5: {postive_integers[2:5]}\")\n",
    "\n"
   ]
  },
  {
   "cell_type": "markdown",
   "id": "a943d835",
   "metadata": {},
   "source": [
    "### Assignment 4: Nested Tuples\n",
    "\n",
    "Create a nested tuple representing a 3x3 matrix and print the matrix. Access and print the element at the second row and third column.\n"
   ]
  },
  {
   "cell_type": "code",
   "execution_count": 14,
   "id": "444173fe",
   "metadata": {},
   "outputs": [
    {
     "name": "stdout",
     "output_type": "stream",
     "text": [
      "1 2 3 \n",
      "4 5 6 \n",
      "7 8 9 \n",
      "Second Row and Third Column: 6\n"
     ]
    }
   ],
   "source": [
    "matrix = ((1,2,3), (4,5,6), (7,8,9))\n",
    "for sub_matrix in matrix:\n",
    "    for item in sub_matrix:\n",
    "        print(item, end=\" \")\n",
    "    print()    \n",
    "\n",
    "\n",
    "print(f\"Second Row and Third Column: {matrix[1][2]}\")\n"
   ]
  },
  {
   "cell_type": "markdown",
   "id": "ef0e472a",
   "metadata": {},
   "source": [
    "\n",
    "### Assignment 5: Tuple Concatenation\n",
    "\n",
    "Concatenate two tuples: (1, 2, 3) and (4, 5, 6). Print the resulting tuple.\n"
   ]
  },
  {
   "cell_type": "code",
   "execution_count": 23,
   "id": "0542f4fb",
   "metadata": {},
   "outputs": [
    {
     "name": "stdout",
     "output_type": "stream",
     "text": [
      "(1, 2, 3, 4, 5, 6)\n"
     ]
    }
   ],
   "source": [
    "tuple_1 = (1,2,3)\n",
    "tuple_2 = (4,5,6)\n",
    "\n",
    "concatenate = tuple_1 + tuple_2\n",
    "print(concatenate) \n"
   ]
  },
  {
   "cell_type": "markdown",
   "id": "46408ee2",
   "metadata": {},
   "source": [
    "\n",
    "### Assignment 6: Tuple Methods\n",
    "\n",
    "Create a tuple with duplicate elements and count the occurrences of an element. Find the index of the first occurrence of an element in the tuple.\n"
   ]
  },
  {
   "cell_type": "code",
   "execution_count": 26,
   "id": "576f3504",
   "metadata": {},
   "outputs": [
    {
     "name": "stdout",
     "output_type": "stream",
     "text": [
      "3\n",
      "3\n"
     ]
    }
   ],
   "source": [
    "dup = (1,2,3,4,4,4,5,6)\n",
    "print(dup.count(4))\n",
    "print(dup.index(4))"
   ]
  },
  {
   "cell_type": "markdown",
   "id": "ac6b52af",
   "metadata": {},
   "source": [
    "\n",
    "### Assignment 7: Unpacking Tuples\n",
    "\n",
    "Create a tuple with 5 elements and unpack it into 5 variables. Print the variables.\n"
   ]
  },
  {
   "cell_type": "code",
   "execution_count": 19,
   "id": "3412abe3",
   "metadata": {},
   "outputs": [
    {
     "name": "stdout",
     "output_type": "stream",
     "text": [
      "(2212173, 'Ali Sameed', '5C', '5th', 3.71)\n",
      "\n",
      "2212173\n",
      "Ali Sameed\n",
      "5C\n",
      "5th\n",
      "3.71\n"
     ]
    }
   ],
   "source": [
    "packed_tuple = 2212173, \"Ali Sameed\", \"5C\", \"5th\", 3.71\n",
    "print(packed_tuple)\n",
    "\n",
    "id, name, sec, sem, cgpa = packed_tuple\n",
    "\n",
    "print()\n",
    "print(id)\n",
    "print(name)\n",
    "print(sec)\n",
    "print(sem)\n",
    "print(cgpa)\n",
    "\n"
   ]
  },
  {
   "cell_type": "markdown",
   "id": "d2ceb5ed",
   "metadata": {},
   "source": [
    "\n",
    "### Assignment 8: Tuple Conversion\n",
    "\n",
    "Convert a list of the first 5 positive integers to a tuple. Print the tuple.\n"
   ]
  },
  {
   "cell_type": "code",
   "execution_count": 48,
   "id": "016994ac",
   "metadata": {},
   "outputs": [
    {
     "name": "stdout",
     "output_type": "stream",
     "text": [
      "(1, 2, 3, 4, 5)\n"
     ]
    }
   ],
   "source": [
    "list1 = [1,2,3,4,5]\n",
    "con_tuple = tuple(list1)\n",
    "print(con_tuple)\n"
   ]
  },
  {
   "cell_type": "markdown",
   "id": "21c81712",
   "metadata": {},
   "source": [
    "\n",
    "### Assignment 9: Tuple of Tuples\n",
    "\n",
    "Create a tuple containing 3 tuples, each with 3 elements. Print the tuple of tuples.\n"
   ]
  },
  {
   "cell_type": "code",
   "execution_count": 27,
   "id": "373754fb",
   "metadata": {},
   "outputs": [
    {
     "name": "stdout",
     "output_type": "stream",
     "text": [
      "((1, 2, 3), (4, 5, 6), (7, 8, 9))\n"
     ]
    }
   ],
   "source": [
    "tup = ((1,2,3), (4,5,6), (7,8,9))\n",
    "print(tup)"
   ]
  },
  {
   "cell_type": "markdown",
   "id": "53919f0c",
   "metadata": {},
   "source": [
    "\n",
    "### Assignment 10: Tuple and List\n",
    "\n",
    "Create a tuple with the first 5 positive integers. Convert it to a list, append the number 6, and convert it back to a tuple. Print the resulting tuple.\n"
   ]
  },
  {
   "cell_type": "code",
   "execution_count": null,
   "id": "48ab49f6",
   "metadata": {},
   "outputs": [],
   "source": [
    "tpl = (1, 2, 3, 4, 5)\n",
    "lst = list(tpl)\n",
    "lst.append(6)\n",
    "tpl = tuple(lst)\n",
    "print(tpl)"
   ]
  },
  {
   "cell_type": "markdown",
   "id": "8b54a87c",
   "metadata": {},
   "source": [
    "\n",
    "### Assignment 11: Tuple and String\n",
    "\n",
    "Create a tuple with the characters of a string. Join the tuple elements into a single string. Print the string.\n"
   ]
  },
  {
   "cell_type": "code",
   "execution_count": 51,
   "id": "e83a8705",
   "metadata": {},
   "outputs": [
    {
     "name": "stdout",
     "output_type": "stream",
     "text": [
      "Ali Sameed\n"
     ]
    }
   ],
   "source": [
    "char_tuple = (\"A\", \"l\", \"i\", \" \", \"S\", \"a\", \"m\", \"e\", \"e\", \"d\")\n",
    "result = \"\".join(char_tuple)\n",
    "print(result)\n"
   ]
  },
  {
   "cell_type": "markdown",
   "id": "6a3d6f66",
   "metadata": {},
   "source": [
    "\n",
    "### Assignment 12: Nested Tuple Iteration\n",
    "\n",
    "Create a nested tuple and iterate over the elements, printing each element.\n"
   ]
  },
  {
   "cell_type": "code",
   "execution_count": 53,
   "id": "853da11c",
   "metadata": {},
   "outputs": [
    {
     "name": "stdout",
     "output_type": "stream",
     "text": [
      "1 2 3 \n",
      "4 5 6 \n",
      "6 7 8 \n"
     ]
    }
   ],
   "source": [
    "nested_tuple = ((1, 2, 3), (4, 5, 6), (6, 7, 8))\n",
    "\n",
    "for sub_tuple in nested_tuple:\n",
    "    for item in sub_tuple:\n",
    "        print(item, end=\" \")\n",
    "    print()    \n"
   ]
  }
 ],
 "metadata": {
  "kernelspec": {
   "display_name": "Python 3",
   "language": "python",
   "name": "python3"
  },
  "language_info": {
   "codemirror_mode": {
    "name": "ipython",
    "version": 3
   },
   "file_extension": ".py",
   "mimetype": "text/x-python",
   "name": "python",
   "nbconvert_exporter": "python",
   "pygments_lexer": "ipython3",
   "version": "3.12.0"
  }
 },
 "nbformat": 4,
 "nbformat_minor": 5
}
