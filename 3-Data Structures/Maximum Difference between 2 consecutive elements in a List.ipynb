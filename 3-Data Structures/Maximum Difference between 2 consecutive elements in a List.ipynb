{
 "cells": [
  {
   "cell_type": "markdown",
   "metadata": {},
   "source": [
    "Maximum Difference between 2 consecutive elements in a List\n",
    "Find Maximum Difference Between Two Consecutive Elements (Brute Force Approach)\n",
    "\n",
    "You are given a list of integers. Write a Python program to find the maximum difference between two consecutive elements in the list using a brute-force approach. The difference is defined as the absolute value of the difference between two consecutive elements.\n",
    "\n",
    "Parameters:\n",
    "\n",
    "lst (List of integers): A list of integers.\n",
    "\n",
    "Returns:\n",
    "\n",
    "An integer representing the maximum difference between two consecutive elements.\n",
    "\n",
    "Example:\n",
    "\n",
    "Input: lst = [1, 7, 3, 10, 5]\n",
    "Output: 7\n",
    "\n",
    "The maximum difference is between 3 and 10 (i.e., |3 - 10| = 7).\n",
    "\n",
    "Input: lst = [10, 11, 15, 3]\n",
    "Output: 12\n",
    "\n",
    "The maximum difference is between 15 and 3 (i.e., |15 - 3| = 12)."
   ]
  },
  {
   "cell_type": "code",
   "execution_count": 3,
   "metadata": {},
   "outputs": [
    {
     "name": "stdout",
     "output_type": "stream",
     "text": [
      "7\n"
     ]
    }
   ],
   "source": [
    "def max_consecutive_difference(lst):\n",
    "    if len(lst) < 2:\n",
    "        return 0\n",
    "    \n",
    "    max_diff = 0\n",
    "    for i in range(len(lst)-1):\n",
    "        diff = abs(lst[i]-lst[i+1])\n",
    "\n",
    "        if max_diff<diff:\n",
    "            max_diff = diff\n",
    "\n",
    "    return max_diff\n",
    "\n",
    "\n",
    "lst = [1, 7, 3, 10, 5]\n",
    "print(max_consecutive_difference(lst))"
   ]
  },
  {
   "cell_type": "code",
   "execution_count": null,
   "metadata": {},
   "outputs": [],
   "source": []
  }
 ],
 "metadata": {
  "kernelspec": {
   "display_name": "Python 3",
   "language": "python",
   "name": "python3"
  },
  "language_info": {
   "codemirror_mode": {
    "name": "ipython",
    "version": 3
   },
   "file_extension": ".py",
   "mimetype": "text/x-python",
   "name": "python",
   "nbconvert_exporter": "python",
   "pygments_lexer": "ipython3",
   "version": "3.12.0"
  }
 },
 "nbformat": 4,
 "nbformat_minor": 2
}
