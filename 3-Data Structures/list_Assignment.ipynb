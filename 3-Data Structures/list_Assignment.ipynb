{
 "cells": [
  {
   "cell_type": "markdown",
   "metadata": {},
   "source": [
    "# Module 3: Data Structures Assignments\n",
    "## Lesson 3.1: Lists\n",
    "### Assignment 1: Creating and Accessing Lists\n",
    "\n",
    "Create a list of the first 20 positive integers. Print the list.\n",
    "\n",
    "### Assignment 2: Accessing List Elements\n",
    "\n",
    "Print the first, middle, and last elements of the list created in Assignment 1.\n",
    "\n",
    "### Assignment 3: List Slicing\n",
    "\n",
    "Print the first five elements, the last five elements, and the elements from index 5 to 15 of the list created in Assignment 1.\n",
    "\n",
    "### Assignment 4: List Comprehensions\n",
    "\n",
    "Create a new list containing the squares of the first 10 positive integers using a list comprehension. Print the new list.\n",
    "\n",
    "### Assignment 5: Filtering Lists\n",
    "\n",
    "Create a new list containing only the even numbers from the list created in Assignment 1 using a list comprehension. Print the new list.\n",
    "\n",
    "### Assignment 6: List Methods\n",
    "\n",
    "Create a list of random numbers and sort it in ascending and descending order. Remove the duplicates from the list and print the modified list.\n",
    "\n",
    "### Assignment 7: Nested Lists\n",
    "\n",
    "Create a nested list representing a 3x3 matrix and print the matrix. Access and print the element at the second row and third column.\n",
    "\n",
    "### Assignment 8: List Manipulation\n",
    "\n",
    "Create a list of the first 10 positive integers. Remove the elements at indices 2, 4, and 6, and insert the element '99' at index 5. Print the modified list.\n",
    "\n"
   ]
  },
  {
   "cell_type": "code",
   "execution_count": 4,
   "metadata": {},
   "outputs": [
    {
     "name": "stdout",
     "output_type": "stream",
     "text": [
      "[1, 2, 3, 4, 5, 6, 7, 8, 9, 10, 11, 12, 13, 14, 15, 16, 17, 18, 19, 20]\n"
     ]
    }
   ],
   "source": [
    "#assignment 1\n",
    "\n",
    "list = [i+1 for i in range(20) ]\n",
    "print(list)"
   ]
  },
  {
   "cell_type": "code",
   "execution_count": 8,
   "id": "77709835",
   "metadata": {},
   "outputs": [
    {
     "name": "stdout",
     "output_type": "stream",
     "text": [
      "First: 1\n",
      "First: 11\n",
      "Last: 20\n"
     ]
    }
   ],
   "source": [
    "#assignment 2\n",
    "\n",
    "print(f\"First: {list[0]}\")\n",
    "print(f\"First: {list[10]}\")\n",
    "print(f\"Last: {list[-1]}\")\n"
   ]
  },
  {
   "cell_type": "code",
   "execution_count": 13,
   "id": "f17304d6",
   "metadata": {},
   "outputs": [
    {
     "name": "stdout",
     "output_type": "stream",
     "text": [
      "[1, 2, 3, 4, 5]\n",
      "[16, 17, 18, 19, 20]\n",
      "[6, 7, 8, 9, 10, 11, 12, 13, 14, 15]\n"
     ]
    }
   ],
   "source": [
    "#assignment 3\n",
    "\n",
    "print(list[:5])\n",
    "print(list[15:])\n",
    "print(list[5:15])"
   ]
  },
  {
   "cell_type": "code",
   "execution_count": 15,
   "id": "376a6193",
   "metadata": {},
   "outputs": [
    {
     "name": "stdout",
     "output_type": "stream",
     "text": [
      "[1, 4, 9, 16, 25, 36, 49, 64, 81, 100]\n"
     ]
    }
   ],
   "source": [
    "#assignment 4\n",
    "\n",
    "squares = [i**2 for i in range(1,11)]\n",
    "print(squares)"
   ]
  },
  {
   "cell_type": "code",
   "execution_count": 18,
   "id": "a0e6d6d9",
   "metadata": {},
   "outputs": [
    {
     "name": "stdout",
     "output_type": "stream",
     "text": [
      "[2, 4, 6, 8, 10, 12, 14, 16, 18, 20]\n"
     ]
    }
   ],
   "source": [
    "#assignment 5\n",
    "\n",
    "even = [i for i in list if i%2==0]\n",
    "print(even)"
   ]
  },
  {
   "cell_type": "code",
   "execution_count": 34,
   "id": "7581547b",
   "metadata": {},
   "outputs": [
    {
     "name": "stdout",
     "output_type": "stream",
     "text": [
      "[15, 14, 12, 10, 6, 18, 7, 6, 19, 9, 18, 3, 12, 15, 19, 17, 2, 0, 18, 7]\n",
      "[0, 2, 3, 6, 6, 7, 7, 9, 10, 12, 12, 14, 15, 15, 17, 18, 18, 18, 19, 19]\n",
      "[19, 19, 18, 18, 18, 17, 15, 15, 14, 12, 12, 10, 9, 7, 7, 6, 6, 3, 2, 0]\n",
      "{0, 2, 3, 6, 7, 9, 10, 12, 14, 15, 17, 18, 19}\n"
     ]
    }
   ],
   "source": [
    "## Assignment 6: List Methods\n",
    "\n",
    "#Create a list of random numbers and sort it in ascending and descending order. Remove the duplicates from the list and print the modified list.\n",
    "from random import random \n",
    "import math\n",
    "\n",
    "ran_list = [math.floor(random()*20) for i in range(20)] \n",
    "print(ran_list)\n",
    "ran_list.sort()\n",
    "print(ran_list)\n",
    "ran_list.reverse()\n",
    "print(ran_list)\n",
    "modified = set(ran_list)\n",
    "print(modified)"
   ]
  },
  {
   "cell_type": "code",
   "execution_count": 40,
   "id": "352e6eb7",
   "metadata": {},
   "outputs": [
    {
     "name": "stdout",
     "output_type": "stream",
     "text": [
      "Matrix\n",
      "[1, 2, 3]\n",
      "[4, 5, 6]\n",
      "[7, 8, 9]\n",
      "the element at the second row and third column: 6\n"
     ]
    }
   ],
   "source": [
    "### Assignment 7: Nested Lists\n",
    "\n",
    "#Create a nested list representing a 3x3 matrix and print the matrix. Access and print the element at the second row and third column.\n",
    "\n",
    "matrix = [[1,2,3], [4,5,6], [7,8,9]]\n",
    "print(\"Matrix\")\n",
    "\n",
    "for row in matrix:\n",
    "    print(row)\n",
    "\n",
    "print(f\"the element at the second row and third column: {matrix[1][2]}\")"
   ]
  },
  {
   "cell_type": "code",
   "execution_count": 41,
   "id": "14429703",
   "metadata": {},
   "outputs": [
    {
     "name": "stdout",
     "output_type": "stream",
     "text": [
      "[1, 2, 3, 4, 5, 6, 7, 8, 9, 10]\n",
      "[1, 2, 4, 5, 7, 99, 8, 10]\n"
     ]
    }
   ],
   "source": [
    "### Assignment 8: List Manipulation\n",
    "\n",
    "# Create a list of the first 10 positive integers. Remove the elements at indices 2, 4, and 6, and insert the element '99' at index 5. \n",
    "# Print the modified list.\n",
    "\n",
    "list = [i+1 for i in range(10) ]\n",
    "print(list)\n",
    "del list[2]\n",
    "del list[4]\n",
    "del list[6]\n",
    "\n",
    "list.insert(5, 99)\n",
    "print(list)"
   ]
  },
  {
   "cell_type": "code",
   "execution_count": null,
   "id": "cbfadaa8",
   "metadata": {},
   "outputs": [],
   "source": [
    "\n"
   ]
  }
 ],
 "metadata": {
  "kernelspec": {
   "display_name": "Python 3",
   "language": "python",
   "name": "python3"
  },
  "language_info": {
   "codemirror_mode": {
    "name": "ipython",
    "version": 3
   },
   "file_extension": ".py",
   "mimetype": "text/x-python",
   "name": "python",
   "nbconvert_exporter": "python",
   "pygments_lexer": "ipython3",
   "version": "3.12.0"
  }
 },
 "nbformat": 4,
 "nbformat_minor": 5
}
